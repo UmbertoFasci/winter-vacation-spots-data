{
 "cells": [
  {
   "cell_type": "markdown",
   "metadata": {},
   "source": [
    "### Import Libraries"
   ]
  },
  {
   "cell_type": "code",
   "execution_count": 1,
   "metadata": {},
   "outputs": [],
   "source": [
    "import pandas as pd\n",
    "import numpy as np\n",
    "import time\n",
    "\n",
    "from geopy.geocoders import Nominatim\n",
    "import random\n",
    "import requests\n",
    "from bs4 import BeautifulSoup\n",
    "\n",
    "import plotly.express as px\n",
    "import plotly.graph_objects as go\n",
    "import polyline"
   ]
  },
  {
   "cell_type": "markdown",
   "metadata": {},
   "source": [
    "# Data Ingest & Initial Processing"
   ]
  },
  {
   "cell_type": "markdown",
   "metadata": {},
   "source": [
    "## Data Sourcing\n",
    "For the purpose of optimizing routes for ski resorts and areas in New York state. The names of these areas are to be parsed from the following website.\n",
    "\n",
    "[Ski Central]('https://www.skicentral.com/') - A popular site to review popular ski destinations worldwide.\n",
    "\n",
    "For the purposes of this optimization, we have restricted the area selection to New York state. The state with the most ski resorts and areas in the US. Obtaining these names and their location data is a straight forward procedure."
   ]
  },
  {
   "cell_type": "markdown",
   "metadata": {},
   "source": [
    "### Web Scraping (Resort Names)"
   ]
  },
  {
   "cell_type": "code",
   "execution_count": 2,
   "metadata": {},
   "outputs": [
    {
     "name": "stdout",
     "output_type": "stream",
     "text": [
      "[<div class=\"resorttitle\"><a href=\"whiteface.html\">Whiteface Mountain</a></div>, <div class=\"resorttitle\"><a href=\"goremountain.html\">Gore Mountain</a></div>, <div class=\"resorttitle\"><a href=\"huntermountain.html\">Hunter Mountain</a></div>, <div class=\"resorttitle\"><a href=\"belleayre.html\">Belleayre Mountain</a></div>, <div class=\"resorttitle\"><a href=\"holidayvalley.html\">Holiday Valley</a></div>, <div class=\"resorttitle\"><a href=\"skiwindham.html\">Windham Mountain</a></div>, <div class=\"resorttitle\"><a href=\"greekpeak.html\">Greek Peak</a></div>, <div class=\"resorttitle\"><a href=\"catamount.html\">Catamount Ski Area</a></div>, <div class=\"resorttitle\"><a href=\"peeknpeak.html\">Peek'n Peak Resort</a></div>, <div class=\"resorttitle\"><a href=\"holimont.html\">HoliMont</a></div>, <div class=\"resorttitle\"><a href=\"beartownskiarea.html\">Beartown Ski Area</a></div>, <div class=\"resorttitle\"><a href=\"brantlingskiandsnowboardcenter.html\">Brantling Ski and Snowboard Center</a></div>, <div class=\"resorttitle\"><a href=\"bristolmountain.html\">Bristol Mountain</a></div>, <div class=\"resorttitle\"><a href=\"buffaloskiclub.html\">Buffalo Ski Club</a></div>, <div class=\"resorttitle\"><a href=\"cazenoviaskiclub.html\">Cazenovia Ski Club</a></div>, <div class=\"resorttitle\"><a href=\"cockaigneskiarea.html\">Cockaigne Ski Area</a></div>, <div class=\"resorttitle\"><a href=\"dryhill.html\">Dry Hill Ski Area</a></div>, <div class=\"resorttitle\"><a href=\"fourseasonsgolfandskicenter.html\">Four Seasons Golf and Ski Center</a></div>, <div class=\"resorttitle\"><a href=\"hickoryskicenter.html\">Hickory Ski Center</a></div>, <div class=\"resorttitle\"><a href=\"holidaymountain.html\">Holiday Mountain</a></div>, <div class=\"resorttitle\"><a href=\"hunthollowskiclub.html\">Hunt Hollow Ski Club</a></div>, <div class=\"resorttitle\"><a href=\"kissingbridge.html\">Kissing Bridge</a></div>, <div class=\"resorttitle\"><a href=\"labradormountain.html\">Labrador Mountain</a></div>, <div class=\"resorttitle\"><a href=\"mapleskiridge.html\">Maple Ski Ridge</a></div>, <div class=\"resorttitle\"><a href=\"mccauleymountain.html\">McCauley Mountain</a></div>, <div class=\"resorttitle\"><a href=\"mountpisgah.html\">Mount Pisgah</a></div>, <div class=\"resorttitle\"><a href=\"mtpeterskiarea.html\">Mt. Peter Ski Area</a></div>, <div class=\"resorttitle\"><a href=\"oakmountainskicenter.html\">Oak Mountain Ski Center</a></div>, <div class=\"resorttitle\"><a href=\"plattekill.html\">Plattekill</a></div>, <div class=\"resorttitle\"><a href=\"polarpeakskibowl.html\">Polar Peak Ski Bowl</a></div>, <div class=\"resorttitle\"><a href=\"royalmountainskiarea.html\">Royal Mountain Ski Area</a></div>, <div class=\"resorttitle\"><a href=\"bigtupper.html\">Ski Big Tupper Again</a></div>, <div class=\"resorttitle\"><a href=\"skiventure.html\">Ski Venture</a></div>, <div class=\"resorttitle\"><a href=\"snowridgeskiarea.html\">Snow Ridge Ski Area</a></div>, <div class=\"resorttitle\"><a href=\"songmountain.html\">Song Mountain</a></div>, <div class=\"resorttitle\"><a href=\"swainskicenter.html\">Swain Resort</a></div>, <div class=\"resorttitle\"><a href=\"thunderridgeskiarea.html\">Thunder Ridge Ski Area</a></div>, <div class=\"resorttitle\"><a href=\"titus.html\">Titus Mountain</a></div>, <div class=\"resorttitle\"><a href=\"westmountainskicenter.html\">West Mountain Ski Center</a></div>, <div class=\"resorttitle\"><a href=\"willardmountainnewyork.html\">Willard Mountain</a></div>, <div class=\"resorttitle\"><a href=\"woodsvalleyskiarea.html\">Woods Valley Ski Area</a></div>]\n",
      "['Whiteface Mountain', 'Gore Mountain', 'Hunter Mountain', 'Belleayre Mountain', 'Holiday Valley', 'Windham Mountain', 'Greek Peak', 'Catamount Ski Area', \"Peek'n Peak Resort\", 'HoliMont', 'Beartown Ski Area', 'Brantling Ski and Snowboard Center', 'Bristol Mountain', 'Buffalo Ski Club', 'Cazenovia Ski Club', 'Cockaigne Ski Area', 'Dry Hill Ski Area', 'Four Seasons Golf and Ski Center', 'Hickory Ski Center', 'Holiday Mountain', 'Hunt Hollow Ski Club', 'Kissing Bridge', 'Labrador Mountain', 'Maple Ski Ridge', 'McCauley Mountain', 'Mount Pisgah', 'Mt. Peter Ski Area', 'Oak Mountain Ski Center', 'Plattekill', 'Polar Peak Ski Bowl', 'Royal Mountain Ski Area', 'Ski Big Tupper Again', 'Ski Venture', 'Snow Ridge Ski Area', 'Song Mountain', 'Swain Resort', 'Thunder Ridge Ski Area', 'Titus Mountain', 'West Mountain Ski Center', 'Willard Mountain', 'Woods Valley Ski Area']\n"
     ]
    }
   ],
   "source": [
    "base_url = \"https://www.skicentral.com\"\n",
    "response = requests.get(f\"{base_url}/newyork.html\")\n",
    "soup = BeautifulSoup(response.text, 'html.parser')\n",
    "\n",
    "resort_titles = soup.find_all('div', class_='resorttitle')\n",
    "resort_names = [title.text.strip() for title in resort_titles]\n",
    "print(resort_titles)\n",
    "print(resort_names)"
   ]
  },
  {
   "cell_type": "markdown",
   "metadata": {},
   "source": [
    "### Parse and collect resort data"
   ]
  },
  {
   "cell_type": "code",
   "execution_count": 3,
   "metadata": {},
   "outputs": [
    {
     "name": "stdout",
     "output_type": "stream",
     "text": [
      "[{'name': 'Whiteface Mountain', 'url': 'https://www.skicentral.com/whiteface.html'}, {'name': 'Gore Mountain', 'url': 'https://www.skicentral.com/goremountain.html'}, {'name': 'Hunter Mountain', 'url': 'https://www.skicentral.com/huntermountain.html'}, {'name': 'Belleayre Mountain', 'url': 'https://www.skicentral.com/belleayre.html'}, {'name': 'Holiday Valley', 'url': 'https://www.skicentral.com/holidayvalley.html'}, {'name': 'Windham Mountain', 'url': 'https://www.skicentral.com/skiwindham.html'}, {'name': 'Greek Peak', 'url': 'https://www.skicentral.com/greekpeak.html'}, {'name': 'Catamount Ski Area', 'url': 'https://www.skicentral.com/catamount.html'}, {'name': \"Peek'n Peak Resort\", 'url': 'https://www.skicentral.com/peeknpeak.html'}, {'name': 'HoliMont', 'url': 'https://www.skicentral.com/holimont.html'}, {'name': 'Beartown Ski Area', 'url': 'https://www.skicentral.com/beartownskiarea.html'}, {'name': 'Brantling Ski and Snowboard Center', 'url': 'https://www.skicentral.com/brantlingskiandsnowboardcenter.html'}, {'name': 'Bristol Mountain', 'url': 'https://www.skicentral.com/bristolmountain.html'}, {'name': 'Buffalo Ski Club', 'url': 'https://www.skicentral.com/buffaloskiclub.html'}, {'name': 'Cazenovia Ski Club', 'url': 'https://www.skicentral.com/cazenoviaskiclub.html'}, {'name': 'Cockaigne Ski Area', 'url': 'https://www.skicentral.com/cockaigneskiarea.html'}, {'name': 'Dry Hill Ski Area', 'url': 'https://www.skicentral.com/dryhill.html'}, {'name': 'Four Seasons Golf and Ski Center', 'url': 'https://www.skicentral.com/fourseasonsgolfandskicenter.html'}, {'name': 'Hickory Ski Center', 'url': 'https://www.skicentral.com/hickoryskicenter.html'}, {'name': 'Holiday Mountain', 'url': 'https://www.skicentral.com/holidaymountain.html'}, {'name': 'Hunt Hollow Ski Club', 'url': 'https://www.skicentral.com/hunthollowskiclub.html'}, {'name': 'Kissing Bridge', 'url': 'https://www.skicentral.com/kissingbridge.html'}, {'name': 'Labrador Mountain', 'url': 'https://www.skicentral.com/labradormountain.html'}, {'name': 'Maple Ski Ridge', 'url': 'https://www.skicentral.com/mapleskiridge.html'}, {'name': 'McCauley Mountain', 'url': 'https://www.skicentral.com/mccauleymountain.html'}, {'name': 'Mount Pisgah', 'url': 'https://www.skicentral.com/mountpisgah.html'}, {'name': 'Mt. Peter Ski Area', 'url': 'https://www.skicentral.com/mtpeterskiarea.html'}, {'name': 'Oak Mountain Ski Center', 'url': 'https://www.skicentral.com/oakmountainskicenter.html'}, {'name': 'Plattekill', 'url': 'https://www.skicentral.com/plattekill.html'}, {'name': 'Polar Peak Ski Bowl', 'url': 'https://www.skicentral.com/polarpeakskibowl.html'}, {'name': 'Royal Mountain Ski Area', 'url': 'https://www.skicentral.com/royalmountainskiarea.html'}, {'name': 'Ski Big Tupper Again', 'url': 'https://www.skicentral.com/bigtupper.html'}, {'name': 'Ski Venture', 'url': 'https://www.skicentral.com/skiventure.html'}, {'name': 'Snow Ridge Ski Area', 'url': 'https://www.skicentral.com/snowridgeskiarea.html'}, {'name': 'Song Mountain', 'url': 'https://www.skicentral.com/songmountain.html'}, {'name': 'Swain Resort', 'url': 'https://www.skicentral.com/swainskicenter.html'}, {'name': 'Thunder Ridge Ski Area', 'url': 'https://www.skicentral.com/thunderridgeskiarea.html'}, {'name': 'Titus Mountain', 'url': 'https://www.skicentral.com/titus.html'}, {'name': 'West Mountain Ski Center', 'url': 'https://www.skicentral.com/westmountainskicenter.html'}, {'name': 'Willard Mountain', 'url': 'https://www.skicentral.com/willardmountainnewyork.html'}, {'name': 'Woods Valley Ski Area', 'url': 'https://www.skicentral.com/woodsvalleyskiarea.html'}]\n"
     ]
    }
   ],
   "source": [
    "resorts = []\n",
    "for title in resort_titles:\n",
    "    link = title.find('a')\n",
    "    if link:\n",
    "        resort_url = base_url + \"/\" + link.get('href')\n",
    "        resorts.append({\n",
    "        'name': title.text.strip(),\n",
    "        'url': resort_url\n",
    "    })\n",
    "print(resorts)"
   ]
  },
  {
   "cell_type": "code",
   "execution_count": 4,
   "metadata": {},
   "outputs": [
    {
     "data": {
      "text/html": [
       "<div>\n",
       "<style scoped>\n",
       "    .dataframe tbody tr th:only-of-type {\n",
       "        vertical-align: middle;\n",
       "    }\n",
       "\n",
       "    .dataframe tbody tr th {\n",
       "        vertical-align: top;\n",
       "    }\n",
       "\n",
       "    .dataframe thead th {\n",
       "        text-align: right;\n",
       "    }\n",
       "</style>\n",
       "<table border=\"1\" class=\"dataframe\">\n",
       "  <thead>\n",
       "    <tr style=\"text-align: right;\">\n",
       "      <th></th>\n",
       "      <th>name</th>\n",
       "      <th>url</th>\n",
       "      <th>latitude</th>\n",
       "      <th>longitude</th>\n",
       "      <th>address</th>\n",
       "      <th>vertical_rise</th>\n",
       "      <th>base_elevation</th>\n",
       "      <th>summit_elevation</th>\n",
       "      <th>annual_snowfall</th>\n",
       "      <th>number_of_trails</th>\n",
       "      <th>skiable_acres</th>\n",
       "      <th>longest_run</th>\n",
       "      <th>snowmaking</th>\n",
       "    </tr>\n",
       "  </thead>\n",
       "  <tbody>\n",
       "    <tr>\n",
       "      <th>0</th>\n",
       "      <td>Whiteface Mountain</td>\n",
       "      <td>https://www.skicentral.com/whiteface.html</td>\n",
       "      <td>44.365784</td>\n",
       "      <td>-73.902984</td>\n",
       "      <td>Whiteface Mountain, Essex County, New York, Un...</td>\n",
       "      <td>3430 ft</td>\n",
       "      <td>1220 ft</td>\n",
       "      <td>4650 ft</td>\n",
       "      <td>190 inches</td>\n",
       "      <td>90</td>\n",
       "      <td>288</td>\n",
       "      <td>2.1 miles / 3.4 km</td>\n",
       "      <td>98%</td>\n",
       "    </tr>\n",
       "    <tr>\n",
       "      <th>1</th>\n",
       "      <td>Gore Mountain</td>\n",
       "      <td>https://www.skicentral.com/goremountain.html</td>\n",
       "      <td>43.672954</td>\n",
       "      <td>-74.048853</td>\n",
       "      <td>Gore Mountain, Town of Johnsburg, Warren Count...</td>\n",
       "      <td>2537 ft</td>\n",
       "      <td>998 ft</td>\n",
       "      <td>3600 ft</td>\n",
       "      <td>150 inches</td>\n",
       "      <td>107</td>\n",
       "      <td>439</td>\n",
       "      <td>4.4 miles / 7.1 km</td>\n",
       "      <td>97%</td>\n",
       "    </tr>\n",
       "    <tr>\n",
       "      <th>2</th>\n",
       "      <td>Hunter Mountain</td>\n",
       "      <td>https://www.skicentral.com/huntermountain.html</td>\n",
       "      <td>42.177866</td>\n",
       "      <td>-74.230422</td>\n",
       "      <td>Hunter Mountain, Town of Hunter, Greene County...</td>\n",
       "      <td>1600 ft</td>\n",
       "      <td>1600 ft</td>\n",
       "      <td>3200 ft</td>\n",
       "      <td>125 inches</td>\n",
       "      <td>58</td>\n",
       "      <td>240</td>\n",
       "      <td>n/a</td>\n",
       "      <td>100%</td>\n",
       "    </tr>\n",
       "    <tr>\n",
       "      <th>3</th>\n",
       "      <td>Belleayre Mountain</td>\n",
       "      <td>https://www.skicentral.com/belleayre.html</td>\n",
       "      <td>42.126893</td>\n",
       "      <td>-74.474075</td>\n",
       "      <td>Belleayre Mountain Day Use Area, Pine Hill, To...</td>\n",
       "      <td>1404 ft</td>\n",
       "      <td>2025 ft</td>\n",
       "      <td>3429 ft</td>\n",
       "      <td>141 inches</td>\n",
       "      <td>50</td>\n",
       "      <td>171</td>\n",
       "      <td>n/a</td>\n",
       "      <td>96%</td>\n",
       "    </tr>\n",
       "    <tr>\n",
       "      <th>4</th>\n",
       "      <td>Holiday Valley</td>\n",
       "      <td>https://www.skicentral.com/holidayvalley.html</td>\n",
       "      <td>42.263145</td>\n",
       "      <td>-78.663611</td>\n",
       "      <td>Holiday Valley, Town of Ellicottville, Cattara...</td>\n",
       "      <td>750 ft</td>\n",
       "      <td>1500 ft</td>\n",
       "      <td>2250 ft</td>\n",
       "      <td>180 inches</td>\n",
       "      <td>58</td>\n",
       "      <td>290</td>\n",
       "      <td>0.8 miles / 1.3 km</td>\n",
       "      <td>95%</td>\n",
       "    </tr>\n",
       "  </tbody>\n",
       "</table>\n",
       "</div>"
      ],
      "text/plain": [
       "                 name                                             url  \\\n",
       "0  Whiteface Mountain       https://www.skicentral.com/whiteface.html   \n",
       "1       Gore Mountain    https://www.skicentral.com/goremountain.html   \n",
       "2     Hunter Mountain  https://www.skicentral.com/huntermountain.html   \n",
       "3  Belleayre Mountain       https://www.skicentral.com/belleayre.html   \n",
       "4      Holiday Valley   https://www.skicentral.com/holidayvalley.html   \n",
       "\n",
       "    latitude  longitude                                            address  \\\n",
       "0  44.365784 -73.902984  Whiteface Mountain, Essex County, New York, Un...   \n",
       "1  43.672954 -74.048853  Gore Mountain, Town of Johnsburg, Warren Count...   \n",
       "2  42.177866 -74.230422  Hunter Mountain, Town of Hunter, Greene County...   \n",
       "3  42.126893 -74.474075  Belleayre Mountain Day Use Area, Pine Hill, To...   \n",
       "4  42.263145 -78.663611  Holiday Valley, Town of Ellicottville, Cattara...   \n",
       "\n",
       "  vertical_rise base_elevation summit_elevation annual_snowfall  \\\n",
       "0       3430 ft        1220 ft          4650 ft      190 inches   \n",
       "1       2537 ft         998 ft          3600 ft      150 inches   \n",
       "2       1600 ft        1600 ft          3200 ft      125 inches   \n",
       "3       1404 ft        2025 ft          3429 ft      141 inches   \n",
       "4        750 ft        1500 ft          2250 ft      180 inches   \n",
       "\n",
       "  number_of_trails skiable_acres         longest_run snowmaking  \n",
       "0               90           288  2.1 miles / 3.4 km        98%  \n",
       "1              107           439  4.4 miles / 7.1 km        97%  \n",
       "2               58           240                 n/a       100%  \n",
       "3               50           171                 n/a        96%  \n",
       "4               58           290  0.8 miles / 1.3 km        95%  "
      ]
     },
     "execution_count": 4,
     "metadata": {},
     "output_type": "execute_result"
    }
   ],
   "source": [
    "geolocator = Nominatim(user_agent=\"DCJT3_NY_SKI\")\n",
    "\n",
    "for resort in resorts:\n",
    "    location = geolocator.geocode(f\"{resort['name']}, NY\")\n",
    "    if location:\n",
    "        resort['latitude'] = location.latitude\n",
    "        resort['longitude'] = location.longitude\n",
    "        resort['address'] = location.address\n",
    "\n",
    "    # Mountain stats scrape\n",
    "    response = requests.get(resort['url'])\n",
    "    resort_soup = BeautifulSoup(response.text, 'html.parser')\n",
    "    stats_table = resort_soup.find('table', id='mountainstatistics')\n",
    "\n",
    "    if stats_table:\n",
    "        for row in stats_table.find_all('tr'):\n",
    "            cols = row.find_all(['td', 'th'])\n",
    "            if len(cols) == 2:\n",
    "                stat_name = cols[0].text.strip().lower().replace(' ', '_')\n",
    "                stat_value = cols[1].text.strip()\n",
    "                resort[stat_name] = stat_value\n",
    "    time.sleep(1)\n",
    "\n",
    "df = pd.DataFrame(resorts)\n",
    "df.head()"
   ]
  },
  {
   "cell_type": "markdown",
   "metadata": {},
   "source": [
    "# Data Description\n",
    "\n",
    "- **name**: name of the resort as it appears on the web source.\n",
    "- **url**: URL of the resort or ski area as presented on the web source.\n",
    "- **vertical_rise**: a measurement of the total elevation change a skier descends from the highest point to the lowest point on a ski run.\n",
    "- **base_elevation**: a measurment of the altitude at the bottom of the ski resort or ski area, essentially the lowest point of on the mountain accessable to skiers.\n",
    "- **summit_elevation**: a measurement of the height above sea level of the highest point on a mountain.\n",
    "- **annual_snowfall**: the total amount of snow that falls over the course of a year.\n",
    "- **number_of_trails**: the total number of trails on the mountain\n",
    "- **skiable_acres**: the amount of terrain that is accessible by ski.\n",
    "- **longest_run**: a measurement refering to a continuous downhill ski slope that covers the greatest distance from top to bottom on a mountain.\n",
    "- **snowmaking**: a measurement or indication that the ski resort or area creates artifical snow for the purpose producing snow when natural snowfall is limited.\n",
    "- **latitude**: decimal latitude of resort location.\n",
    "- **longitude**: decimal longitude of resort location.\n",
    "- **address**: geolocated address based on query \"`name`, NY\"."
   ]
  },
  {
   "cell_type": "markdown",
   "metadata": {},
   "source": [
    "# Data Processing"
   ]
  },
  {
   "cell_type": "code",
   "execution_count": 5,
   "metadata": {},
   "outputs": [
    {
     "name": "stderr",
     "output_type": "stream",
     "text": [
      "/tmp/ipykernel_6810/1675859879.py:2: SettingWithCopyWarning: \n",
      "A value is trying to be set on a copy of a slice from a DataFrame.\n",
      "Try using .loc[row_indexer,col_indexer] = value instead\n",
      "\n",
      "See the caveats in the documentation: https://pandas.pydata.org/pandas-docs/stable/user_guide/indexing.html#returning-a-view-versus-a-copy\n",
      "  df_clean['vertical_rise_num'] = df_clean['vertical_rise'].str.replace(' ft', '').astype(float)\n"
     ]
    },
    {
     "data": {
      "text/html": [
       "<div>\n",
       "<style scoped>\n",
       "    .dataframe tbody tr th:only-of-type {\n",
       "        vertical-align: middle;\n",
       "    }\n",
       "\n",
       "    .dataframe tbody tr th {\n",
       "        vertical-align: top;\n",
       "    }\n",
       "\n",
       "    .dataframe thead th {\n",
       "        text-align: right;\n",
       "    }\n",
       "</style>\n",
       "<table border=\"1\" class=\"dataframe\">\n",
       "  <thead>\n",
       "    <tr style=\"text-align: right;\">\n",
       "      <th></th>\n",
       "      <th>name</th>\n",
       "      <th>url</th>\n",
       "      <th>latitude</th>\n",
       "      <th>longitude</th>\n",
       "      <th>address</th>\n",
       "      <th>vertical_rise</th>\n",
       "      <th>base_elevation</th>\n",
       "      <th>summit_elevation</th>\n",
       "      <th>annual_snowfall</th>\n",
       "      <th>number_of_trails</th>\n",
       "      <th>skiable_acres</th>\n",
       "      <th>longest_run</th>\n",
       "      <th>snowmaking</th>\n",
       "      <th>vertical_rise_num</th>\n",
       "    </tr>\n",
       "  </thead>\n",
       "  <tbody>\n",
       "    <tr>\n",
       "      <th>0</th>\n",
       "      <td>Whiteface Mountain</td>\n",
       "      <td>https://www.skicentral.com/whiteface.html</td>\n",
       "      <td>44.365784</td>\n",
       "      <td>-73.902984</td>\n",
       "      <td>Whiteface Mountain, Essex County, New York, Un...</td>\n",
       "      <td>3430 ft</td>\n",
       "      <td>1220 ft</td>\n",
       "      <td>4650 ft</td>\n",
       "      <td>190 inches</td>\n",
       "      <td>90</td>\n",
       "      <td>288</td>\n",
       "      <td>2.1 miles / 3.4 km</td>\n",
       "      <td>98%</td>\n",
       "      <td>3430.0</td>\n",
       "    </tr>\n",
       "    <tr>\n",
       "      <th>1</th>\n",
       "      <td>Gore Mountain</td>\n",
       "      <td>https://www.skicentral.com/goremountain.html</td>\n",
       "      <td>43.672954</td>\n",
       "      <td>-74.048853</td>\n",
       "      <td>Gore Mountain, Town of Johnsburg, Warren Count...</td>\n",
       "      <td>2537 ft</td>\n",
       "      <td>998 ft</td>\n",
       "      <td>3600 ft</td>\n",
       "      <td>150 inches</td>\n",
       "      <td>107</td>\n",
       "      <td>439</td>\n",
       "      <td>4.4 miles / 7.1 km</td>\n",
       "      <td>97%</td>\n",
       "      <td>2537.0</td>\n",
       "    </tr>\n",
       "    <tr>\n",
       "      <th>2</th>\n",
       "      <td>Hunter Mountain</td>\n",
       "      <td>https://www.skicentral.com/huntermountain.html</td>\n",
       "      <td>42.177866</td>\n",
       "      <td>-74.230422</td>\n",
       "      <td>Hunter Mountain, Town of Hunter, Greene County...</td>\n",
       "      <td>1600 ft</td>\n",
       "      <td>1600 ft</td>\n",
       "      <td>3200 ft</td>\n",
       "      <td>125 inches</td>\n",
       "      <td>58</td>\n",
       "      <td>240</td>\n",
       "      <td>n/a</td>\n",
       "      <td>100%</td>\n",
       "      <td>1600.0</td>\n",
       "    </tr>\n",
       "    <tr>\n",
       "      <th>3</th>\n",
       "      <td>Belleayre Mountain</td>\n",
       "      <td>https://www.skicentral.com/belleayre.html</td>\n",
       "      <td>42.126893</td>\n",
       "      <td>-74.474075</td>\n",
       "      <td>Belleayre Mountain Day Use Area, Pine Hill, To...</td>\n",
       "      <td>1404 ft</td>\n",
       "      <td>2025 ft</td>\n",
       "      <td>3429 ft</td>\n",
       "      <td>141 inches</td>\n",
       "      <td>50</td>\n",
       "      <td>171</td>\n",
       "      <td>n/a</td>\n",
       "      <td>96%</td>\n",
       "      <td>1404.0</td>\n",
       "    </tr>\n",
       "    <tr>\n",
       "      <th>4</th>\n",
       "      <td>Holiday Valley</td>\n",
       "      <td>https://www.skicentral.com/holidayvalley.html</td>\n",
       "      <td>42.263145</td>\n",
       "      <td>-78.663611</td>\n",
       "      <td>Holiday Valley, Town of Ellicottville, Cattara...</td>\n",
       "      <td>750 ft</td>\n",
       "      <td>1500 ft</td>\n",
       "      <td>2250 ft</td>\n",
       "      <td>180 inches</td>\n",
       "      <td>58</td>\n",
       "      <td>290</td>\n",
       "      <td>0.8 miles / 1.3 km</td>\n",
       "      <td>95%</td>\n",
       "      <td>750.0</td>\n",
       "    </tr>\n",
       "    <tr>\n",
       "      <th>5</th>\n",
       "      <td>Windham Mountain</td>\n",
       "      <td>https://www.skicentral.com/skiwindham.html</td>\n",
       "      <td>42.293926</td>\n",
       "      <td>-74.261312</td>\n",
       "      <td>Windham Mountain Club, Town of Windham, Greene...</td>\n",
       "      <td>1600 ft</td>\n",
       "      <td>1500 ft</td>\n",
       "      <td>3100 ft</td>\n",
       "      <td>105 inches</td>\n",
       "      <td>54</td>\n",
       "      <td>285</td>\n",
       "      <td>n/a</td>\n",
       "      <td>97%</td>\n",
       "      <td>1600.0</td>\n",
       "    </tr>\n",
       "    <tr>\n",
       "      <th>6</th>\n",
       "      <td>Greek Peak</td>\n",
       "      <td>https://www.skicentral.com/greekpeak.html</td>\n",
       "      <td>42.502320</td>\n",
       "      <td>-76.148046</td>\n",
       "      <td>Greek Peak Mountain Resort, 2000, South Hill R...</td>\n",
       "      <td>952 ft</td>\n",
       "      <td>1148 ft</td>\n",
       "      <td>2100 ft</td>\n",
       "      <td>122 inches</td>\n",
       "      <td>38</td>\n",
       "      <td>220</td>\n",
       "      <td>1.5 miles / 2.4 km</td>\n",
       "      <td>83%</td>\n",
       "      <td>952.0</td>\n",
       "    </tr>\n",
       "    <tr>\n",
       "      <th>8</th>\n",
       "      <td>Peek'n Peak Resort</td>\n",
       "      <td>https://www.skicentral.com/peeknpeak.html</td>\n",
       "      <td>42.060463</td>\n",
       "      <td>-79.744066</td>\n",
       "      <td>Peek'n Peak Resort, Abbey Lane, Town of French...</td>\n",
       "      <td>400 ft</td>\n",
       "      <td>1400 ft</td>\n",
       "      <td>1800 ft</td>\n",
       "      <td>200 inches</td>\n",
       "      <td>27</td>\n",
       "      <td>105</td>\n",
       "      <td>0 miles / 1 km</td>\n",
       "      <td>100%</td>\n",
       "      <td>400.0</td>\n",
       "    </tr>\n",
       "    <tr>\n",
       "      <th>10</th>\n",
       "      <td>Beartown Ski Area</td>\n",
       "      <td>https://www.skicentral.com/beartownskiarea.html</td>\n",
       "      <td>44.764111</td>\n",
       "      <td>-73.584055</td>\n",
       "      <td>Beartown Ski Area, Beartown Road, Beartown, To...</td>\n",
       "      <td>150 ft</td>\n",
       "      <td>n/a</td>\n",
       "      <td>n/a</td>\n",
       "      <td>n/a</td>\n",
       "      <td>9</td>\n",
       "      <td>n/a</td>\n",
       "      <td>n/a</td>\n",
       "      <td>yes</td>\n",
       "      <td>150.0</td>\n",
       "    </tr>\n",
       "  </tbody>\n",
       "</table>\n",
       "</div>"
      ],
      "text/plain": [
       "                  name                                              url  \\\n",
       "0   Whiteface Mountain        https://www.skicentral.com/whiteface.html   \n",
       "1        Gore Mountain     https://www.skicentral.com/goremountain.html   \n",
       "2      Hunter Mountain   https://www.skicentral.com/huntermountain.html   \n",
       "3   Belleayre Mountain        https://www.skicentral.com/belleayre.html   \n",
       "4       Holiday Valley    https://www.skicentral.com/holidayvalley.html   \n",
       "5     Windham Mountain       https://www.skicentral.com/skiwindham.html   \n",
       "6           Greek Peak        https://www.skicentral.com/greekpeak.html   \n",
       "8   Peek'n Peak Resort        https://www.skicentral.com/peeknpeak.html   \n",
       "10   Beartown Ski Area  https://www.skicentral.com/beartownskiarea.html   \n",
       "\n",
       "     latitude  longitude                                            address  \\\n",
       "0   44.365784 -73.902984  Whiteface Mountain, Essex County, New York, Un...   \n",
       "1   43.672954 -74.048853  Gore Mountain, Town of Johnsburg, Warren Count...   \n",
       "2   42.177866 -74.230422  Hunter Mountain, Town of Hunter, Greene County...   \n",
       "3   42.126893 -74.474075  Belleayre Mountain Day Use Area, Pine Hill, To...   \n",
       "4   42.263145 -78.663611  Holiday Valley, Town of Ellicottville, Cattara...   \n",
       "5   42.293926 -74.261312  Windham Mountain Club, Town of Windham, Greene...   \n",
       "6   42.502320 -76.148046  Greek Peak Mountain Resort, 2000, South Hill R...   \n",
       "8   42.060463 -79.744066  Peek'n Peak Resort, Abbey Lane, Town of French...   \n",
       "10  44.764111 -73.584055  Beartown Ski Area, Beartown Road, Beartown, To...   \n",
       "\n",
       "   vertical_rise base_elevation summit_elevation annual_snowfall  \\\n",
       "0        3430 ft        1220 ft          4650 ft      190 inches   \n",
       "1        2537 ft         998 ft          3600 ft      150 inches   \n",
       "2        1600 ft        1600 ft          3200 ft      125 inches   \n",
       "3        1404 ft        2025 ft          3429 ft      141 inches   \n",
       "4         750 ft        1500 ft          2250 ft      180 inches   \n",
       "5        1600 ft        1500 ft          3100 ft      105 inches   \n",
       "6         952 ft        1148 ft          2100 ft      122 inches   \n",
       "8         400 ft        1400 ft          1800 ft      200 inches   \n",
       "10        150 ft            n/a              n/a             n/a   \n",
       "\n",
       "   number_of_trails skiable_acres         longest_run snowmaking  \\\n",
       "0                90           288  2.1 miles / 3.4 km        98%   \n",
       "1               107           439  4.4 miles / 7.1 km        97%   \n",
       "2                58           240                 n/a       100%   \n",
       "3                50           171                 n/a        96%   \n",
       "4                58           290  0.8 miles / 1.3 km        95%   \n",
       "5                54           285                 n/a        97%   \n",
       "6                38           220  1.5 miles / 2.4 km        83%   \n",
       "8                27           105      0 miles / 1 km       100%   \n",
       "10                9           n/a                 n/a        yes   \n",
       "\n",
       "    vertical_rise_num  \n",
       "0              3430.0  \n",
       "1              2537.0  \n",
       "2              1600.0  \n",
       "3              1404.0  \n",
       "4               750.0  \n",
       "5              1600.0  \n",
       "6               952.0  \n",
       "8               400.0  \n",
       "10              150.0  "
      ]
     },
     "execution_count": 5,
     "metadata": {},
     "output_type": "execute_result"
    }
   ],
   "source": [
    "df_clean = df.dropna(subset=['latitude', 'longitude'])\n",
    "df_clean['vertical_rise_num'] = df_clean['vertical_rise'].str.replace(' ft', '').astype(float)\n",
    "df_filtered = df_clean[df_clean['name'] != 'HoliMont'] # removed, too close to Holiday Valley (higher elevation)\n",
    "top_9 = df_filtered.head(9)\n",
    "top_9"
   ]
  },
  {
   "cell_type": "code",
   "execution_count": 6,
   "metadata": {},
   "outputs": [
    {
     "data": {
      "application/vnd.plotly.v1+json": {
       "config": {
        "plotlyServerURL": "https://plot.ly"
       },
       "data": [
        {
         "hovertemplate": "<b>%{hovertext}</b><br><br>latitude=%{lat}<br>longitude=%{lon}<extra></extra>",
         "hovertext": [
          "Whiteface Mountain",
          "Gore Mountain",
          "Hunter Mountain",
          "Belleayre Mountain",
          "Holiday Valley",
          "Windham Mountain",
          "Greek Peak",
          "Peek'n Peak Resort",
          "Beartown Ski Area"
         ],
         "lat": [
          44.3657845,
          43.672954,
          42.1778662,
          42.12689335,
          42.2631454,
          42.29392565,
          42.50232045,
          42.06046265,
          44.7641115
         ],
         "legendgroup": "",
         "lon": [
          -73.9029843,
          -74.0488526,
          -74.2304216,
          -74.47407468091113,
          -78.6636114,
          -74.2613118092174,
          -76.14804555790452,
          -79.7440664815112,
          -73.5840546
         ],
         "marker": {
          "color": "#636efa"
         },
         "mode": "markers",
         "name": "",
         "showlegend": false,
         "subplot": "mapbox",
         "type": "scattermapbox"
        }
       ],
       "layout": {
        "legend": {
         "tracegroupgap": 0
        },
        "mapbox": {
         "center": {
          "lat": 43.2994,
          "lon": -74.2179
         },
         "domain": {
          "x": [
           0,
           1
          ],
          "y": [
           0,
           1
          ]
         },
         "style": "carto-positron",
         "zoom": 5
        },
        "margin": {
         "t": 60
        },
        "template": {
         "data": {
          "bar": [
           {
            "error_x": {
             "color": "#2a3f5f"
            },
            "error_y": {
             "color": "#2a3f5f"
            },
            "marker": {
             "line": {
              "color": "#E5ECF6",
              "width": 0.5
             },
             "pattern": {
              "fillmode": "overlay",
              "size": 10,
              "solidity": 0.2
             }
            },
            "type": "bar"
           }
          ],
          "barpolar": [
           {
            "marker": {
             "line": {
              "color": "#E5ECF6",
              "width": 0.5
             },
             "pattern": {
              "fillmode": "overlay",
              "size": 10,
              "solidity": 0.2
             }
            },
            "type": "barpolar"
           }
          ],
          "carpet": [
           {
            "aaxis": {
             "endlinecolor": "#2a3f5f",
             "gridcolor": "white",
             "linecolor": "white",
             "minorgridcolor": "white",
             "startlinecolor": "#2a3f5f"
            },
            "baxis": {
             "endlinecolor": "#2a3f5f",
             "gridcolor": "white",
             "linecolor": "white",
             "minorgridcolor": "white",
             "startlinecolor": "#2a3f5f"
            },
            "type": "carpet"
           }
          ],
          "choropleth": [
           {
            "colorbar": {
             "outlinewidth": 0,
             "ticks": ""
            },
            "type": "choropleth"
           }
          ],
          "contour": [
           {
            "colorbar": {
             "outlinewidth": 0,
             "ticks": ""
            },
            "colorscale": [
             [
              0,
              "#0d0887"
             ],
             [
              0.1111111111111111,
              "#46039f"
             ],
             [
              0.2222222222222222,
              "#7201a8"
             ],
             [
              0.3333333333333333,
              "#9c179e"
             ],
             [
              0.4444444444444444,
              "#bd3786"
             ],
             [
              0.5555555555555556,
              "#d8576b"
             ],
             [
              0.6666666666666666,
              "#ed7953"
             ],
             [
              0.7777777777777778,
              "#fb9f3a"
             ],
             [
              0.8888888888888888,
              "#fdca26"
             ],
             [
              1,
              "#f0f921"
             ]
            ],
            "type": "contour"
           }
          ],
          "contourcarpet": [
           {
            "colorbar": {
             "outlinewidth": 0,
             "ticks": ""
            },
            "type": "contourcarpet"
           }
          ],
          "heatmap": [
           {
            "colorbar": {
             "outlinewidth": 0,
             "ticks": ""
            },
            "colorscale": [
             [
              0,
              "#0d0887"
             ],
             [
              0.1111111111111111,
              "#46039f"
             ],
             [
              0.2222222222222222,
              "#7201a8"
             ],
             [
              0.3333333333333333,
              "#9c179e"
             ],
             [
              0.4444444444444444,
              "#bd3786"
             ],
             [
              0.5555555555555556,
              "#d8576b"
             ],
             [
              0.6666666666666666,
              "#ed7953"
             ],
             [
              0.7777777777777778,
              "#fb9f3a"
             ],
             [
              0.8888888888888888,
              "#fdca26"
             ],
             [
              1,
              "#f0f921"
             ]
            ],
            "type": "heatmap"
           }
          ],
          "heatmapgl": [
           {
            "colorbar": {
             "outlinewidth": 0,
             "ticks": ""
            },
            "colorscale": [
             [
              0,
              "#0d0887"
             ],
             [
              0.1111111111111111,
              "#46039f"
             ],
             [
              0.2222222222222222,
              "#7201a8"
             ],
             [
              0.3333333333333333,
              "#9c179e"
             ],
             [
              0.4444444444444444,
              "#bd3786"
             ],
             [
              0.5555555555555556,
              "#d8576b"
             ],
             [
              0.6666666666666666,
              "#ed7953"
             ],
             [
              0.7777777777777778,
              "#fb9f3a"
             ],
             [
              0.8888888888888888,
              "#fdca26"
             ],
             [
              1,
              "#f0f921"
             ]
            ],
            "type": "heatmapgl"
           }
          ],
          "histogram": [
           {
            "marker": {
             "pattern": {
              "fillmode": "overlay",
              "size": 10,
              "solidity": 0.2
             }
            },
            "type": "histogram"
           }
          ],
          "histogram2d": [
           {
            "colorbar": {
             "outlinewidth": 0,
             "ticks": ""
            },
            "colorscale": [
             [
              0,
              "#0d0887"
             ],
             [
              0.1111111111111111,
              "#46039f"
             ],
             [
              0.2222222222222222,
              "#7201a8"
             ],
             [
              0.3333333333333333,
              "#9c179e"
             ],
             [
              0.4444444444444444,
              "#bd3786"
             ],
             [
              0.5555555555555556,
              "#d8576b"
             ],
             [
              0.6666666666666666,
              "#ed7953"
             ],
             [
              0.7777777777777778,
              "#fb9f3a"
             ],
             [
              0.8888888888888888,
              "#fdca26"
             ],
             [
              1,
              "#f0f921"
             ]
            ],
            "type": "histogram2d"
           }
          ],
          "histogram2dcontour": [
           {
            "colorbar": {
             "outlinewidth": 0,
             "ticks": ""
            },
            "colorscale": [
             [
              0,
              "#0d0887"
             ],
             [
              0.1111111111111111,
              "#46039f"
             ],
             [
              0.2222222222222222,
              "#7201a8"
             ],
             [
              0.3333333333333333,
              "#9c179e"
             ],
             [
              0.4444444444444444,
              "#bd3786"
             ],
             [
              0.5555555555555556,
              "#d8576b"
             ],
             [
              0.6666666666666666,
              "#ed7953"
             ],
             [
              0.7777777777777778,
              "#fb9f3a"
             ],
             [
              0.8888888888888888,
              "#fdca26"
             ],
             [
              1,
              "#f0f921"
             ]
            ],
            "type": "histogram2dcontour"
           }
          ],
          "mesh3d": [
           {
            "colorbar": {
             "outlinewidth": 0,
             "ticks": ""
            },
            "type": "mesh3d"
           }
          ],
          "parcoords": [
           {
            "line": {
             "colorbar": {
              "outlinewidth": 0,
              "ticks": ""
             }
            },
            "type": "parcoords"
           }
          ],
          "pie": [
           {
            "automargin": true,
            "type": "pie"
           }
          ],
          "scatter": [
           {
            "fillpattern": {
             "fillmode": "overlay",
             "size": 10,
             "solidity": 0.2
            },
            "type": "scatter"
           }
          ],
          "scatter3d": [
           {
            "line": {
             "colorbar": {
              "outlinewidth": 0,
              "ticks": ""
             }
            },
            "marker": {
             "colorbar": {
              "outlinewidth": 0,
              "ticks": ""
             }
            },
            "type": "scatter3d"
           }
          ],
          "scattercarpet": [
           {
            "marker": {
             "colorbar": {
              "outlinewidth": 0,
              "ticks": ""
             }
            },
            "type": "scattercarpet"
           }
          ],
          "scattergeo": [
           {
            "marker": {
             "colorbar": {
              "outlinewidth": 0,
              "ticks": ""
             }
            },
            "type": "scattergeo"
           }
          ],
          "scattergl": [
           {
            "marker": {
             "colorbar": {
              "outlinewidth": 0,
              "ticks": ""
             }
            },
            "type": "scattergl"
           }
          ],
          "scattermapbox": [
           {
            "marker": {
             "colorbar": {
              "outlinewidth": 0,
              "ticks": ""
             }
            },
            "type": "scattermapbox"
           }
          ],
          "scatterpolar": [
           {
            "marker": {
             "colorbar": {
              "outlinewidth": 0,
              "ticks": ""
             }
            },
            "type": "scatterpolar"
           }
          ],
          "scatterpolargl": [
           {
            "marker": {
             "colorbar": {
              "outlinewidth": 0,
              "ticks": ""
             }
            },
            "type": "scatterpolargl"
           }
          ],
          "scatterternary": [
           {
            "marker": {
             "colorbar": {
              "outlinewidth": 0,
              "ticks": ""
             }
            },
            "type": "scatterternary"
           }
          ],
          "surface": [
           {
            "colorbar": {
             "outlinewidth": 0,
             "ticks": ""
            },
            "colorscale": [
             [
              0,
              "#0d0887"
             ],
             [
              0.1111111111111111,
              "#46039f"
             ],
             [
              0.2222222222222222,
              "#7201a8"
             ],
             [
              0.3333333333333333,
              "#9c179e"
             ],
             [
              0.4444444444444444,
              "#bd3786"
             ],
             [
              0.5555555555555556,
              "#d8576b"
             ],
             [
              0.6666666666666666,
              "#ed7953"
             ],
             [
              0.7777777777777778,
              "#fb9f3a"
             ],
             [
              0.8888888888888888,
              "#fdca26"
             ],
             [
              1,
              "#f0f921"
             ]
            ],
            "type": "surface"
           }
          ],
          "table": [
           {
            "cells": {
             "fill": {
              "color": "#EBF0F8"
             },
             "line": {
              "color": "white"
             }
            },
            "header": {
             "fill": {
              "color": "#C8D4E3"
             },
             "line": {
              "color": "white"
             }
            },
            "type": "table"
           }
          ]
         },
         "layout": {
          "annotationdefaults": {
           "arrowcolor": "#2a3f5f",
           "arrowhead": 0,
           "arrowwidth": 1
          },
          "autotypenumbers": "strict",
          "coloraxis": {
           "colorbar": {
            "outlinewidth": 0,
            "ticks": ""
           }
          },
          "colorscale": {
           "diverging": [
            [
             0,
             "#8e0152"
            ],
            [
             0.1,
             "#c51b7d"
            ],
            [
             0.2,
             "#de77ae"
            ],
            [
             0.3,
             "#f1b6da"
            ],
            [
             0.4,
             "#fde0ef"
            ],
            [
             0.5,
             "#f7f7f7"
            ],
            [
             0.6,
             "#e6f5d0"
            ],
            [
             0.7,
             "#b8e186"
            ],
            [
             0.8,
             "#7fbc41"
            ],
            [
             0.9,
             "#4d9221"
            ],
            [
             1,
             "#276419"
            ]
           ],
           "sequential": [
            [
             0,
             "#0d0887"
            ],
            [
             0.1111111111111111,
             "#46039f"
            ],
            [
             0.2222222222222222,
             "#7201a8"
            ],
            [
             0.3333333333333333,
             "#9c179e"
            ],
            [
             0.4444444444444444,
             "#bd3786"
            ],
            [
             0.5555555555555556,
             "#d8576b"
            ],
            [
             0.6666666666666666,
             "#ed7953"
            ],
            [
             0.7777777777777778,
             "#fb9f3a"
            ],
            [
             0.8888888888888888,
             "#fdca26"
            ],
            [
             1,
             "#f0f921"
            ]
           ],
           "sequentialminus": [
            [
             0,
             "#0d0887"
            ],
            [
             0.1111111111111111,
             "#46039f"
            ],
            [
             0.2222222222222222,
             "#7201a8"
            ],
            [
             0.3333333333333333,
             "#9c179e"
            ],
            [
             0.4444444444444444,
             "#bd3786"
            ],
            [
             0.5555555555555556,
             "#d8576b"
            ],
            [
             0.6666666666666666,
             "#ed7953"
            ],
            [
             0.7777777777777778,
             "#fb9f3a"
            ],
            [
             0.8888888888888888,
             "#fdca26"
            ],
            [
             1,
             "#f0f921"
            ]
           ]
          },
          "colorway": [
           "#636efa",
           "#EF553B",
           "#00cc96",
           "#ab63fa",
           "#FFA15A",
           "#19d3f3",
           "#FF6692",
           "#B6E880",
           "#FF97FF",
           "#FECB52"
          ],
          "font": {
           "color": "#2a3f5f"
          },
          "geo": {
           "bgcolor": "white",
           "lakecolor": "white",
           "landcolor": "#E5ECF6",
           "showlakes": true,
           "showland": true,
           "subunitcolor": "white"
          },
          "hoverlabel": {
           "align": "left"
          },
          "hovermode": "closest",
          "mapbox": {
           "style": "light"
          },
          "paper_bgcolor": "white",
          "plot_bgcolor": "#E5ECF6",
          "polar": {
           "angularaxis": {
            "gridcolor": "white",
            "linecolor": "white",
            "ticks": ""
           },
           "bgcolor": "#E5ECF6",
           "radialaxis": {
            "gridcolor": "white",
            "linecolor": "white",
            "ticks": ""
           }
          },
          "scene": {
           "xaxis": {
            "backgroundcolor": "#E5ECF6",
            "gridcolor": "white",
            "gridwidth": 2,
            "linecolor": "white",
            "showbackground": true,
            "ticks": "",
            "zerolinecolor": "white"
           },
           "yaxis": {
            "backgroundcolor": "#E5ECF6",
            "gridcolor": "white",
            "gridwidth": 2,
            "linecolor": "white",
            "showbackground": true,
            "ticks": "",
            "zerolinecolor": "white"
           },
           "zaxis": {
            "backgroundcolor": "#E5ECF6",
            "gridcolor": "white",
            "gridwidth": 2,
            "linecolor": "white",
            "showbackground": true,
            "ticks": "",
            "zerolinecolor": "white"
           }
          },
          "shapedefaults": {
           "line": {
            "color": "#2a3f5f"
           }
          },
          "ternary": {
           "aaxis": {
            "gridcolor": "white",
            "linecolor": "white",
            "ticks": ""
           },
           "baxis": {
            "gridcolor": "white",
            "linecolor": "white",
            "ticks": ""
           },
           "bgcolor": "#E5ECF6",
           "caxis": {
            "gridcolor": "white",
            "linecolor": "white",
            "ticks": ""
           }
          },
          "title": {
           "x": 0.05
          },
          "xaxis": {
           "automargin": true,
           "gridcolor": "white",
           "linecolor": "white",
           "ticks": "",
           "title": {
            "standoff": 15
           },
           "zerolinecolor": "white",
           "zerolinewidth": 2
          },
          "yaxis": {
           "automargin": true,
           "gridcolor": "white",
           "linecolor": "white",
           "ticks": "",
           "title": {
            "standoff": 15
           },
           "zerolinecolor": "white",
           "zerolinewidth": 2
          }
         }
        },
        "title": {
         "text": "Selected New York Ski Resorts"
        }
       }
      }
     },
     "metadata": {},
     "output_type": "display_data"
    }
   ],
   "source": [
    "fig = px.scatter_mapbox(df_filtered[:9], \n",
    "                       lat='latitude', \n",
    "                       lon='longitude',\n",
    "                       hover_name='name',\n",
    "                       zoom=5,\n",
    "                       mapbox_style='carto-positron')\n",
    "\n",
    "# Update the layout to center on NY\n",
    "fig.update_layout(\n",
    "    title='Selected New York Ski Resorts',\n",
    "    mapbox=dict(\n",
    "        center=dict(lat=43.2994, lon=-74.2179)  # Center of NY State\n",
    "    )\n",
    ")\n",
    "\n",
    "fig.show()"
   ]
  },
  {
   "cell_type": "markdown",
   "metadata": {},
   "source": [
    "# Exploratory Data Analysis"
   ]
  },
  {
   "cell_type": "markdown",
   "metadata": {},
   "source": []
  },
  {
   "cell_type": "code",
   "execution_count": null,
   "metadata": {},
   "outputs": [],
   "source": []
  },
  {
   "cell_type": "markdown",
   "metadata": {},
   "source": [
    "# Random Route Generator"
   ]
  },
  {
   "cell_type": "code",
   "execution_count": 7,
   "metadata": {},
   "outputs": [],
   "source": [
    "def osrm_route(start_point, end_point):\n",
    "    osrm_url = f\"http://router.project-osrm.org/route/v1/driving/{start_point[1]},{start_point[0]};{end_point[1]},{end_point[0]}\"\n",
    "    response = requests.get(osrm_url)\n",
    "    \n",
    "    data = response.json()\n",
    "    if data[\"code\"] == \"Ok\":\n",
    "        return {\n",
    "            'distance': data[\"routes\"][0][\"distance\"] / 1000 * 0.621371,  # meters to miles\n",
    "            'geometry': data[\"routes\"][0][\"geometry\"]\n",
    "        }\n",
    "    return None"
   ]
  },
  {
   "cell_type": "code",
   "execution_count": 8,
   "metadata": {},
   "outputs": [],
   "source": [
    "def random_route_gen(df):\n",
    "    locations = list(range(len(df))) # create list of indexes \n",
    "    route = random.sample(locations, len(locations)) # randomly sample from list\n",
    "    route.append(route[0])  # Return to start\n",
    "\n",
    "    total_distance = 0\n",
    "    all_route_points = []\n",
    "    route_details = []\n",
    "\n",
    "    for i in range(len(route)-1):\n",
    "        start = df.iloc[route[i]]\n",
    "        end = df.iloc[route[i+1]]\n",
    "\n",
    "        route_data = osrm_route(\n",
    "            (start['latitude'], start['longitude']),\n",
    "            (end['latitude'], end['longitude'])\n",
    "        )\n",
    "\n",
    "        if route_data:\n",
    "            total_distance += route_data['distance']\n",
    "            decoded_points = polyline.decode(route_data['geometry'])\n",
    "            all_route_points.append(decoded_points)\n",
    "            route_details.append({\n",
    "                'from': start['name'],\n",
    "                'to': end['name'],\n",
    "                'distance': route_data['distance']\n",
    "            })\n",
    "\n",
    "    fig = go.Figure()\n",
    "\n",
    "    # Add route lines\n",
    "    for points in all_route_points:\n",
    "        lat, lon = zip(*points)\n",
    "        fig.add_trace(go.Scattermapbox(\n",
    "            lon=lon,\n",
    "            lat=lat,\n",
    "            mode='lines',\n",
    "            line=dict(width=2, color='blue'),\n",
    "            hoverinfo='skip'\n",
    "        ))\n",
    "\n",
    "    # Add resort markers\n",
    "    resort_lat = []\n",
    "    resort_lon = []\n",
    "    resort_names = []\n",
    "    for i, idx in enumerate(route[:-1]):\n",
    "        location = df.iloc[idx]\n",
    "        resort_lat.append(location['latitude'])\n",
    "        resort_lon.append(location['longitude'])\n",
    "        resort_names.append(f\"Stop {i+1}: {location['name']}\")\n",
    "\n",
    "    fig.add_trace(go.Scattermapbox(\n",
    "        lon=resort_lon,\n",
    "        lat=resort_lat,\n",
    "        mode='markers',\n",
    "        marker=dict(size=12, color='red'),\n",
    "        text=resort_names,\n",
    "        name=\"Ski Resort\"\n",
    "    ))\n",
    "\n",
    "    # Update layout\n",
    "    fig.update_layout(\n",
    "        title='New York Ski Resort - Random Route',\n",
    "        mapbox=dict(\n",
    "            style=\"carto-positron\",\n",
    "            center=dict(lat=np.mean(resort_lat), lon=np.mean(resort_lon)),\n",
    "            zoom=5\n",
    "        ),\n",
    "        showlegend=False,\n",
    "        margin=dict(l=0, r=0, t=30, b=0)\n",
    "    )\n",
    "    \n",
    "    for i, idx in enumerate(route[:-1]):\n",
    "        print(f\"{i+1}. {df.iloc[idx]['name']}\")\n",
    "\n",
    "    return fig, total_distance, route_details"
   ]
  },
  {
   "cell_type": "code",
   "execution_count": 9,
   "metadata": {},
   "outputs": [],
   "source": [
    "def save_route_for_web(fig, filename='random_route.html'):\n",
    "    try:\n",
    "        fig.write_html(filename, \n",
    "                      full_html=True,\n",
    "                      include_plotlyjs='cdn')\n",
    "        return filename\n",
    "    except Exception as e:\n",
    "        print(f\"Error saving route: {e}\")\n",
    "        return None"
   ]
  },
  {
   "cell_type": "code",
   "execution_count": 10,
   "metadata": {},
   "outputs": [
    {
     "name": "stdout",
     "output_type": "stream",
     "text": [
      "1. Windham Mountain\n",
      "2. Whiteface Mountain\n",
      "3. Greek Peak\n",
      "4. Gore Mountain\n",
      "5. Peek'n Peak Resort\n",
      "6. Beartown Ski Area\n",
      "7. Belleayre Mountain\n",
      "8. Hunter Mountain\n",
      "9. Holiday Valley\n"
     ]
    }
   ],
   "source": [
    "fig, total_dist, route_details = random_route_gen(top_9)"
   ]
  },
  {
   "cell_type": "code",
   "execution_count": 11,
   "metadata": {},
   "outputs": [
    {
     "data": {
      "application/vnd.plotly.v1+json": {
       "config": {
        "plotlyServerURL": "https://plot.ly"
       },
       "data": [
        {
         "hoverinfo": "skip",
         "lat": [
          42.29461,
          42.30996,
          42.30597,
          42.33903,
          42.33835,
          42.30354,
          42.30738,
          42.23854,
          42.34392,
          42.4304,
          42.63291,
          42.63899,
          42.69306,
          42.74278,
          42.7663,
          42.94509,
          43.01189,
          43.07129,
          43.10801,
          43.20805,
          43.31442,
          43.48026,
          43.59538,
          43.73582,
          43.86408,
          43.91561,
          43.99544,
          44.07569,
          44.15035,
          44.18606,
          44.30342,
          44.3753,
          44.40246,
          44.39656,
          44.36721
         ],
         "line": {
          "color": "blue",
          "width": 2
         },
         "lon": [
          -74.26406,
          -74.24101,
          -74.19522,
          -74.15373,
          -74.11883,
          -74.03882,
          -74.00304,
          -73.88732,
          -73.85714,
          -73.80351,
          -73.78028,
          -73.75369,
          -73.7108,
          -73.69557,
          -73.76146,
          -73.80522,
          -73.79957,
          -73.7512,
          -73.75128,
          -73.69399,
          -73.67468,
          -73.75448,
          -73.72705,
          -73.82517,
          -73.75584,
          -73.7578,
          -73.72143,
          -73.66252,
          -73.7678,
          -73.78658,
          -73.79045,
          -73.72768,
          -73.87574,
          -73.90078,
          -73.90362
         ],
         "mode": "lines",
         "type": "scattermapbox"
        },
        {
         "hoverinfo": "skip",
         "lat": [
          44.36721,
          44.39656,
          44.40246,
          44.3753,
          44.30342,
          44.18606,
          44.15035,
          44.07695,
          43.91878,
          43.86547,
          43.73312,
          43.66894,
          43.65906,
          43.63817,
          43.61605,
          43.63374,
          43.59205,
          43.44512,
          43.46973,
          43.51542,
          43.50187,
          43.38882,
          43.37975,
          43.39541,
          43.34354,
          43.31238,
          43.30764,
          43.24032,
          43.18186,
          43.12076,
          43.09019,
          43.09822,
          43.01823,
          43.00325,
          43.0167,
          42.94652,
          42.87429,
          42.51565,
          42.50518
         ],
         "line": {
          "color": "blue",
          "width": 2
         },
         "lon": [
          -73.90362,
          -73.90078,
          -73.87574,
          -73.72768,
          -73.79045,
          -73.78658,
          -73.7678,
          -73.66364,
          -73.75807,
          -73.756,
          -73.8176,
          -73.86727,
          -73.92291,
          -73.9248,
          -73.96533,
          -74.00037,
          -74.08765,
          -74.25,
          -74.25282,
          -74.30453,
          -74.36431,
          -74.57012,
          -74.66313,
          -74.86037,
          -75.09301,
          -75.10928,
          -75.15633,
          -75.25965,
          -75.51274,
          -75.58335,
          -75.76094,
          -76.05565,
          -76.06492,
          -76.0971,
          -76.14051,
          -76.13979,
          -76.11053,
          -76.1956,
          -76.15255
         ],
         "mode": "lines",
         "type": "scattermapbox"
        },
        {
         "hoverinfo": "skip",
         "lat": [
          42.50518,
          42.51565,
          42.54855,
          42.57129,
          42.59504,
          42.60993,
          42.61387,
          42.6616,
          42.77348,
          42.84146,
          42.87423,
          42.90507,
          42.94674,
          43.00057,
          43.00791,
          43.00336,
          43.01863,
          43.05065,
          43.09814,
          43.09284,
          43.08996,
          43.12539,
          43.12081,
          43.12206,
          43.16163,
          43.18193,
          43.19503,
          43.20449,
          43.20216,
          43.24032,
          43.27438,
          43.30764,
          43.31238,
          43.34354,
          43.3551,
          43.36772,
          43.37776,
          43.37615,
          43.39541,
          43.39615,
          43.38997,
          43.39564,
          43.37975,
          43.39505,
          43.43874,
          43.46948,
          43.47065,
          43.50187,
          43.52352,
          43.53804,
          43.60345,
          43.63281,
          43.65356,
          43.66655,
          43.70961,
          43.71804,
          43.77168,
          43.78245,
          43.7813,
          43.76364,
          43.77339,
          43.76276,
          43.73937,
          43.70286,
          43.69531,
          43.68087
         ],
         "line": {
          "color": "blue",
          "width": 2
         },
         "lon": [
          -76.15255,
          -76.1956,
          -76.18436,
          -76.19306,
          -76.18444,
          -76.16606,
          -76.18094,
          -76.17384,
          -76.12719,
          -76.12308,
          -76.11034,
          -76.11465,
          -76.13959,
          -76.13459,
          -76.12808,
          -76.09474,
          -76.06386,
          -76.04995,
          -76.05248,
          -76.04453,
          -75.76145,
          -75.61221,
          -75.58353,
          -75.591,
          -75.55135,
          -75.51226,
          -75.43121,
          -75.43134,
          -75.39366,
          -75.25965,
          -75.19094,
          -75.15633,
          -75.10928,
          -75.09301,
          -75.00213,
          -74.94582,
          -74.93303,
          -74.90498,
          -74.86037,
          -74.7985,
          -74.78555,
          -74.74738,
          -74.66313,
          -74.54554,
          -74.4815,
          -74.42313,
          -74.40445,
          -74.36431,
          -74.3864,
          -74.38341,
          -74.42056,
          -74.39458,
          -74.38921,
          -74.36358,
          -74.33096,
          -74.31361,
          -74.26497,
          -74.2654,
          -74.21441,
          -74.15452,
          -74.11405,
          -74.07121,
          -74.04813,
          -74.07453,
          -74.06057,
          -74.05725
         ],
         "mode": "lines",
         "type": "scattermapbox"
        },
        {
         "hoverinfo": "skip",
         "lat": [
          43.68087,
          43.76276,
          43.78245,
          43.60345,
          43.50187,
          43.39505,
          43.39541,
          43.35039,
          43.24032,
          43.18283,
          43.12076,
          43.09056,
          43.09195,
          43.11798,
          42.9549,
          43.04849,
          43.01027,
          42.95036,
          42.95144,
          42.76452,
          42.52817,
          42.45548,
          42.24076,
          42.17575,
          42.09246,
          42.06049
         ],
         "line": {
          "color": "blue",
          "width": 2
         },
         "lon": [
          -74.05725,
          -74.07121,
          -74.2654,
          -74.42056,
          -74.36431,
          -74.54554,
          -74.86037,
          -75.06664,
          -75.25965,
          -75.51032,
          -75.58335,
          -75.75754,
          -76.15733,
          -76.23685,
          -76.97072,
          -77.63127,
          -78.39282,
          -78.60988,
          -78.75966,
          -78.81961,
          -79.1364,
          -79.36593,
          -79.7756,
          -79.78524,
          -79.71292,
          -79.74406
         ],
         "mode": "lines",
         "type": "scattermapbox"
        },
        {
         "hoverinfo": "skip",
         "lat": [
          42.06049,
          42.09246,
          42.17575,
          42.24066,
          42.45537,
          42.51513,
          42.60389,
          42.7643,
          42.95132,
          42.9501,
          43.00907,
          43.04825,
          42.95468,
          42.97319,
          43.07289,
          43.11799,
          43.09427,
          43.14597,
          43.5172,
          43.73966,
          44.0446,
          44.05399,
          44.19781,
          44.59508,
          44.77494,
          44.85074,
          44.91815,
          44.93736,
          44.89751,
          44.88141,
          44.79621,
          44.75309,
          44.76412
         ],
         "line": {
          "color": "blue",
          "width": 2
         },
         "lon": [
          -79.74406,
          -79.71292,
          -79.78524,
          -79.77531,
          -79.36447,
          -79.15783,
          -79.02766,
          -78.81925,
          -78.75947,
          -78.60978,
          -78.39576,
          -77.63151,
          -76.97075,
          -76.81199,
          -76.5104,
          -76.23455,
          -76.16025,
          -76.1098,
          -76.12167,
          -76.07326,
          -75.91357,
          -75.83358,
          -75.61801,
          -75.17562,
          -74.78603,
          -74.27374,
          -74.20011,
          -73.96373,
          -73.88131,
          -73.71441,
          -73.56819,
          -73.55139,
          -73.5835
         ],
         "mode": "lines",
         "type": "scattermapbox"
        },
        {
         "hoverinfo": "skip",
         "lat": [
          44.76412,
          44.65427,
          44.46059,
          44.35165,
          44.20906,
          44.06497,
          43.7367,
          43.59548,
          43.48048,
          43.31438,
          43.00177,
          42.76319,
          42.70085,
          42.62872,
          42.42979,
          42.08341,
          42.04891,
          42.07848,
          42.03963,
          42.11352,
          42.12621
         ],
         "line": {
          "color": "blue",
          "width": 2
         },
         "lon": [
          -73.5835,
          -73.48307,
          -73.48547,
          -73.53408,
          -73.50768,
          -73.68261,
          -73.82542,
          -73.72742,
          -73.75507,
          -73.67506,
          -73.80335,
          -73.76265,
          -73.84888,
          -73.77899,
          -73.80398,
          -73.97614,
          -74.11333,
          -74.21591,
          -74.2793,
          -74.36013,
          -74.47416
         ],
         "mode": "lines",
         "type": "scattermapbox"
        },
        {
         "hoverinfo": "skip",
         "lat": [
          42.12621,
          42.12526,
          42.12626,
          42.12559,
          42.12128,
          42.1066,
          42.10202,
          42.10395,
          42.11386,
          42.11535,
          42.11585,
          42.11935,
          42.11748,
          42.11443,
          42.11081,
          42.10205,
          42.09308,
          42.08558,
          42.08243,
          42.08116,
          42.08307,
          42.08986,
          42.09699,
          42.10146,
          42.10116,
          42.10582,
          42.10834,
          42.11742,
          42.12248,
          42.12926,
          42.1312,
          42.13035,
          42.13084,
          42.13806,
          42.14077,
          42.15786,
          42.16049,
          42.1787,
          42.18865,
          42.19634,
          42.20587,
          42.20369,
          42.20316,
          42.19944,
          42.1964
         ],
         "line": {
          "color": "blue",
          "width": 2
         },
         "lon": [
          -74.47416,
          -74.47276,
          -74.47061,
          -74.46818,
          -74.46075,
          -74.44952,
          -74.44063,
          -74.43403,
          -74.42759,
          -74.42477,
          -74.40853,
          -74.39264,
          -74.37427,
          -74.36259,
          -74.35549,
          -74.34668,
          -74.3343,
          -74.33122,
          -74.32432,
          -74.31785,
          -74.31525,
          -74.3206,
          -74.31783,
          -74.31329,
          -74.30122,
          -74.29265,
          -74.28378,
          -74.27579,
          -74.26832,
          -74.26313,
          -74.25632,
          -74.25101,
          -74.24062,
          -74.21776,
          -74.21275,
          -74.20491,
          -74.20262,
          -74.19818,
          -74.19098,
          -74.19692,
          -74.20791,
          -74.20864,
          -74.21129,
          -74.21401,
          -74.22526
         ],
         "mode": "lines",
         "type": "scattermapbox"
        },
        {
         "hoverinfo": "skip",
         "lat": [
          42.1964,
          42.20466,
          42.21531,
          42.23852,
          42.26138,
          42.28414,
          42.36001,
          42.4117,
          42.40748,
          42.43612,
          42.43466,
          42.47639,
          42.43931,
          42.44333,
          42.42292,
          42.39473,
          42.3604,
          42.31238,
          42.29281,
          42.25963,
          42.19945,
          42.18433,
          42.19771,
          42.15769,
          42.16415,
          42.11206,
          42.11688,
          42.05952,
          42.09101,
          42.08042,
          42.10161,
          42.07946,
          42.02469,
          42.02822,
          42.00886,
          42.00022,
          42.00187,
          42.03077,
          42.10235,
          42.15204,
          42.15973,
          42.1185,
          42.16261,
          42.15581,
          42.17557,
          42.18947,
          42.29148,
          42.33654,
          42.38979,
          42.36354,
          42.38156,
          42.36739,
          42.37987,
          42.31613,
          42.30086,
          42.22912,
          42.20414,
          42.22496,
          42.17653,
          42.22345,
          42.27535,
          42.32099,
          42.30932,
          42.23949,
          42.26294
         ],
         "line": {
          "color": "blue",
          "width": 2
         },
         "lon": [
          -74.22526,
          -74.20796,
          -74.22191,
          -74.35774,
          -74.39859,
          -74.39984,
          -74.47472,
          -74.56426,
          -74.61448,
          -74.67438,
          -74.73559,
          -74.82644,
          -74.93047,
          -75.10024,
          -75.13547,
          -75.14065,
          -75.2524,
          -75.32539,
          -75.46854,
          -75.47007,
          -75.53421,
          -75.61528,
          -75.67257,
          -75.80475,
          -75.87395,
          -75.91255,
          -75.99394,
          -76.13545,
          -76.17118,
          -76.20882,
          -76.25474,
          -76.30717,
          -76.35537,
          -76.44317,
          -76.46293,
          -76.51634,
          -76.6187,
          -76.72509,
          -76.79218,
          -76.80694,
          -76.8297,
          -77.00809,
          -77.05972,
          -77.09463,
          -77.10805,
          -77.15896,
          -77.22557,
          -77.33414,
          -77.38484,
          -77.46487,
          -77.53739,
          -77.59758,
          -77.66379,
          -77.7529,
          -78.02228,
          -78.09351,
          -78.15728,
          -78.27746,
          -78.38217,
          -78.37853,
          -78.44725,
          -78.46157,
          -78.50677,
          -78.58668,
          -78.66361
         ],
         "mode": "lines",
         "type": "scattermapbox"
        },
        {
         "hoverinfo": "skip",
         "lat": [
          42.26294,
          42.23949,
          42.30932,
          42.32099,
          42.27535,
          42.22345,
          42.17458,
          42.22445,
          42.20337,
          42.22873,
          42.30038,
          42.31543,
          42.37946,
          42.36698,
          42.38115,
          42.36294,
          42.38928,
          42.3364,
          42.29109,
          42.18911,
          42.17538,
          42.15591,
          42.16261,
          42.11839,
          42.15964,
          42.15451,
          42.10292,
          42.03119,
          42.00106,
          41.99856,
          42.00799,
          42.02771,
          42.02461,
          42.08005,
          42.10129,
          42.08152,
          42.08724,
          42.05931,
          42.11649,
          42.11183,
          42.16407,
          42.1575,
          42.19716,
          42.18406,
          42.19901,
          42.25963,
          42.29251,
          42.31173,
          42.3602,
          42.39448,
          42.42253,
          42.44273,
          42.44991,
          42.43931,
          42.47579,
          42.43466,
          42.43631,
          42.40748,
          42.4117,
          42.30483,
          42.29461
         ],
         "line": {
          "color": "blue",
          "width": 2
         },
         "lon": [
          -78.66361,
          -78.58668,
          -78.50677,
          -78.46157,
          -78.44725,
          -78.37853,
          -78.38299,
          -78.27753,
          -78.15743,
          -78.09265,
          -78.02183,
          -77.7534,
          -77.66346,
          -77.59488,
          -77.53744,
          -77.46363,
          -77.38706,
          -77.33443,
          -77.22566,
          -77.159,
          -77.10817,
          -77.09514,
          -77.06004,
          -77.0087,
          -76.86236,
          -76.8109,
          -76.79287,
          -76.72628,
          -76.61748,
          -76.54335,
          -76.46463,
          -76.4431,
          -76.35478,
          -76.3056,
          -76.255,
          -76.21732,
          -76.168,
          -76.13542,
          -75.99499,
          -75.91221,
          -75.87385,
          -75.80473,
          -75.67272,
          -75.6163,
          -75.53311,
          -75.46963,
          -75.46804,
          -75.32633,
          -75.25199,
          -75.14028,
          -75.13521,
          -75.10097,
          -75.05227,
          -74.93047,
          -74.82116,
          -74.73559,
          -74.67522,
          -74.61448,
          -74.56426,
          -74.41745,
          -74.26406
         ],
         "mode": "lines",
         "type": "scattermapbox"
        },
        {
         "lat": [
          42.29392565,
          44.3657845,
          42.50232045,
          43.672954,
          42.06046265,
          44.7641115,
          42.12689335,
          42.1778662,
          42.2631454
         ],
         "lon": [
          -74.2613118092174,
          -73.9029843,
          -76.14804555790452,
          -74.0488526,
          -79.7440664815112,
          -73.5840546,
          -74.47407468091113,
          -74.2304216,
          -78.6636114
         ],
         "marker": {
          "color": "red",
          "size": 12
         },
         "mode": "markers",
         "name": "Ski Resort",
         "text": [
          "Stop 1: Windham Mountain",
          "Stop 2: Whiteface Mountain",
          "Stop 3: Greek Peak",
          "Stop 4: Gore Mountain",
          "Stop 5: Peek'n Peak Resort",
          "Stop 6: Beartown Ski Area",
          "Stop 7: Belleayre Mountain",
          "Stop 8: Hunter Mountain",
          "Stop 9: Holiday Valley"
         ],
         "type": "scattermapbox"
        }
       ],
       "layout": {
        "mapbox": {
         "center": {
          "lat": 42.914162633333326,
          "lon": -75.45082478106048
         },
         "style": "carto-positron",
         "zoom": 5
        },
        "margin": {
         "b": 0,
         "l": 0,
         "r": 0,
         "t": 30
        },
        "showlegend": false,
        "template": {
         "data": {
          "bar": [
           {
            "error_x": {
             "color": "#2a3f5f"
            },
            "error_y": {
             "color": "#2a3f5f"
            },
            "marker": {
             "line": {
              "color": "#E5ECF6",
              "width": 0.5
             },
             "pattern": {
              "fillmode": "overlay",
              "size": 10,
              "solidity": 0.2
             }
            },
            "type": "bar"
           }
          ],
          "barpolar": [
           {
            "marker": {
             "line": {
              "color": "#E5ECF6",
              "width": 0.5
             },
             "pattern": {
              "fillmode": "overlay",
              "size": 10,
              "solidity": 0.2
             }
            },
            "type": "barpolar"
           }
          ],
          "carpet": [
           {
            "aaxis": {
             "endlinecolor": "#2a3f5f",
             "gridcolor": "white",
             "linecolor": "white",
             "minorgridcolor": "white",
             "startlinecolor": "#2a3f5f"
            },
            "baxis": {
             "endlinecolor": "#2a3f5f",
             "gridcolor": "white",
             "linecolor": "white",
             "minorgridcolor": "white",
             "startlinecolor": "#2a3f5f"
            },
            "type": "carpet"
           }
          ],
          "choropleth": [
           {
            "colorbar": {
             "outlinewidth": 0,
             "ticks": ""
            },
            "type": "choropleth"
           }
          ],
          "contour": [
           {
            "colorbar": {
             "outlinewidth": 0,
             "ticks": ""
            },
            "colorscale": [
             [
              0,
              "#0d0887"
             ],
             [
              0.1111111111111111,
              "#46039f"
             ],
             [
              0.2222222222222222,
              "#7201a8"
             ],
             [
              0.3333333333333333,
              "#9c179e"
             ],
             [
              0.4444444444444444,
              "#bd3786"
             ],
             [
              0.5555555555555556,
              "#d8576b"
             ],
             [
              0.6666666666666666,
              "#ed7953"
             ],
             [
              0.7777777777777778,
              "#fb9f3a"
             ],
             [
              0.8888888888888888,
              "#fdca26"
             ],
             [
              1,
              "#f0f921"
             ]
            ],
            "type": "contour"
           }
          ],
          "contourcarpet": [
           {
            "colorbar": {
             "outlinewidth": 0,
             "ticks": ""
            },
            "type": "contourcarpet"
           }
          ],
          "heatmap": [
           {
            "colorbar": {
             "outlinewidth": 0,
             "ticks": ""
            },
            "colorscale": [
             [
              0,
              "#0d0887"
             ],
             [
              0.1111111111111111,
              "#46039f"
             ],
             [
              0.2222222222222222,
              "#7201a8"
             ],
             [
              0.3333333333333333,
              "#9c179e"
             ],
             [
              0.4444444444444444,
              "#bd3786"
             ],
             [
              0.5555555555555556,
              "#d8576b"
             ],
             [
              0.6666666666666666,
              "#ed7953"
             ],
             [
              0.7777777777777778,
              "#fb9f3a"
             ],
             [
              0.8888888888888888,
              "#fdca26"
             ],
             [
              1,
              "#f0f921"
             ]
            ],
            "type": "heatmap"
           }
          ],
          "heatmapgl": [
           {
            "colorbar": {
             "outlinewidth": 0,
             "ticks": ""
            },
            "colorscale": [
             [
              0,
              "#0d0887"
             ],
             [
              0.1111111111111111,
              "#46039f"
             ],
             [
              0.2222222222222222,
              "#7201a8"
             ],
             [
              0.3333333333333333,
              "#9c179e"
             ],
             [
              0.4444444444444444,
              "#bd3786"
             ],
             [
              0.5555555555555556,
              "#d8576b"
             ],
             [
              0.6666666666666666,
              "#ed7953"
             ],
             [
              0.7777777777777778,
              "#fb9f3a"
             ],
             [
              0.8888888888888888,
              "#fdca26"
             ],
             [
              1,
              "#f0f921"
             ]
            ],
            "type": "heatmapgl"
           }
          ],
          "histogram": [
           {
            "marker": {
             "pattern": {
              "fillmode": "overlay",
              "size": 10,
              "solidity": 0.2
             }
            },
            "type": "histogram"
           }
          ],
          "histogram2d": [
           {
            "colorbar": {
             "outlinewidth": 0,
             "ticks": ""
            },
            "colorscale": [
             [
              0,
              "#0d0887"
             ],
             [
              0.1111111111111111,
              "#46039f"
             ],
             [
              0.2222222222222222,
              "#7201a8"
             ],
             [
              0.3333333333333333,
              "#9c179e"
             ],
             [
              0.4444444444444444,
              "#bd3786"
             ],
             [
              0.5555555555555556,
              "#d8576b"
             ],
             [
              0.6666666666666666,
              "#ed7953"
             ],
             [
              0.7777777777777778,
              "#fb9f3a"
             ],
             [
              0.8888888888888888,
              "#fdca26"
             ],
             [
              1,
              "#f0f921"
             ]
            ],
            "type": "histogram2d"
           }
          ],
          "histogram2dcontour": [
           {
            "colorbar": {
             "outlinewidth": 0,
             "ticks": ""
            },
            "colorscale": [
             [
              0,
              "#0d0887"
             ],
             [
              0.1111111111111111,
              "#46039f"
             ],
             [
              0.2222222222222222,
              "#7201a8"
             ],
             [
              0.3333333333333333,
              "#9c179e"
             ],
             [
              0.4444444444444444,
              "#bd3786"
             ],
             [
              0.5555555555555556,
              "#d8576b"
             ],
             [
              0.6666666666666666,
              "#ed7953"
             ],
             [
              0.7777777777777778,
              "#fb9f3a"
             ],
             [
              0.8888888888888888,
              "#fdca26"
             ],
             [
              1,
              "#f0f921"
             ]
            ],
            "type": "histogram2dcontour"
           }
          ],
          "mesh3d": [
           {
            "colorbar": {
             "outlinewidth": 0,
             "ticks": ""
            },
            "type": "mesh3d"
           }
          ],
          "parcoords": [
           {
            "line": {
             "colorbar": {
              "outlinewidth": 0,
              "ticks": ""
             }
            },
            "type": "parcoords"
           }
          ],
          "pie": [
           {
            "automargin": true,
            "type": "pie"
           }
          ],
          "scatter": [
           {
            "fillpattern": {
             "fillmode": "overlay",
             "size": 10,
             "solidity": 0.2
            },
            "type": "scatter"
           }
          ],
          "scatter3d": [
           {
            "line": {
             "colorbar": {
              "outlinewidth": 0,
              "ticks": ""
             }
            },
            "marker": {
             "colorbar": {
              "outlinewidth": 0,
              "ticks": ""
             }
            },
            "type": "scatter3d"
           }
          ],
          "scattercarpet": [
           {
            "marker": {
             "colorbar": {
              "outlinewidth": 0,
              "ticks": ""
             }
            },
            "type": "scattercarpet"
           }
          ],
          "scattergeo": [
           {
            "marker": {
             "colorbar": {
              "outlinewidth": 0,
              "ticks": ""
             }
            },
            "type": "scattergeo"
           }
          ],
          "scattergl": [
           {
            "marker": {
             "colorbar": {
              "outlinewidth": 0,
              "ticks": ""
             }
            },
            "type": "scattergl"
           }
          ],
          "scattermapbox": [
           {
            "marker": {
             "colorbar": {
              "outlinewidth": 0,
              "ticks": ""
             }
            },
            "type": "scattermapbox"
           }
          ],
          "scatterpolar": [
           {
            "marker": {
             "colorbar": {
              "outlinewidth": 0,
              "ticks": ""
             }
            },
            "type": "scatterpolar"
           }
          ],
          "scatterpolargl": [
           {
            "marker": {
             "colorbar": {
              "outlinewidth": 0,
              "ticks": ""
             }
            },
            "type": "scatterpolargl"
           }
          ],
          "scatterternary": [
           {
            "marker": {
             "colorbar": {
              "outlinewidth": 0,
              "ticks": ""
             }
            },
            "type": "scatterternary"
           }
          ],
          "surface": [
           {
            "colorbar": {
             "outlinewidth": 0,
             "ticks": ""
            },
            "colorscale": [
             [
              0,
              "#0d0887"
             ],
             [
              0.1111111111111111,
              "#46039f"
             ],
             [
              0.2222222222222222,
              "#7201a8"
             ],
             [
              0.3333333333333333,
              "#9c179e"
             ],
             [
              0.4444444444444444,
              "#bd3786"
             ],
             [
              0.5555555555555556,
              "#d8576b"
             ],
             [
              0.6666666666666666,
              "#ed7953"
             ],
             [
              0.7777777777777778,
              "#fb9f3a"
             ],
             [
              0.8888888888888888,
              "#fdca26"
             ],
             [
              1,
              "#f0f921"
             ]
            ],
            "type": "surface"
           }
          ],
          "table": [
           {
            "cells": {
             "fill": {
              "color": "#EBF0F8"
             },
             "line": {
              "color": "white"
             }
            },
            "header": {
             "fill": {
              "color": "#C8D4E3"
             },
             "line": {
              "color": "white"
             }
            },
            "type": "table"
           }
          ]
         },
         "layout": {
          "annotationdefaults": {
           "arrowcolor": "#2a3f5f",
           "arrowhead": 0,
           "arrowwidth": 1
          },
          "autotypenumbers": "strict",
          "coloraxis": {
           "colorbar": {
            "outlinewidth": 0,
            "ticks": ""
           }
          },
          "colorscale": {
           "diverging": [
            [
             0,
             "#8e0152"
            ],
            [
             0.1,
             "#c51b7d"
            ],
            [
             0.2,
             "#de77ae"
            ],
            [
             0.3,
             "#f1b6da"
            ],
            [
             0.4,
             "#fde0ef"
            ],
            [
             0.5,
             "#f7f7f7"
            ],
            [
             0.6,
             "#e6f5d0"
            ],
            [
             0.7,
             "#b8e186"
            ],
            [
             0.8,
             "#7fbc41"
            ],
            [
             0.9,
             "#4d9221"
            ],
            [
             1,
             "#276419"
            ]
           ],
           "sequential": [
            [
             0,
             "#0d0887"
            ],
            [
             0.1111111111111111,
             "#46039f"
            ],
            [
             0.2222222222222222,
             "#7201a8"
            ],
            [
             0.3333333333333333,
             "#9c179e"
            ],
            [
             0.4444444444444444,
             "#bd3786"
            ],
            [
             0.5555555555555556,
             "#d8576b"
            ],
            [
             0.6666666666666666,
             "#ed7953"
            ],
            [
             0.7777777777777778,
             "#fb9f3a"
            ],
            [
             0.8888888888888888,
             "#fdca26"
            ],
            [
             1,
             "#f0f921"
            ]
           ],
           "sequentialminus": [
            [
             0,
             "#0d0887"
            ],
            [
             0.1111111111111111,
             "#46039f"
            ],
            [
             0.2222222222222222,
             "#7201a8"
            ],
            [
             0.3333333333333333,
             "#9c179e"
            ],
            [
             0.4444444444444444,
             "#bd3786"
            ],
            [
             0.5555555555555556,
             "#d8576b"
            ],
            [
             0.6666666666666666,
             "#ed7953"
            ],
            [
             0.7777777777777778,
             "#fb9f3a"
            ],
            [
             0.8888888888888888,
             "#fdca26"
            ],
            [
             1,
             "#f0f921"
            ]
           ]
          },
          "colorway": [
           "#636efa",
           "#EF553B",
           "#00cc96",
           "#ab63fa",
           "#FFA15A",
           "#19d3f3",
           "#FF6692",
           "#B6E880",
           "#FF97FF",
           "#FECB52"
          ],
          "font": {
           "color": "#2a3f5f"
          },
          "geo": {
           "bgcolor": "white",
           "lakecolor": "white",
           "landcolor": "#E5ECF6",
           "showlakes": true,
           "showland": true,
           "subunitcolor": "white"
          },
          "hoverlabel": {
           "align": "left"
          },
          "hovermode": "closest",
          "mapbox": {
           "style": "light"
          },
          "paper_bgcolor": "white",
          "plot_bgcolor": "#E5ECF6",
          "polar": {
           "angularaxis": {
            "gridcolor": "white",
            "linecolor": "white",
            "ticks": ""
           },
           "bgcolor": "#E5ECF6",
           "radialaxis": {
            "gridcolor": "white",
            "linecolor": "white",
            "ticks": ""
           }
          },
          "scene": {
           "xaxis": {
            "backgroundcolor": "#E5ECF6",
            "gridcolor": "white",
            "gridwidth": 2,
            "linecolor": "white",
            "showbackground": true,
            "ticks": "",
            "zerolinecolor": "white"
           },
           "yaxis": {
            "backgroundcolor": "#E5ECF6",
            "gridcolor": "white",
            "gridwidth": 2,
            "linecolor": "white",
            "showbackground": true,
            "ticks": "",
            "zerolinecolor": "white"
           },
           "zaxis": {
            "backgroundcolor": "#E5ECF6",
            "gridcolor": "white",
            "gridwidth": 2,
            "linecolor": "white",
            "showbackground": true,
            "ticks": "",
            "zerolinecolor": "white"
           }
          },
          "shapedefaults": {
           "line": {
            "color": "#2a3f5f"
           }
          },
          "ternary": {
           "aaxis": {
            "gridcolor": "white",
            "linecolor": "white",
            "ticks": ""
           },
           "baxis": {
            "gridcolor": "white",
            "linecolor": "white",
            "ticks": ""
           },
           "bgcolor": "#E5ECF6",
           "caxis": {
            "gridcolor": "white",
            "linecolor": "white",
            "ticks": ""
           }
          },
          "title": {
           "x": 0.05
          },
          "xaxis": {
           "automargin": true,
           "gridcolor": "white",
           "linecolor": "white",
           "ticks": "",
           "title": {
            "standoff": 15
           },
           "zerolinecolor": "white",
           "zerolinewidth": 2
          },
          "yaxis": {
           "automargin": true,
           "gridcolor": "white",
           "linecolor": "white",
           "ticks": "",
           "title": {
            "standoff": 15
           },
           "zerolinecolor": "white",
           "zerolinewidth": 2
          }
         }
        },
        "title": {
         "text": "New York Ski Resort - Random Route"
        }
       }
      }
     },
     "metadata": {},
     "output_type": "display_data"
    }
   ],
   "source": [
    "fig.show()"
   ]
  },
  {
   "cell_type": "markdown",
   "metadata": {},
   "source": [
    "# Optimized Route (Dijkstra's Algorithm)"
   ]
  },
  {
   "cell_type": "code",
   "execution_count": null,
   "metadata": {},
   "outputs": [],
   "source": []
  }
 ],
 "metadata": {
  "kernelspec": {
   "display_name": "NY_SKI_RESORT",
   "language": "python",
   "name": "python3"
  },
  "language_info": {
   "codemirror_mode": {
    "name": "ipython",
    "version": 3
   },
   "file_extension": ".py",
   "mimetype": "text/x-python",
   "name": "python",
   "nbconvert_exporter": "python",
   "pygments_lexer": "ipython3",
   "version": "3.13.1"
  }
 },
 "nbformat": 4,
 "nbformat_minor": 2
}
