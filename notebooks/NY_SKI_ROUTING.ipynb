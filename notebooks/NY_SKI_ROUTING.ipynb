{
 "cells": [
  {
   "cell_type": "markdown",
   "metadata": {},
   "source": [
    "### Import Libraries"
   ]
  },
  {
   "cell_type": "code",
   "execution_count": 1,
   "metadata": {},
   "outputs": [],
   "source": [
    "import pandas as pd\n",
    "import numpy as np\n",
    "import time\n",
    "\n",
    "from geopy.geocoders import Nominatim\n",
    "import random\n",
    "import requests\n",
    "from bs4 import BeautifulSoup\n",
    "\n",
    "import plotly.express as px\n",
    "import plotly.graph_objects as go\n",
    "import polyline\n",
    "\n",
    "import networkx as nx\n",
    "import matplotlib.pyplot as plt"
   ]
  },
  {
   "cell_type": "markdown",
   "metadata": {},
   "source": [
    "# Data Ingest & Initial Processing"
   ]
  },
  {
   "cell_type": "markdown",
   "metadata": {},
   "source": [
    "## Data Sourcing\n",
    "For the purpose of optimizing routes for ski resorts and areas in New York state. The names of these areas are to be parsed from the following website.\n",
    "\n",
    "[Ski Central]('https://www.skicentral.com/') - A popular site to review popular ski destinations worldwide.\n",
    "\n",
    "For the purposes of this optimization, we have restricted the area selection to New York state. The state with the most ski resorts and areas in the US. Obtaining these names and their location data is a straight forward procedure."
   ]
  },
  {
   "cell_type": "markdown",
   "metadata": {},
   "source": [
    "### Web Scraping (Resort Names)"
   ]
  },
  {
   "cell_type": "code",
   "execution_count": 2,
   "metadata": {},
   "outputs": [
    {
     "name": "stdout",
     "output_type": "stream",
     "text": [
      "[<div class=\"resorttitle\"><a href=\"whiteface.html\">Whiteface Mountain</a></div>, <div class=\"resorttitle\"><a href=\"goremountain.html\">Gore Mountain</a></div>, <div class=\"resorttitle\"><a href=\"huntermountain.html\">Hunter Mountain</a></div>, <div class=\"resorttitle\"><a href=\"belleayre.html\">Belleayre Mountain</a></div>, <div class=\"resorttitle\"><a href=\"holidayvalley.html\">Holiday Valley</a></div>, <div class=\"resorttitle\"><a href=\"skiwindham.html\">Windham Mountain</a></div>, <div class=\"resorttitle\"><a href=\"greekpeak.html\">Greek Peak</a></div>, <div class=\"resorttitle\"><a href=\"catamount.html\">Catamount Ski Area</a></div>, <div class=\"resorttitle\"><a href=\"peeknpeak.html\">Peek'n Peak Resort</a></div>, <div class=\"resorttitle\"><a href=\"holimont.html\">HoliMont</a></div>, <div class=\"resorttitle\"><a href=\"beartownskiarea.html\">Beartown Ski Area</a></div>, <div class=\"resorttitle\"><a href=\"brantlingskiandsnowboardcenter.html\">Brantling Ski and Snowboard Center</a></div>, <div class=\"resorttitle\"><a href=\"bristolmountain.html\">Bristol Mountain</a></div>, <div class=\"resorttitle\"><a href=\"buffaloskiclub.html\">Buffalo Ski Club</a></div>, <div class=\"resorttitle\"><a href=\"cazenoviaskiclub.html\">Cazenovia Ski Club</a></div>, <div class=\"resorttitle\"><a href=\"cockaigneskiarea.html\">Cockaigne Ski Area</a></div>, <div class=\"resorttitle\"><a href=\"dryhill.html\">Dry Hill Ski Area</a></div>, <div class=\"resorttitle\"><a href=\"fourseasonsgolfandskicenter.html\">Four Seasons Golf and Ski Center</a></div>, <div class=\"resorttitle\"><a href=\"hickoryskicenter.html\">Hickory Ski Center</a></div>, <div class=\"resorttitle\"><a href=\"holidaymountain.html\">Holiday Mountain</a></div>, <div class=\"resorttitle\"><a href=\"hunthollowskiclub.html\">Hunt Hollow Ski Club</a></div>, <div class=\"resorttitle\"><a href=\"kissingbridge.html\">Kissing Bridge</a></div>, <div class=\"resorttitle\"><a href=\"labradormountain.html\">Labrador Mountain</a></div>, <div class=\"resorttitle\"><a href=\"mapleskiridge.html\">Maple Ski Ridge</a></div>, <div class=\"resorttitle\"><a href=\"mccauleymountain.html\">McCauley Mountain</a></div>, <div class=\"resorttitle\"><a href=\"mountpisgah.html\">Mount Pisgah</a></div>, <div class=\"resorttitle\"><a href=\"mtpeterskiarea.html\">Mt. Peter Ski Area</a></div>, <div class=\"resorttitle\"><a href=\"oakmountainskicenter.html\">Oak Mountain Ski Center</a></div>, <div class=\"resorttitle\"><a href=\"plattekill.html\">Plattekill</a></div>, <div class=\"resorttitle\"><a href=\"polarpeakskibowl.html\">Polar Peak Ski Bowl</a></div>, <div class=\"resorttitle\"><a href=\"royalmountainskiarea.html\">Royal Mountain Ski Area</a></div>, <div class=\"resorttitle\"><a href=\"bigtupper.html\">Ski Big Tupper Again</a></div>, <div class=\"resorttitle\"><a href=\"skiventure.html\">Ski Venture</a></div>, <div class=\"resorttitle\"><a href=\"snowridgeskiarea.html\">Snow Ridge Ski Area</a></div>, <div class=\"resorttitle\"><a href=\"songmountain.html\">Song Mountain</a></div>, <div class=\"resorttitle\"><a href=\"swainskicenter.html\">Swain Resort</a></div>, <div class=\"resorttitle\"><a href=\"thunderridgeskiarea.html\">Thunder Ridge Ski Area</a></div>, <div class=\"resorttitle\"><a href=\"titus.html\">Titus Mountain</a></div>, <div class=\"resorttitle\"><a href=\"westmountainskicenter.html\">West Mountain Ski Center</a></div>, <div class=\"resorttitle\"><a href=\"willardmountainnewyork.html\">Willard Mountain</a></div>, <div class=\"resorttitle\"><a href=\"woodsvalleyskiarea.html\">Woods Valley Ski Area</a></div>]\n",
      "['Whiteface Mountain', 'Gore Mountain', 'Hunter Mountain', 'Belleayre Mountain', 'Holiday Valley', 'Windham Mountain', 'Greek Peak', 'Catamount Ski Area', \"Peek'n Peak Resort\", 'HoliMont', 'Beartown Ski Area', 'Brantling Ski and Snowboard Center', 'Bristol Mountain', 'Buffalo Ski Club', 'Cazenovia Ski Club', 'Cockaigne Ski Area', 'Dry Hill Ski Area', 'Four Seasons Golf and Ski Center', 'Hickory Ski Center', 'Holiday Mountain', 'Hunt Hollow Ski Club', 'Kissing Bridge', 'Labrador Mountain', 'Maple Ski Ridge', 'McCauley Mountain', 'Mount Pisgah', 'Mt. Peter Ski Area', 'Oak Mountain Ski Center', 'Plattekill', 'Polar Peak Ski Bowl', 'Royal Mountain Ski Area', 'Ski Big Tupper Again', 'Ski Venture', 'Snow Ridge Ski Area', 'Song Mountain', 'Swain Resort', 'Thunder Ridge Ski Area', 'Titus Mountain', 'West Mountain Ski Center', 'Willard Mountain', 'Woods Valley Ski Area']\n"
     ]
    }
   ],
   "source": [
    "base_url = \"https://www.skicentral.com\"\n",
    "response = requests.get(f\"{base_url}/newyork.html\")\n",
    "soup = BeautifulSoup(response.text, 'html.parser')\n",
    "\n",
    "resort_titles = soup.find_all('div', class_='resorttitle')\n",
    "resort_names = [title.text.strip() for title in resort_titles]\n",
    "print(resort_titles)\n",
    "print(resort_names)"
   ]
  },
  {
   "cell_type": "markdown",
   "metadata": {},
   "source": [
    "### Parse and collect resort data\n",
    "In order to obtain the mountain statistics located a link deep at each of the `resort_item`s, we must find the associated hyperlink. There is no universal formatting for how the links are named throughout the resort items, so obtaining the link directly in this fashion is necessary over determining it directly from the resort name."
   ]
  },
  {
   "cell_type": "code",
   "execution_count": 3,
   "metadata": {},
   "outputs": [
    {
     "name": "stdout",
     "output_type": "stream",
     "text": [
      "[{'name': 'Whiteface Mountain', 'url': 'https://www.skicentral.com/whiteface.html'}, {'name': 'Gore Mountain', 'url': 'https://www.skicentral.com/goremountain.html'}, {'name': 'Hunter Mountain', 'url': 'https://www.skicentral.com/huntermountain.html'}, {'name': 'Belleayre Mountain', 'url': 'https://www.skicentral.com/belleayre.html'}, {'name': 'Holiday Valley', 'url': 'https://www.skicentral.com/holidayvalley.html'}, {'name': 'Windham Mountain', 'url': 'https://www.skicentral.com/skiwindham.html'}, {'name': 'Greek Peak', 'url': 'https://www.skicentral.com/greekpeak.html'}, {'name': 'Catamount Ski Area', 'url': 'https://www.skicentral.com/catamount.html'}, {'name': \"Peek'n Peak Resort\", 'url': 'https://www.skicentral.com/peeknpeak.html'}, {'name': 'HoliMont', 'url': 'https://www.skicentral.com/holimont.html'}, {'name': 'Beartown Ski Area', 'url': 'https://www.skicentral.com/beartownskiarea.html'}, {'name': 'Brantling Ski and Snowboard Center', 'url': 'https://www.skicentral.com/brantlingskiandsnowboardcenter.html'}, {'name': 'Bristol Mountain', 'url': 'https://www.skicentral.com/bristolmountain.html'}, {'name': 'Buffalo Ski Club', 'url': 'https://www.skicentral.com/buffaloskiclub.html'}, {'name': 'Cazenovia Ski Club', 'url': 'https://www.skicentral.com/cazenoviaskiclub.html'}, {'name': 'Cockaigne Ski Area', 'url': 'https://www.skicentral.com/cockaigneskiarea.html'}, {'name': 'Dry Hill Ski Area', 'url': 'https://www.skicentral.com/dryhill.html'}, {'name': 'Four Seasons Golf and Ski Center', 'url': 'https://www.skicentral.com/fourseasonsgolfandskicenter.html'}, {'name': 'Hickory Ski Center', 'url': 'https://www.skicentral.com/hickoryskicenter.html'}, {'name': 'Holiday Mountain', 'url': 'https://www.skicentral.com/holidaymountain.html'}, {'name': 'Hunt Hollow Ski Club', 'url': 'https://www.skicentral.com/hunthollowskiclub.html'}, {'name': 'Kissing Bridge', 'url': 'https://www.skicentral.com/kissingbridge.html'}, {'name': 'Labrador Mountain', 'url': 'https://www.skicentral.com/labradormountain.html'}, {'name': 'Maple Ski Ridge', 'url': 'https://www.skicentral.com/mapleskiridge.html'}, {'name': 'McCauley Mountain', 'url': 'https://www.skicentral.com/mccauleymountain.html'}, {'name': 'Mount Pisgah', 'url': 'https://www.skicentral.com/mountpisgah.html'}, {'name': 'Mt. Peter Ski Area', 'url': 'https://www.skicentral.com/mtpeterskiarea.html'}, {'name': 'Oak Mountain Ski Center', 'url': 'https://www.skicentral.com/oakmountainskicenter.html'}, {'name': 'Plattekill', 'url': 'https://www.skicentral.com/plattekill.html'}, {'name': 'Polar Peak Ski Bowl', 'url': 'https://www.skicentral.com/polarpeakskibowl.html'}, {'name': 'Royal Mountain Ski Area', 'url': 'https://www.skicentral.com/royalmountainskiarea.html'}, {'name': 'Ski Big Tupper Again', 'url': 'https://www.skicentral.com/bigtupper.html'}, {'name': 'Ski Venture', 'url': 'https://www.skicentral.com/skiventure.html'}, {'name': 'Snow Ridge Ski Area', 'url': 'https://www.skicentral.com/snowridgeskiarea.html'}, {'name': 'Song Mountain', 'url': 'https://www.skicentral.com/songmountain.html'}, {'name': 'Swain Resort', 'url': 'https://www.skicentral.com/swainskicenter.html'}, {'name': 'Thunder Ridge Ski Area', 'url': 'https://www.skicentral.com/thunderridgeskiarea.html'}, {'name': 'Titus Mountain', 'url': 'https://www.skicentral.com/titus.html'}, {'name': 'West Mountain Ski Center', 'url': 'https://www.skicentral.com/westmountainskicenter.html'}, {'name': 'Willard Mountain', 'url': 'https://www.skicentral.com/willardmountainnewyork.html'}, {'name': 'Woods Valley Ski Area', 'url': 'https://www.skicentral.com/woodsvalleyskiarea.html'}]\n"
     ]
    }
   ],
   "source": [
    "resorts = []\n",
    "for title in resort_titles:\n",
    "    link = title.find('a')\n",
    "    resort_url = base_url + \"/\" + link.get('href')\n",
    "    resorts.append({\n",
    "    'name': title.text.strip(),\n",
    "    'url': resort_url})\n",
    "    \n",
    "print(resorts)"
   ]
  },
  {
   "cell_type": "markdown",
   "metadata": {},
   "source": [
    "Once the link to each of the specified mountain pages have been collected, they are organized by name and url in a dictionary by making the link object into an iteratable object with the if statement."
   ]
  },
  {
   "cell_type": "code",
   "execution_count": 4,
   "metadata": {},
   "outputs": [
    {
     "data": {
      "text/html": [
       "<div>\n",
       "<style scoped>\n",
       "    .dataframe tbody tr th:only-of-type {\n",
       "        vertical-align: middle;\n",
       "    }\n",
       "\n",
       "    .dataframe tbody tr th {\n",
       "        vertical-align: top;\n",
       "    }\n",
       "\n",
       "    .dataframe thead th {\n",
       "        text-align: right;\n",
       "    }\n",
       "</style>\n",
       "<table border=\"1\" class=\"dataframe\">\n",
       "  <thead>\n",
       "    <tr style=\"text-align: right;\">\n",
       "      <th></th>\n",
       "      <th>name</th>\n",
       "      <th>url</th>\n",
       "      <th>latitude</th>\n",
       "      <th>longitude</th>\n",
       "      <th>address</th>\n",
       "      <th>vertical_rise</th>\n",
       "      <th>base_elevation</th>\n",
       "      <th>summit_elevation</th>\n",
       "      <th>annual_snowfall</th>\n",
       "      <th>number_of_trails</th>\n",
       "      <th>skiable_acres</th>\n",
       "      <th>longest_run</th>\n",
       "      <th>snowmaking</th>\n",
       "    </tr>\n",
       "  </thead>\n",
       "  <tbody>\n",
       "    <tr>\n",
       "      <th>0</th>\n",
       "      <td>Whiteface Mountain</td>\n",
       "      <td>https://www.skicentral.com/whiteface.html</td>\n",
       "      <td>44.365784</td>\n",
       "      <td>-73.902984</td>\n",
       "      <td>Whiteface Mountain, Essex County, New York, Un...</td>\n",
       "      <td>3430 ft</td>\n",
       "      <td>1220 ft</td>\n",
       "      <td>4650 ft</td>\n",
       "      <td>190 inches</td>\n",
       "      <td>90</td>\n",
       "      <td>288</td>\n",
       "      <td>2.1 miles / 3.4 km</td>\n",
       "      <td>98%</td>\n",
       "    </tr>\n",
       "    <tr>\n",
       "      <th>1</th>\n",
       "      <td>Gore Mountain</td>\n",
       "      <td>https://www.skicentral.com/goremountain.html</td>\n",
       "      <td>43.672954</td>\n",
       "      <td>-74.048853</td>\n",
       "      <td>Gore Mountain, Town of Johnsburg, Warren Count...</td>\n",
       "      <td>2537 ft</td>\n",
       "      <td>998 ft</td>\n",
       "      <td>3600 ft</td>\n",
       "      <td>150 inches</td>\n",
       "      <td>107</td>\n",
       "      <td>439</td>\n",
       "      <td>4.4 miles / 7.1 km</td>\n",
       "      <td>97%</td>\n",
       "    </tr>\n",
       "    <tr>\n",
       "      <th>2</th>\n",
       "      <td>Hunter Mountain</td>\n",
       "      <td>https://www.skicentral.com/huntermountain.html</td>\n",
       "      <td>42.177866</td>\n",
       "      <td>-74.230422</td>\n",
       "      <td>Hunter Mountain, Town of Hunter, Greene County...</td>\n",
       "      <td>1600 ft</td>\n",
       "      <td>1600 ft</td>\n",
       "      <td>3200 ft</td>\n",
       "      <td>125 inches</td>\n",
       "      <td>58</td>\n",
       "      <td>240</td>\n",
       "      <td>n/a</td>\n",
       "      <td>100%</td>\n",
       "    </tr>\n",
       "    <tr>\n",
       "      <th>3</th>\n",
       "      <td>Belleayre Mountain</td>\n",
       "      <td>https://www.skicentral.com/belleayre.html</td>\n",
       "      <td>42.126893</td>\n",
       "      <td>-74.474075</td>\n",
       "      <td>Belleayre Mountain Day Use Area, Pine Hill, To...</td>\n",
       "      <td>1404 ft</td>\n",
       "      <td>2025 ft</td>\n",
       "      <td>3429 ft</td>\n",
       "      <td>141 inches</td>\n",
       "      <td>50</td>\n",
       "      <td>171</td>\n",
       "      <td>n/a</td>\n",
       "      <td>96%</td>\n",
       "    </tr>\n",
       "    <tr>\n",
       "      <th>4</th>\n",
       "      <td>Holiday Valley</td>\n",
       "      <td>https://www.skicentral.com/holidayvalley.html</td>\n",
       "      <td>42.263145</td>\n",
       "      <td>-78.663611</td>\n",
       "      <td>Holiday Valley, Town of Ellicottville, Cattara...</td>\n",
       "      <td>750 ft</td>\n",
       "      <td>1500 ft</td>\n",
       "      <td>2250 ft</td>\n",
       "      <td>180 inches</td>\n",
       "      <td>58</td>\n",
       "      <td>290</td>\n",
       "      <td>0.8 miles / 1.3 km</td>\n",
       "      <td>95%</td>\n",
       "    </tr>\n",
       "  </tbody>\n",
       "</table>\n",
       "</div>"
      ],
      "text/plain": [
       "                 name                                             url  \\\n",
       "0  Whiteface Mountain       https://www.skicentral.com/whiteface.html   \n",
       "1       Gore Mountain    https://www.skicentral.com/goremountain.html   \n",
       "2     Hunter Mountain  https://www.skicentral.com/huntermountain.html   \n",
       "3  Belleayre Mountain       https://www.skicentral.com/belleayre.html   \n",
       "4      Holiday Valley   https://www.skicentral.com/holidayvalley.html   \n",
       "\n",
       "    latitude  longitude                                            address  \\\n",
       "0  44.365784 -73.902984  Whiteface Mountain, Essex County, New York, Un...   \n",
       "1  43.672954 -74.048853  Gore Mountain, Town of Johnsburg, Warren Count...   \n",
       "2  42.177866 -74.230422  Hunter Mountain, Town of Hunter, Greene County...   \n",
       "3  42.126893 -74.474075  Belleayre Mountain Day Use Area, Pine Hill, To...   \n",
       "4  42.263145 -78.663611  Holiday Valley, Town of Ellicottville, Cattara...   \n",
       "\n",
       "  vertical_rise base_elevation summit_elevation annual_snowfall  \\\n",
       "0       3430 ft        1220 ft          4650 ft      190 inches   \n",
       "1       2537 ft         998 ft          3600 ft      150 inches   \n",
       "2       1600 ft        1600 ft          3200 ft      125 inches   \n",
       "3       1404 ft        2025 ft          3429 ft      141 inches   \n",
       "4        750 ft        1500 ft          2250 ft      180 inches   \n",
       "\n",
       "  number_of_trails skiable_acres         longest_run snowmaking  \n",
       "0               90           288  2.1 miles / 3.4 km        98%  \n",
       "1              107           439  4.4 miles / 7.1 km        97%  \n",
       "2               58           240                 n/a       100%  \n",
       "3               50           171                 n/a        96%  \n",
       "4               58           290  0.8 miles / 1.3 km        95%  "
      ]
     },
     "execution_count": 4,
     "metadata": {},
     "output_type": "execute_result"
    }
   ],
   "source": [
    "geolocator = Nominatim(user_agent=\"DCJT3_NY_SKI\")\n",
    "\n",
    "for resort in resorts:\n",
    "    location = geolocator.geocode(f\"{resort['name']}, NY\")\n",
    "    if location:\n",
    "        resort['latitude'] = location.latitude\n",
    "        resort['longitude'] = location.longitude\n",
    "        resort['address'] = location.address\n",
    "\n",
    "    # Mountain stats scrape\n",
    "    response = requests.get(resort['url'])\n",
    "    resort_soup = BeautifulSoup(response.text, 'html.parser')\n",
    "    stats_table = resort_soup.find('table', id='mountainstatistics')\n",
    "\n",
    "    for row in stats_table.find_all('tr'):\n",
    "        cols = row.find_all(['td', 'th'])\n",
    "        if len(cols) == 2:\n",
    "            stat_name = cols[0].text.strip().lower().replace(' ', '_')\n",
    "            stat_value = cols[1].text.strip()\n",
    "            resort[stat_name] = stat_value\n",
    "    \n",
    "time.sleep(1)\n",
    "\n",
    "df = pd.DataFrame(resorts)\n",
    "df.head()"
   ]
  },
  {
   "cell_type": "markdown",
   "metadata": {},
   "source": [
    "# Data Description\n",
    "\n",
    "- **name**: name of the resort as it appears on the web source.\n",
    "- **url**: URL of the resort or ski area as presented on the web source.\n",
    "- **vertical_rise**: a measurement of the total elevation change a skier descends from the highest point to the lowest point on a ski run.\n",
    "- **base_elevation**: a measurment of the altitude at the bottom of the ski resort or ski area, essentially the lowest point of on the mountain accessable to skiers.\n",
    "- **summit_elevation**: a measurement of the height above sea level of the highest point on a mountain.\n",
    "- **annual_snowfall**: the total amount of snow that falls over the course of a year.\n",
    "- **number_of_trails**: the total number of trails on the mountain\n",
    "- **skiable_acres**: the amount of terrain that is accessible by ski.\n",
    "- **longest_run**: a measurement refering to a continuous downhill ski slope that covers the greatest distance from top to bottom on a mountain.\n",
    "- **snowmaking**: a measurement or indication that the ski resort or area creates artifical snow for the purpose producing snow when natural snowfall is limited.\n",
    "- **latitude**: decimal latitude of resort location.\n",
    "- **longitude**: decimal longitude of resort location.\n",
    "- **address**: geolocated address based on query \"`name`, NY\"."
   ]
  },
  {
   "cell_type": "markdown",
   "metadata": {},
   "source": [
    "# Data Processing"
   ]
  },
  {
   "cell_type": "code",
   "execution_count": 5,
   "metadata": {},
   "outputs": [
    {
     "name": "stderr",
     "output_type": "stream",
     "text": [
      "/tmp/ipykernel_121252/1675859879.py:2: SettingWithCopyWarning: \n",
      "A value is trying to be set on a copy of a slice from a DataFrame.\n",
      "Try using .loc[row_indexer,col_indexer] = value instead\n",
      "\n",
      "See the caveats in the documentation: https://pandas.pydata.org/pandas-docs/stable/user_guide/indexing.html#returning-a-view-versus-a-copy\n",
      "  df_clean['vertical_rise_num'] = df_clean['vertical_rise'].str.replace(' ft', '').astype(float)\n"
     ]
    },
    {
     "data": {
      "text/html": [
       "<div>\n",
       "<style scoped>\n",
       "    .dataframe tbody tr th:only-of-type {\n",
       "        vertical-align: middle;\n",
       "    }\n",
       "\n",
       "    .dataframe tbody tr th {\n",
       "        vertical-align: top;\n",
       "    }\n",
       "\n",
       "    .dataframe thead th {\n",
       "        text-align: right;\n",
       "    }\n",
       "</style>\n",
       "<table border=\"1\" class=\"dataframe\">\n",
       "  <thead>\n",
       "    <tr style=\"text-align: right;\">\n",
       "      <th></th>\n",
       "      <th>name</th>\n",
       "      <th>url</th>\n",
       "      <th>latitude</th>\n",
       "      <th>longitude</th>\n",
       "      <th>address</th>\n",
       "      <th>vertical_rise</th>\n",
       "      <th>base_elevation</th>\n",
       "      <th>summit_elevation</th>\n",
       "      <th>annual_snowfall</th>\n",
       "      <th>number_of_trails</th>\n",
       "      <th>skiable_acres</th>\n",
       "      <th>longest_run</th>\n",
       "      <th>snowmaking</th>\n",
       "      <th>vertical_rise_num</th>\n",
       "    </tr>\n",
       "  </thead>\n",
       "  <tbody>\n",
       "    <tr>\n",
       "      <th>0</th>\n",
       "      <td>Whiteface Mountain</td>\n",
       "      <td>https://www.skicentral.com/whiteface.html</td>\n",
       "      <td>44.365784</td>\n",
       "      <td>-73.902984</td>\n",
       "      <td>Whiteface Mountain, Essex County, New York, Un...</td>\n",
       "      <td>3430 ft</td>\n",
       "      <td>1220 ft</td>\n",
       "      <td>4650 ft</td>\n",
       "      <td>190 inches</td>\n",
       "      <td>90</td>\n",
       "      <td>288</td>\n",
       "      <td>2.1 miles / 3.4 km</td>\n",
       "      <td>98%</td>\n",
       "      <td>3430.0</td>\n",
       "    </tr>\n",
       "    <tr>\n",
       "      <th>1</th>\n",
       "      <td>Gore Mountain</td>\n",
       "      <td>https://www.skicentral.com/goremountain.html</td>\n",
       "      <td>43.672954</td>\n",
       "      <td>-74.048853</td>\n",
       "      <td>Gore Mountain, Town of Johnsburg, Warren Count...</td>\n",
       "      <td>2537 ft</td>\n",
       "      <td>998 ft</td>\n",
       "      <td>3600 ft</td>\n",
       "      <td>150 inches</td>\n",
       "      <td>107</td>\n",
       "      <td>439</td>\n",
       "      <td>4.4 miles / 7.1 km</td>\n",
       "      <td>97%</td>\n",
       "      <td>2537.0</td>\n",
       "    </tr>\n",
       "    <tr>\n",
       "      <th>2</th>\n",
       "      <td>Hunter Mountain</td>\n",
       "      <td>https://www.skicentral.com/huntermountain.html</td>\n",
       "      <td>42.177866</td>\n",
       "      <td>-74.230422</td>\n",
       "      <td>Hunter Mountain, Town of Hunter, Greene County...</td>\n",
       "      <td>1600 ft</td>\n",
       "      <td>1600 ft</td>\n",
       "      <td>3200 ft</td>\n",
       "      <td>125 inches</td>\n",
       "      <td>58</td>\n",
       "      <td>240</td>\n",
       "      <td>n/a</td>\n",
       "      <td>100%</td>\n",
       "      <td>1600.0</td>\n",
       "    </tr>\n",
       "    <tr>\n",
       "      <th>3</th>\n",
       "      <td>Belleayre Mountain</td>\n",
       "      <td>https://www.skicentral.com/belleayre.html</td>\n",
       "      <td>42.126893</td>\n",
       "      <td>-74.474075</td>\n",
       "      <td>Belleayre Mountain Day Use Area, Pine Hill, To...</td>\n",
       "      <td>1404 ft</td>\n",
       "      <td>2025 ft</td>\n",
       "      <td>3429 ft</td>\n",
       "      <td>141 inches</td>\n",
       "      <td>50</td>\n",
       "      <td>171</td>\n",
       "      <td>n/a</td>\n",
       "      <td>96%</td>\n",
       "      <td>1404.0</td>\n",
       "    </tr>\n",
       "    <tr>\n",
       "      <th>4</th>\n",
       "      <td>Holiday Valley</td>\n",
       "      <td>https://www.skicentral.com/holidayvalley.html</td>\n",
       "      <td>42.263145</td>\n",
       "      <td>-78.663611</td>\n",
       "      <td>Holiday Valley, Town of Ellicottville, Cattara...</td>\n",
       "      <td>750 ft</td>\n",
       "      <td>1500 ft</td>\n",
       "      <td>2250 ft</td>\n",
       "      <td>180 inches</td>\n",
       "      <td>58</td>\n",
       "      <td>290</td>\n",
       "      <td>0.8 miles / 1.3 km</td>\n",
       "      <td>95%</td>\n",
       "      <td>750.0</td>\n",
       "    </tr>\n",
       "    <tr>\n",
       "      <th>5</th>\n",
       "      <td>Windham Mountain</td>\n",
       "      <td>https://www.skicentral.com/skiwindham.html</td>\n",
       "      <td>42.293926</td>\n",
       "      <td>-74.261312</td>\n",
       "      <td>Windham Mountain Club, Town of Windham, Greene...</td>\n",
       "      <td>1600 ft</td>\n",
       "      <td>1500 ft</td>\n",
       "      <td>3100 ft</td>\n",
       "      <td>105 inches</td>\n",
       "      <td>54</td>\n",
       "      <td>285</td>\n",
       "      <td>n/a</td>\n",
       "      <td>97%</td>\n",
       "      <td>1600.0</td>\n",
       "    </tr>\n",
       "    <tr>\n",
       "      <th>6</th>\n",
       "      <td>Greek Peak</td>\n",
       "      <td>https://www.skicentral.com/greekpeak.html</td>\n",
       "      <td>42.502320</td>\n",
       "      <td>-76.148046</td>\n",
       "      <td>Greek Peak Mountain Resort, 2000, South Hill R...</td>\n",
       "      <td>952 ft</td>\n",
       "      <td>1148 ft</td>\n",
       "      <td>2100 ft</td>\n",
       "      <td>122 inches</td>\n",
       "      <td>38</td>\n",
       "      <td>220</td>\n",
       "      <td>1.5 miles / 2.4 km</td>\n",
       "      <td>83%</td>\n",
       "      <td>952.0</td>\n",
       "    </tr>\n",
       "    <tr>\n",
       "      <th>8</th>\n",
       "      <td>Peek'n Peak Resort</td>\n",
       "      <td>https://www.skicentral.com/peeknpeak.html</td>\n",
       "      <td>42.060463</td>\n",
       "      <td>-79.744066</td>\n",
       "      <td>Peek'n Peak Resort, Abbey Lane, Town of French...</td>\n",
       "      <td>400 ft</td>\n",
       "      <td>1400 ft</td>\n",
       "      <td>1800 ft</td>\n",
       "      <td>200 inches</td>\n",
       "      <td>27</td>\n",
       "      <td>105</td>\n",
       "      <td>0 miles / 1 km</td>\n",
       "      <td>100%</td>\n",
       "      <td>400.0</td>\n",
       "    </tr>\n",
       "    <tr>\n",
       "      <th>10</th>\n",
       "      <td>Beartown Ski Area</td>\n",
       "      <td>https://www.skicentral.com/beartownskiarea.html</td>\n",
       "      <td>44.764111</td>\n",
       "      <td>-73.584055</td>\n",
       "      <td>Beartown Ski Area, Beartown Road, Beartown, To...</td>\n",
       "      <td>150 ft</td>\n",
       "      <td>n/a</td>\n",
       "      <td>n/a</td>\n",
       "      <td>n/a</td>\n",
       "      <td>9</td>\n",
       "      <td>n/a</td>\n",
       "      <td>n/a</td>\n",
       "      <td>yes</td>\n",
       "      <td>150.0</td>\n",
       "    </tr>\n",
       "  </tbody>\n",
       "</table>\n",
       "</div>"
      ],
      "text/plain": [
       "                  name                                              url  \\\n",
       "0   Whiteface Mountain        https://www.skicentral.com/whiteface.html   \n",
       "1        Gore Mountain     https://www.skicentral.com/goremountain.html   \n",
       "2      Hunter Mountain   https://www.skicentral.com/huntermountain.html   \n",
       "3   Belleayre Mountain        https://www.skicentral.com/belleayre.html   \n",
       "4       Holiday Valley    https://www.skicentral.com/holidayvalley.html   \n",
       "5     Windham Mountain       https://www.skicentral.com/skiwindham.html   \n",
       "6           Greek Peak        https://www.skicentral.com/greekpeak.html   \n",
       "8   Peek'n Peak Resort        https://www.skicentral.com/peeknpeak.html   \n",
       "10   Beartown Ski Area  https://www.skicentral.com/beartownskiarea.html   \n",
       "\n",
       "     latitude  longitude                                            address  \\\n",
       "0   44.365784 -73.902984  Whiteface Mountain, Essex County, New York, Un...   \n",
       "1   43.672954 -74.048853  Gore Mountain, Town of Johnsburg, Warren Count...   \n",
       "2   42.177866 -74.230422  Hunter Mountain, Town of Hunter, Greene County...   \n",
       "3   42.126893 -74.474075  Belleayre Mountain Day Use Area, Pine Hill, To...   \n",
       "4   42.263145 -78.663611  Holiday Valley, Town of Ellicottville, Cattara...   \n",
       "5   42.293926 -74.261312  Windham Mountain Club, Town of Windham, Greene...   \n",
       "6   42.502320 -76.148046  Greek Peak Mountain Resort, 2000, South Hill R...   \n",
       "8   42.060463 -79.744066  Peek'n Peak Resort, Abbey Lane, Town of French...   \n",
       "10  44.764111 -73.584055  Beartown Ski Area, Beartown Road, Beartown, To...   \n",
       "\n",
       "   vertical_rise base_elevation summit_elevation annual_snowfall  \\\n",
       "0        3430 ft        1220 ft          4650 ft      190 inches   \n",
       "1        2537 ft         998 ft          3600 ft      150 inches   \n",
       "2        1600 ft        1600 ft          3200 ft      125 inches   \n",
       "3        1404 ft        2025 ft          3429 ft      141 inches   \n",
       "4         750 ft        1500 ft          2250 ft      180 inches   \n",
       "5        1600 ft        1500 ft          3100 ft      105 inches   \n",
       "6         952 ft        1148 ft          2100 ft      122 inches   \n",
       "8         400 ft        1400 ft          1800 ft      200 inches   \n",
       "10        150 ft            n/a              n/a             n/a   \n",
       "\n",
       "   number_of_trails skiable_acres         longest_run snowmaking  \\\n",
       "0                90           288  2.1 miles / 3.4 km        98%   \n",
       "1               107           439  4.4 miles / 7.1 km        97%   \n",
       "2                58           240                 n/a       100%   \n",
       "3                50           171                 n/a        96%   \n",
       "4                58           290  0.8 miles / 1.3 km        95%   \n",
       "5                54           285                 n/a        97%   \n",
       "6                38           220  1.5 miles / 2.4 km        83%   \n",
       "8                27           105      0 miles / 1 km       100%   \n",
       "10                9           n/a                 n/a        yes   \n",
       "\n",
       "    vertical_rise_num  \n",
       "0              3430.0  \n",
       "1              2537.0  \n",
       "2              1600.0  \n",
       "3              1404.0  \n",
       "4               750.0  \n",
       "5              1600.0  \n",
       "6               952.0  \n",
       "8               400.0  \n",
       "10              150.0  "
      ]
     },
     "execution_count": 5,
     "metadata": {},
     "output_type": "execute_result"
    }
   ],
   "source": [
    "df_clean = df.dropna(subset=['latitude', 'longitude'])\n",
    "df_clean['vertical_rise_num'] = df_clean['vertical_rise'].str.replace(' ft', '').astype(float)\n",
    "df_filtered = df_clean[df_clean['name'] != 'HoliMont'] # removed, too close to Holiday Valley (higher elevation)\n",
    "top_9 = df_filtered.head(9)\n",
    "top_9"
   ]
  },
  {
   "cell_type": "code",
   "execution_count": 6,
   "metadata": {},
   "outputs": [
    {
     "data": {
      "application/vnd.plotly.v1+json": {
       "config": {
        "plotlyServerURL": "https://plot.ly"
       },
       "data": [
        {
         "hovertemplate": "<b>%{hovertext}</b><br><br>latitude=%{lat}<br>longitude=%{lon}<extra></extra>",
         "hovertext": [
          "Whiteface Mountain",
          "Gore Mountain",
          "Hunter Mountain",
          "Belleayre Mountain",
          "Holiday Valley",
          "Windham Mountain",
          "Greek Peak",
          "Peek'n Peak Resort",
          "Beartown Ski Area"
         ],
         "lat": [
          44.3657845,
          43.672954,
          42.1778662,
          42.12689335,
          42.2631454,
          42.29392565,
          42.50232045,
          42.06046265,
          44.7641115
         ],
         "legendgroup": "",
         "lon": [
          -73.9029843,
          -74.0488526,
          -74.2304216,
          -74.47407468091113,
          -78.6636114,
          -74.2613118092174,
          -76.14804555790452,
          -79.7440664815112,
          -73.5840546
         ],
         "marker": {
          "color": "#636efa"
         },
         "mode": "markers",
         "name": "",
         "showlegend": false,
         "subplot": "mapbox",
         "type": "scattermapbox"
        }
       ],
       "layout": {
        "legend": {
         "tracegroupgap": 0
        },
        "mapbox": {
         "center": {
          "lat": 43.2994,
          "lon": -74.2179
         },
         "domain": {
          "x": [
           0,
           1
          ],
          "y": [
           0,
           1
          ]
         },
         "style": "carto-positron",
         "zoom": 5
        },
        "margin": {
         "b": 0,
         "l": 0,
         "r": 0,
         "t": 30
        },
        "template": {
         "data": {
          "bar": [
           {
            "error_x": {
             "color": "#2a3f5f"
            },
            "error_y": {
             "color": "#2a3f5f"
            },
            "marker": {
             "line": {
              "color": "#E5ECF6",
              "width": 0.5
             },
             "pattern": {
              "fillmode": "overlay",
              "size": 10,
              "solidity": 0.2
             }
            },
            "type": "bar"
           }
          ],
          "barpolar": [
           {
            "marker": {
             "line": {
              "color": "#E5ECF6",
              "width": 0.5
             },
             "pattern": {
              "fillmode": "overlay",
              "size": 10,
              "solidity": 0.2
             }
            },
            "type": "barpolar"
           }
          ],
          "carpet": [
           {
            "aaxis": {
             "endlinecolor": "#2a3f5f",
             "gridcolor": "white",
             "linecolor": "white",
             "minorgridcolor": "white",
             "startlinecolor": "#2a3f5f"
            },
            "baxis": {
             "endlinecolor": "#2a3f5f",
             "gridcolor": "white",
             "linecolor": "white",
             "minorgridcolor": "white",
             "startlinecolor": "#2a3f5f"
            },
            "type": "carpet"
           }
          ],
          "choropleth": [
           {
            "colorbar": {
             "outlinewidth": 0,
             "ticks": ""
            },
            "type": "choropleth"
           }
          ],
          "contour": [
           {
            "colorbar": {
             "outlinewidth": 0,
             "ticks": ""
            },
            "colorscale": [
             [
              0,
              "#0d0887"
             ],
             [
              0.1111111111111111,
              "#46039f"
             ],
             [
              0.2222222222222222,
              "#7201a8"
             ],
             [
              0.3333333333333333,
              "#9c179e"
             ],
             [
              0.4444444444444444,
              "#bd3786"
             ],
             [
              0.5555555555555556,
              "#d8576b"
             ],
             [
              0.6666666666666666,
              "#ed7953"
             ],
             [
              0.7777777777777778,
              "#fb9f3a"
             ],
             [
              0.8888888888888888,
              "#fdca26"
             ],
             [
              1,
              "#f0f921"
             ]
            ],
            "type": "contour"
           }
          ],
          "contourcarpet": [
           {
            "colorbar": {
             "outlinewidth": 0,
             "ticks": ""
            },
            "type": "contourcarpet"
           }
          ],
          "heatmap": [
           {
            "colorbar": {
             "outlinewidth": 0,
             "ticks": ""
            },
            "colorscale": [
             [
              0,
              "#0d0887"
             ],
             [
              0.1111111111111111,
              "#46039f"
             ],
             [
              0.2222222222222222,
              "#7201a8"
             ],
             [
              0.3333333333333333,
              "#9c179e"
             ],
             [
              0.4444444444444444,
              "#bd3786"
             ],
             [
              0.5555555555555556,
              "#d8576b"
             ],
             [
              0.6666666666666666,
              "#ed7953"
             ],
             [
              0.7777777777777778,
              "#fb9f3a"
             ],
             [
              0.8888888888888888,
              "#fdca26"
             ],
             [
              1,
              "#f0f921"
             ]
            ],
            "type": "heatmap"
           }
          ],
          "heatmapgl": [
           {
            "colorbar": {
             "outlinewidth": 0,
             "ticks": ""
            },
            "colorscale": [
             [
              0,
              "#0d0887"
             ],
             [
              0.1111111111111111,
              "#46039f"
             ],
             [
              0.2222222222222222,
              "#7201a8"
             ],
             [
              0.3333333333333333,
              "#9c179e"
             ],
             [
              0.4444444444444444,
              "#bd3786"
             ],
             [
              0.5555555555555556,
              "#d8576b"
             ],
             [
              0.6666666666666666,
              "#ed7953"
             ],
             [
              0.7777777777777778,
              "#fb9f3a"
             ],
             [
              0.8888888888888888,
              "#fdca26"
             ],
             [
              1,
              "#f0f921"
             ]
            ],
            "type": "heatmapgl"
           }
          ],
          "histogram": [
           {
            "marker": {
             "pattern": {
              "fillmode": "overlay",
              "size": 10,
              "solidity": 0.2
             }
            },
            "type": "histogram"
           }
          ],
          "histogram2d": [
           {
            "colorbar": {
             "outlinewidth": 0,
             "ticks": ""
            },
            "colorscale": [
             [
              0,
              "#0d0887"
             ],
             [
              0.1111111111111111,
              "#46039f"
             ],
             [
              0.2222222222222222,
              "#7201a8"
             ],
             [
              0.3333333333333333,
              "#9c179e"
             ],
             [
              0.4444444444444444,
              "#bd3786"
             ],
             [
              0.5555555555555556,
              "#d8576b"
             ],
             [
              0.6666666666666666,
              "#ed7953"
             ],
             [
              0.7777777777777778,
              "#fb9f3a"
             ],
             [
              0.8888888888888888,
              "#fdca26"
             ],
             [
              1,
              "#f0f921"
             ]
            ],
            "type": "histogram2d"
           }
          ],
          "histogram2dcontour": [
           {
            "colorbar": {
             "outlinewidth": 0,
             "ticks": ""
            },
            "colorscale": [
             [
              0,
              "#0d0887"
             ],
             [
              0.1111111111111111,
              "#46039f"
             ],
             [
              0.2222222222222222,
              "#7201a8"
             ],
             [
              0.3333333333333333,
              "#9c179e"
             ],
             [
              0.4444444444444444,
              "#bd3786"
             ],
             [
              0.5555555555555556,
              "#d8576b"
             ],
             [
              0.6666666666666666,
              "#ed7953"
             ],
             [
              0.7777777777777778,
              "#fb9f3a"
             ],
             [
              0.8888888888888888,
              "#fdca26"
             ],
             [
              1,
              "#f0f921"
             ]
            ],
            "type": "histogram2dcontour"
           }
          ],
          "mesh3d": [
           {
            "colorbar": {
             "outlinewidth": 0,
             "ticks": ""
            },
            "type": "mesh3d"
           }
          ],
          "parcoords": [
           {
            "line": {
             "colorbar": {
              "outlinewidth": 0,
              "ticks": ""
             }
            },
            "type": "parcoords"
           }
          ],
          "pie": [
           {
            "automargin": true,
            "type": "pie"
           }
          ],
          "scatter": [
           {
            "fillpattern": {
             "fillmode": "overlay",
             "size": 10,
             "solidity": 0.2
            },
            "type": "scatter"
           }
          ],
          "scatter3d": [
           {
            "line": {
             "colorbar": {
              "outlinewidth": 0,
              "ticks": ""
             }
            },
            "marker": {
             "colorbar": {
              "outlinewidth": 0,
              "ticks": ""
             }
            },
            "type": "scatter3d"
           }
          ],
          "scattercarpet": [
           {
            "marker": {
             "colorbar": {
              "outlinewidth": 0,
              "ticks": ""
             }
            },
            "type": "scattercarpet"
           }
          ],
          "scattergeo": [
           {
            "marker": {
             "colorbar": {
              "outlinewidth": 0,
              "ticks": ""
             }
            },
            "type": "scattergeo"
           }
          ],
          "scattergl": [
           {
            "marker": {
             "colorbar": {
              "outlinewidth": 0,
              "ticks": ""
             }
            },
            "type": "scattergl"
           }
          ],
          "scattermapbox": [
           {
            "marker": {
             "colorbar": {
              "outlinewidth": 0,
              "ticks": ""
             }
            },
            "type": "scattermapbox"
           }
          ],
          "scatterpolar": [
           {
            "marker": {
             "colorbar": {
              "outlinewidth": 0,
              "ticks": ""
             }
            },
            "type": "scatterpolar"
           }
          ],
          "scatterpolargl": [
           {
            "marker": {
             "colorbar": {
              "outlinewidth": 0,
              "ticks": ""
             }
            },
            "type": "scatterpolargl"
           }
          ],
          "scatterternary": [
           {
            "marker": {
             "colorbar": {
              "outlinewidth": 0,
              "ticks": ""
             }
            },
            "type": "scatterternary"
           }
          ],
          "surface": [
           {
            "colorbar": {
             "outlinewidth": 0,
             "ticks": ""
            },
            "colorscale": [
             [
              0,
              "#0d0887"
             ],
             [
              0.1111111111111111,
              "#46039f"
             ],
             [
              0.2222222222222222,
              "#7201a8"
             ],
             [
              0.3333333333333333,
              "#9c179e"
             ],
             [
              0.4444444444444444,
              "#bd3786"
             ],
             [
              0.5555555555555556,
              "#d8576b"
             ],
             [
              0.6666666666666666,
              "#ed7953"
             ],
             [
              0.7777777777777778,
              "#fb9f3a"
             ],
             [
              0.8888888888888888,
              "#fdca26"
             ],
             [
              1,
              "#f0f921"
             ]
            ],
            "type": "surface"
           }
          ],
          "table": [
           {
            "cells": {
             "fill": {
              "color": "#EBF0F8"
             },
             "line": {
              "color": "white"
             }
            },
            "header": {
             "fill": {
              "color": "#C8D4E3"
             },
             "line": {
              "color": "white"
             }
            },
            "type": "table"
           }
          ]
         },
         "layout": {
          "annotationdefaults": {
           "arrowcolor": "#2a3f5f",
           "arrowhead": 0,
           "arrowwidth": 1
          },
          "autotypenumbers": "strict",
          "coloraxis": {
           "colorbar": {
            "outlinewidth": 0,
            "ticks": ""
           }
          },
          "colorscale": {
           "diverging": [
            [
             0,
             "#8e0152"
            ],
            [
             0.1,
             "#c51b7d"
            ],
            [
             0.2,
             "#de77ae"
            ],
            [
             0.3,
             "#f1b6da"
            ],
            [
             0.4,
             "#fde0ef"
            ],
            [
             0.5,
             "#f7f7f7"
            ],
            [
             0.6,
             "#e6f5d0"
            ],
            [
             0.7,
             "#b8e186"
            ],
            [
             0.8,
             "#7fbc41"
            ],
            [
             0.9,
             "#4d9221"
            ],
            [
             1,
             "#276419"
            ]
           ],
           "sequential": [
            [
             0,
             "#0d0887"
            ],
            [
             0.1111111111111111,
             "#46039f"
            ],
            [
             0.2222222222222222,
             "#7201a8"
            ],
            [
             0.3333333333333333,
             "#9c179e"
            ],
            [
             0.4444444444444444,
             "#bd3786"
            ],
            [
             0.5555555555555556,
             "#d8576b"
            ],
            [
             0.6666666666666666,
             "#ed7953"
            ],
            [
             0.7777777777777778,
             "#fb9f3a"
            ],
            [
             0.8888888888888888,
             "#fdca26"
            ],
            [
             1,
             "#f0f921"
            ]
           ],
           "sequentialminus": [
            [
             0,
             "#0d0887"
            ],
            [
             0.1111111111111111,
             "#46039f"
            ],
            [
             0.2222222222222222,
             "#7201a8"
            ],
            [
             0.3333333333333333,
             "#9c179e"
            ],
            [
             0.4444444444444444,
             "#bd3786"
            ],
            [
             0.5555555555555556,
             "#d8576b"
            ],
            [
             0.6666666666666666,
             "#ed7953"
            ],
            [
             0.7777777777777778,
             "#fb9f3a"
            ],
            [
             0.8888888888888888,
             "#fdca26"
            ],
            [
             1,
             "#f0f921"
            ]
           ]
          },
          "colorway": [
           "#636efa",
           "#EF553B",
           "#00cc96",
           "#ab63fa",
           "#FFA15A",
           "#19d3f3",
           "#FF6692",
           "#B6E880",
           "#FF97FF",
           "#FECB52"
          ],
          "font": {
           "color": "#2a3f5f"
          },
          "geo": {
           "bgcolor": "white",
           "lakecolor": "white",
           "landcolor": "#E5ECF6",
           "showlakes": true,
           "showland": true,
           "subunitcolor": "white"
          },
          "hoverlabel": {
           "align": "left"
          },
          "hovermode": "closest",
          "mapbox": {
           "style": "light"
          },
          "paper_bgcolor": "white",
          "plot_bgcolor": "#E5ECF6",
          "polar": {
           "angularaxis": {
            "gridcolor": "white",
            "linecolor": "white",
            "ticks": ""
           },
           "bgcolor": "#E5ECF6",
           "radialaxis": {
            "gridcolor": "white",
            "linecolor": "white",
            "ticks": ""
           }
          },
          "scene": {
           "xaxis": {
            "backgroundcolor": "#E5ECF6",
            "gridcolor": "white",
            "gridwidth": 2,
            "linecolor": "white",
            "showbackground": true,
            "ticks": "",
            "zerolinecolor": "white"
           },
           "yaxis": {
            "backgroundcolor": "#E5ECF6",
            "gridcolor": "white",
            "gridwidth": 2,
            "linecolor": "white",
            "showbackground": true,
            "ticks": "",
            "zerolinecolor": "white"
           },
           "zaxis": {
            "backgroundcolor": "#E5ECF6",
            "gridcolor": "white",
            "gridwidth": 2,
            "linecolor": "white",
            "showbackground": true,
            "ticks": "",
            "zerolinecolor": "white"
           }
          },
          "shapedefaults": {
           "line": {
            "color": "#2a3f5f"
           }
          },
          "ternary": {
           "aaxis": {
            "gridcolor": "white",
            "linecolor": "white",
            "ticks": ""
           },
           "baxis": {
            "gridcolor": "white",
            "linecolor": "white",
            "ticks": ""
           },
           "bgcolor": "#E5ECF6",
           "caxis": {
            "gridcolor": "white",
            "linecolor": "white",
            "ticks": ""
           }
          },
          "title": {
           "x": 0.05
          },
          "xaxis": {
           "automargin": true,
           "gridcolor": "white",
           "linecolor": "white",
           "ticks": "",
           "title": {
            "standoff": 15
           },
           "zerolinecolor": "white",
           "zerolinewidth": 2
          },
          "yaxis": {
           "automargin": true,
           "gridcolor": "white",
           "linecolor": "white",
           "ticks": "",
           "title": {
            "standoff": 15
           },
           "zerolinecolor": "white",
           "zerolinewidth": 2
          }
         }
        },
        "title": {
         "text": "Selected New York Ski Resorts"
        }
       }
      }
     },
     "metadata": {},
     "output_type": "display_data"
    }
   ],
   "source": [
    "fig = px.scatter_mapbox(df_filtered[:9], \n",
    "                       lat='latitude', \n",
    "                       lon='longitude',\n",
    "                       hover_name='name',\n",
    "                       zoom=5,\n",
    "                       mapbox_style='carto-positron')\n",
    "\n",
    "# Update the layout to center on NY\n",
    "fig.update_layout(\n",
    "    title='Selected New York Ski Resorts',\n",
    "    mapbox=dict(\n",
    "        center=dict(lat=43.2994, lon=-74.2179)  # Center of NY State\n",
    "    ),\n",
    "    margin=dict(l=0, r=0, t=30, b=0)\n",
    ")\n",
    "\n",
    "fig.show()"
   ]
  },
  {
   "cell_type": "markdown",
   "metadata": {},
   "source": [
    "# Exploratory Data Analysis"
   ]
  },
  {
   "cell_type": "markdown",
   "metadata": {},
   "source": []
  },
  {
   "cell_type": "code",
   "execution_count": null,
   "metadata": {},
   "outputs": [],
   "source": []
  },
  {
   "cell_type": "markdown",
   "metadata": {},
   "source": [
    "# Random Route Generator"
   ]
  },
  {
   "cell_type": "code",
   "execution_count": 7,
   "metadata": {},
   "outputs": [],
   "source": [
    "def osrm_route(start_point, end_point):\n",
    "    osrm_url = f\"http://router.project-osrm.org/route/v1/driving/{start_point[1]},{start_point[0]};{end_point[1]},{end_point[0]}\"\n",
    "    response = requests.get(osrm_url)\n",
    "    \n",
    "    data = response.json()\n",
    "    if data[\"code\"] == \"Ok\":\n",
    "        return {\n",
    "            'distance': data[\"routes\"][0][\"distance\"] / 1000 * 0.621371,  # meters to miles\n",
    "            'geometry': data[\"routes\"][0][\"geometry\"]\n",
    "        }\n",
    "    return None"
   ]
  },
  {
   "cell_type": "code",
   "execution_count": 8,
   "metadata": {},
   "outputs": [],
   "source": [
    "def generate_random_route(df):\n",
    "    random.seed(12345)\n",
    "\n",
    "    # Find index with lowest vertical rise\n",
    "    start_idx = df['vertical_rise_num'].idxmin()\n",
    "    start_pos = df.index.get_loc(start_idx)\n",
    "\n",
    "    # Create random route\n",
    "    locations = list(range(len(df))) # 1, 2, 3, 4, 5, 6, 7, 8, 9\n",
    "    locations.remove(start_pos) \n",
    "    route = [start_pos] + random.sample(locations, len(locations)) # 0, 3, 6, 5, ...\n",
    "\n",
    "    # Calculate total distance\n",
    "    total_distance = 0\n",
    "    route_details = []\n",
    "\n",
    "    for i in range(len(route)-1):\n",
    "        start = df.iloc[route[i]]\n",
    "        end = df.iloc[route[i+1]]\n",
    "\n",
    "        route_data = osrm_route(\n",
    "            (start['latitude'], start['longitude']),\n",
    "            (end['latitude'], end['longitude'])\n",
    "        )\n",
    "\n",
    "        total_distance += route_data['distance']\n",
    "        route_details.append({\n",
    "            'from': start['name'],\n",
    "            'to': end['name'],\n",
    "            'distance': route_data['distance']\n",
    "        })\n",
    "\n",
    "    return route, total_distance, route_details"
   ]
  },
  {
   "cell_type": "code",
   "execution_count": 9,
   "metadata": {},
   "outputs": [],
   "source": [
    "def visualize_random_route(df, route, route_details):\n",
    "    fig = go.Figure()\n",
    "    all_route_points = []\n",
    "\n",
    "    # Get route geometries for visualization\n",
    "    for i in range(len(route)-1):\n",
    "        start = df.iloc[route[i]]\n",
    "        end = df.iloc[route[i+1]]\n",
    "        \n",
    "        route_data = osrm_route(\n",
    "            (start['latitude'], start['longitude']),\n",
    "            (end['latitude'], end['longitude'])\n",
    "        )\n",
    "        decoded_points = polyline.decode(route_data['geometry'])\n",
    "        all_route_points.append(decoded_points)\n",
    "\n",
    "    # Add route lines\n",
    "    for points in all_route_points:\n",
    "        lat, lon = zip(*points)\n",
    "        fig.add_trace(go.Scattermapbox(\n",
    "            lon=lon,\n",
    "            lat=lat,\n",
    "            mode='lines',\n",
    "            line=dict(width=1, color='blue'),\n",
    "            hoverinfo='skip'\n",
    "        ))\n",
    "\n",
    "    # Add resort markers\n",
    "    resort_lat = []\n",
    "    resort_lon = []\n",
    "    resort_names = []\n",
    "    for i, idx in enumerate(route):\n",
    "        location = df.iloc[idx]\n",
    "        resort_lat.append(location['latitude'])\n",
    "        resort_lon.append(location['longitude'])\n",
    "        resort_names.append(f\"Stop {i+1}: {location['name']}\")\n",
    "\n",
    "    fig.add_trace(go.Scattermapbox(\n",
    "        lon=resort_lon,\n",
    "        lat=resort_lat,\n",
    "        mode='markers',\n",
    "        marker=dict(size=12, color='red'),\n",
    "        text=resort_names,\n",
    "        name=\"Ski Resort\"\n",
    "    ))\n",
    "\n",
    "    # Update layout\n",
    "    fig.update_layout(\n",
    "        title=\"New York Ski Resort - Random Route\",\n",
    "        mapbox=dict(\n",
    "            style=\"carto-positron\",\n",
    "            center=dict(lat=np.mean(resort_lat), lon=np.mean(resort_lon)),\n",
    "            zoom=5\n",
    "        ),\n",
    "        showlegend=False,\n",
    "        margin=dict(l=0, r=0, t=30, b=0)\n",
    "    )\n",
    "\n",
    "    return fig"
   ]
  },
  {
   "cell_type": "code",
   "execution_count": 10,
   "metadata": {},
   "outputs": [
    {
     "name": "stdout",
     "output_type": "stream",
     "text": [
      "CPU times: user 40.6 ms, sys: 7.13 ms, total: 47.7 ms\n",
      "Wall time: 4.31 s\n"
     ]
    }
   ],
   "source": [
    "%%time\n",
    "route, total_distance, route_details = generate_random_route(top_9)"
   ]
  },
  {
   "cell_type": "code",
   "execution_count": 11,
   "metadata": {},
   "outputs": [
    {
     "data": {
      "application/vnd.plotly.v1+json": {
       "config": {
        "plotlyServerURL": "https://plot.ly"
       },
       "data": [
        {
         "hoverinfo": "skip",
         "lat": [
          44.76412,
          44.75309,
          44.79621,
          44.87886,
          44.89751,
          44.9374,
          44.91801,
          44.85074,
          44.83261,
          44.7758,
          44.77494,
          44.73122,
          44.66866,
          44.66692,
          44.59508,
          44.48471,
          44.44117,
          44.34976,
          44.28113,
          44.19781,
          44.15866,
          44.05453,
          44.05961,
          44.04414,
          44.00565,
          43.98586,
          43.74051,
          43.66885,
          43.51998,
          43.24773,
          43.14603,
          43.08017,
          43.04848,
          42.94652,
          42.87506,
          42.51565,
          42.50518
         ],
         "line": {
          "color": "blue",
          "width": 1
         },
         "lon": [
          -73.5835,
          -73.55139,
          -73.56819,
          -73.70705,
          -73.88131,
          -73.96433,
          -74.20114,
          -74.27374,
          -74.50646,
          -74.64935,
          -74.78603,
          -74.90176,
          -74.98262,
          -75.02385,
          -75.17562,
          -75.29663,
          -75.37386,
          -75.4422,
          -75.55974,
          -75.61801,
          -75.70682,
          -75.83312,
          -75.87486,
          -75.91724,
          -75.91294,
          -75.94645,
          -76.07388,
          -76.07084,
          -76.12208,
          -76.13246,
          -76.1101,
          -76.17302,
          -76.14281,
          -76.13979,
          -76.11047,
          -76.1956,
          -76.15255
         ],
         "mode": "lines",
         "type": "scattermapbox"
        },
        {
         "hoverinfo": "skip",
         "lat": [
          42.50518,
          42.51041,
          42.49372,
          42.48872,
          42.42573,
          42.35705,
          42.32913,
          42.32897,
          42.34156,
          42.33808,
          42.34944,
          42.31847,
          42.3232,
          42.31352,
          42.31994,
          42.28836,
          42.29414,
          42.2933,
          42.31015,
          42.31041,
          42.32791,
          42.36039,
          42.36359,
          42.38615,
          42.39419,
          42.42253,
          42.44313,
          42.44124,
          42.44992,
          42.43839,
          42.43931,
          42.46471,
          42.47637,
          42.46854,
          42.43466,
          42.43631,
          42.40748,
          42.4117,
          42.36239,
          42.36014,
          42.30483,
          42.31147,
          42.30846,
          42.29464,
          42.3049,
          42.29528,
          42.30423,
          42.30304,
          42.29461
         ],
         "line": {
          "color": "blue",
          "width": 1
         },
         "lon": [
          -76.15255,
          -76.15917,
          -76.11732,
          -76.06971,
          -76.01934,
          -75.99311,
          -75.96574,
          -75.94764,
          -75.92577,
          -75.89082,
          -75.80871,
          -75.73683,
          -75.68372,
          -75.59842,
          -75.56457,
          -75.47132,
          -75.46222,
          -75.39242,
          -75.36708,
          -75.33093,
          -75.28737,
          -75.25154,
          -75.21455,
          -75.17746,
          -75.1408,
          -75.13521,
          -75.10008,
          -75.07333,
          -75.05206,
          -74.99126,
          -74.93047,
          -74.87664,
          -74.82564,
          -74.79371,
          -74.73559,
          -74.67522,
          -74.61448,
          -74.56426,
          -74.49438,
          -74.47488,
          -74.41745,
          -74.40459,
          -74.3826,
          -74.35802,
          -74.33858,
          -74.30744,
          -74.28523,
          -74.25684,
          -74.26406
         ],
         "mode": "lines",
         "type": "scattermapbox"
        },
        {
         "hoverinfo": "skip",
         "lat": [
          42.29461,
          42.30996,
          42.30597,
          42.33903,
          42.33835,
          42.30354,
          42.30738,
          42.23854,
          42.34392,
          42.4304,
          42.63291,
          42.63899,
          42.69306,
          42.74278,
          42.7663,
          42.94509,
          43.01189,
          43.07129,
          43.10801,
          43.20805,
          43.31442,
          43.48026,
          43.59538,
          43.73582,
          43.86408,
          43.91561,
          43.99544,
          44.07569,
          44.15035,
          44.18606,
          44.30342,
          44.3753,
          44.40246,
          44.39656,
          44.36721
         ],
         "line": {
          "color": "blue",
          "width": 1
         },
         "lon": [
          -74.26406,
          -74.24101,
          -74.19522,
          -74.15373,
          -74.11883,
          -74.03882,
          -74.00304,
          -73.88732,
          -73.85714,
          -73.80351,
          -73.78028,
          -73.75369,
          -73.7108,
          -73.69557,
          -73.76146,
          -73.80522,
          -73.79957,
          -73.7512,
          -73.75128,
          -73.69399,
          -73.67468,
          -73.75448,
          -73.72705,
          -73.82517,
          -73.75584,
          -73.7578,
          -73.72143,
          -73.66252,
          -73.7678,
          -73.78658,
          -73.79045,
          -73.72768,
          -73.87574,
          -73.90078,
          -73.90362
         ],
         "mode": "lines",
         "type": "scattermapbox"
        },
        {
         "hoverinfo": "skip",
         "lat": [
          44.36721,
          44.39656,
          44.40246,
          44.3753,
          44.30342,
          44.18606,
          44.15035,
          44.07695,
          43.99501,
          43.9116,
          43.86547,
          43.73583,
          43.59548,
          43.48048,
          43.31654,
          43.2682,
          43.10713,
          43.07373,
          43.00271,
          42.92756,
          42.78572,
          42.73243,
          42.70097,
          42.6745,
          42.6301,
          42.54563,
          42.2191,
          42.17479,
          42.20778,
          42.1964
         ],
         "line": {
          "color": "blue",
          "width": 1
         },
         "lon": [
          -73.90362,
          -73.90078,
          -73.87574,
          -73.72768,
          -73.79045,
          -73.78658,
          -73.7678,
          -73.66364,
          -73.72233,
          -73.76016,
          -73.756,
          -73.82547,
          -73.72742,
          -73.75507,
          -73.67552,
          -73.67467,
          -73.75237,
          -73.75062,
          -73.80319,
          -73.80316,
          -73.75805,
          -73.78956,
          -73.84886,
          -73.84329,
          -73.77942,
          -73.78163,
          -73.87333,
          -74.02013,
          -74.20763,
          -74.22526
         ],
         "mode": "lines",
         "type": "scattermapbox"
        },
        {
         "hoverinfo": "skip",
         "lat": [
          42.1964,
          42.20466,
          42.21531,
          42.23852,
          42.26138,
          42.28414,
          42.36001,
          42.4117,
          42.40748,
          42.43612,
          42.43466,
          42.47639,
          42.43931,
          42.44333,
          42.42292,
          42.39473,
          42.3604,
          42.31238,
          42.29281,
          42.25963,
          42.19945,
          42.18433,
          42.19771,
          42.15769,
          42.16415,
          42.11206,
          42.11688,
          42.05952,
          42.09101,
          42.08042,
          42.10161,
          42.07946,
          42.02469,
          42.02822,
          42.00886,
          42.00022,
          42.00187,
          42.03077,
          42.10235,
          42.15204,
          42.15973,
          42.1185,
          42.16261,
          42.15581,
          42.17557,
          42.18947,
          42.29148,
          42.33654,
          42.38979,
          42.36354,
          42.38156,
          42.36739,
          42.37987,
          42.31613,
          42.30086,
          42.22912,
          42.20414,
          42.22496,
          42.17653,
          42.22345,
          42.27535,
          42.32099,
          42.30932,
          42.23949,
          42.26294
         ],
         "line": {
          "color": "blue",
          "width": 1
         },
         "lon": [
          -74.22526,
          -74.20796,
          -74.22191,
          -74.35774,
          -74.39859,
          -74.39984,
          -74.47472,
          -74.56426,
          -74.61448,
          -74.67438,
          -74.73559,
          -74.82644,
          -74.93047,
          -75.10024,
          -75.13547,
          -75.14065,
          -75.2524,
          -75.32539,
          -75.46854,
          -75.47007,
          -75.53421,
          -75.61528,
          -75.67257,
          -75.80475,
          -75.87395,
          -75.91255,
          -75.99394,
          -76.13545,
          -76.17118,
          -76.20882,
          -76.25474,
          -76.30717,
          -76.35537,
          -76.44317,
          -76.46293,
          -76.51634,
          -76.6187,
          -76.72509,
          -76.79218,
          -76.80694,
          -76.8297,
          -77.00809,
          -77.05972,
          -77.09463,
          -77.10805,
          -77.15896,
          -77.22557,
          -77.33414,
          -77.38484,
          -77.46487,
          -77.53739,
          -77.59758,
          -77.66379,
          -77.7529,
          -78.02228,
          -78.09351,
          -78.15728,
          -78.27746,
          -78.38217,
          -78.37853,
          -78.44725,
          -78.46157,
          -78.50677,
          -78.58668,
          -78.66361
         ],
         "mode": "lines",
         "type": "scattermapbox"
        },
        {
         "hoverinfo": "skip",
         "lat": [
          42.26294,
          42.27507,
          42.2763,
          42.27302,
          42.25515,
          42.25106,
          42.23921,
          42.24898,
          42.22536,
          42.22268,
          42.20924,
          42.19314,
          42.18509,
          42.16975,
          42.17254,
          42.15898,
          42.16281,
          42.16214,
          42.14515,
          42.13553,
          42.13776,
          42.12696,
          42.12133,
          42.12924,
          42.13968,
          42.15385,
          42.1517,
          42.15748,
          42.15347,
          42.15672,
          42.14671,
          42.14487,
          42.13141,
          42.11894,
          42.11075,
          42.09157,
          42.06878,
          42.05794,
          42.05048,
          42.05261,
          42.06049
         ],
         "line": {
          "color": "blue",
          "width": 1
         },
         "lon": [
          -78.66361,
          -78.67279,
          -78.70548,
          -78.71627,
          -78.72989,
          -78.76135,
          -78.76475,
          -78.80755,
          -78.83573,
          -78.8484,
          -78.86729,
          -78.91336,
          -78.91697,
          -78.93789,
          -78.94759,
          -78.9936,
          -79.00602,
          -79.02805,
          -79.08268,
          -79.13167,
          -79.17459,
          -79.19732,
          -79.24214,
          -79.32071,
          -79.35057,
          -79.37423,
          -79.41208,
          -79.47071,
          -79.50918,
          -79.57916,
          -79.60784,
          -79.7104,
          -79.74181,
          -79.73736,
          -79.72258,
          -79.71286,
          -79.7165,
          -79.73266,
          -79.73523,
          -79.74181,
          -79.74406
         ],
         "mode": "lines",
         "type": "scattermapbox"
        },
        {
         "hoverinfo": "skip",
         "lat": [
          42.06049,
          42.09246,
          42.17575,
          42.24066,
          42.45537,
          42.51513,
          42.60389,
          42.7643,
          42.95132,
          42.9501,
          43.00907,
          43.04825,
          42.95468,
          43.11782,
          43.09173,
          43.09037,
          43.12081,
          43.18253,
          43.24032,
          43.35039,
          43.39541,
          43.39505,
          43.50187,
          43.60345,
          43.78245,
          43.76276,
          43.68087
         ],
         "line": {
          "color": "blue",
          "width": 1
         },
         "lon": [
          -79.74406,
          -79.71292,
          -79.78524,
          -79.77531,
          -79.36447,
          -79.15783,
          -79.02766,
          -78.81925,
          -78.75947,
          -78.60978,
          -78.39576,
          -77.63151,
          -76.97075,
          -76.23656,
          -76.15677,
          -75.75748,
          -75.58353,
          -75.51079,
          -75.25965,
          -75.06664,
          -74.86037,
          -74.54554,
          -74.36431,
          -74.42056,
          -74.2654,
          -74.07121,
          -74.05725
         ],
         "mode": "lines",
         "type": "scattermapbox"
        },
        {
         "hoverinfo": "skip",
         "lat": [
          43.68087,
          43.70286,
          43.72295,
          43.73691,
          43.63299,
          43.53353,
          43.43331,
          43.31498,
          43.20534,
          43.10761,
          43.07276,
          43.00177,
          42.76319,
          42.70097,
          42.6745,
          42.62872,
          42.43044,
          42.08341,
          42.04891,
          42.07848,
          42.03963,
          42.11352,
          42.1154,
          42.10202,
          42.12621
         ],
         "line": {
          "color": "blue",
          "width": 1
         },
         "lon": [
          -74.05725,
          -74.07453,
          -74.06375,
          -74.02637,
          -73.9405,
          -73.79558,
          -73.72206,
          -73.67512,
          -73.69606,
          -73.75218,
          -73.7511,
          -73.80335,
          -73.76265,
          -73.84886,
          -73.84329,
          -73.77899,
          -73.80378,
          -73.97614,
          -74.11333,
          -74.21591,
          -74.2793,
          -74.36013,
          -74.42439,
          -74.44063,
          -74.47416
         ],
         "mode": "lines",
         "type": "scattermapbox"
        },
        {
         "lat": [
          44.7641115,
          42.50232045,
          42.29392565,
          44.3657845,
          42.1778662,
          42.2631454,
          42.06046265,
          43.672954,
          42.12689335
         ],
         "lon": [
          -73.5840546,
          -76.14804555790452,
          -74.2613118092174,
          -73.9029843,
          -74.2304216,
          -78.6636114,
          -79.7440664815112,
          -74.0488526,
          -74.47407468091113
         ],
         "marker": {
          "color": "red",
          "size": 12
         },
         "mode": "markers",
         "name": "Ski Resort",
         "text": [
          "Stop 1: Beartown Ski Area",
          "Stop 2: Greek Peak",
          "Stop 3: Windham Mountain",
          "Stop 4: Whiteface Mountain",
          "Stop 5: Hunter Mountain",
          "Stop 6: Holiday Valley",
          "Stop 7: Peek'n Peak Resort",
          "Stop 8: Gore Mountain",
          "Stop 9: Belleayre Mountain"
         ],
         "type": "scattermapbox"
        }
       ],
       "layout": {
        "mapbox": {
         "center": {
          "lat": 42.91416263333333,
          "lon": -75.45082478106048
         },
         "style": "carto-positron",
         "zoom": 5
        },
        "margin": {
         "b": 0,
         "l": 0,
         "r": 0,
         "t": 30
        },
        "showlegend": false,
        "template": {
         "data": {
          "bar": [
           {
            "error_x": {
             "color": "#2a3f5f"
            },
            "error_y": {
             "color": "#2a3f5f"
            },
            "marker": {
             "line": {
              "color": "#E5ECF6",
              "width": 0.5
             },
             "pattern": {
              "fillmode": "overlay",
              "size": 10,
              "solidity": 0.2
             }
            },
            "type": "bar"
           }
          ],
          "barpolar": [
           {
            "marker": {
             "line": {
              "color": "#E5ECF6",
              "width": 0.5
             },
             "pattern": {
              "fillmode": "overlay",
              "size": 10,
              "solidity": 0.2
             }
            },
            "type": "barpolar"
           }
          ],
          "carpet": [
           {
            "aaxis": {
             "endlinecolor": "#2a3f5f",
             "gridcolor": "white",
             "linecolor": "white",
             "minorgridcolor": "white",
             "startlinecolor": "#2a3f5f"
            },
            "baxis": {
             "endlinecolor": "#2a3f5f",
             "gridcolor": "white",
             "linecolor": "white",
             "minorgridcolor": "white",
             "startlinecolor": "#2a3f5f"
            },
            "type": "carpet"
           }
          ],
          "choropleth": [
           {
            "colorbar": {
             "outlinewidth": 0,
             "ticks": ""
            },
            "type": "choropleth"
           }
          ],
          "contour": [
           {
            "colorbar": {
             "outlinewidth": 0,
             "ticks": ""
            },
            "colorscale": [
             [
              0,
              "#0d0887"
             ],
             [
              0.1111111111111111,
              "#46039f"
             ],
             [
              0.2222222222222222,
              "#7201a8"
             ],
             [
              0.3333333333333333,
              "#9c179e"
             ],
             [
              0.4444444444444444,
              "#bd3786"
             ],
             [
              0.5555555555555556,
              "#d8576b"
             ],
             [
              0.6666666666666666,
              "#ed7953"
             ],
             [
              0.7777777777777778,
              "#fb9f3a"
             ],
             [
              0.8888888888888888,
              "#fdca26"
             ],
             [
              1,
              "#f0f921"
             ]
            ],
            "type": "contour"
           }
          ],
          "contourcarpet": [
           {
            "colorbar": {
             "outlinewidth": 0,
             "ticks": ""
            },
            "type": "contourcarpet"
           }
          ],
          "heatmap": [
           {
            "colorbar": {
             "outlinewidth": 0,
             "ticks": ""
            },
            "colorscale": [
             [
              0,
              "#0d0887"
             ],
             [
              0.1111111111111111,
              "#46039f"
             ],
             [
              0.2222222222222222,
              "#7201a8"
             ],
             [
              0.3333333333333333,
              "#9c179e"
             ],
             [
              0.4444444444444444,
              "#bd3786"
             ],
             [
              0.5555555555555556,
              "#d8576b"
             ],
             [
              0.6666666666666666,
              "#ed7953"
             ],
             [
              0.7777777777777778,
              "#fb9f3a"
             ],
             [
              0.8888888888888888,
              "#fdca26"
             ],
             [
              1,
              "#f0f921"
             ]
            ],
            "type": "heatmap"
           }
          ],
          "heatmapgl": [
           {
            "colorbar": {
             "outlinewidth": 0,
             "ticks": ""
            },
            "colorscale": [
             [
              0,
              "#0d0887"
             ],
             [
              0.1111111111111111,
              "#46039f"
             ],
             [
              0.2222222222222222,
              "#7201a8"
             ],
             [
              0.3333333333333333,
              "#9c179e"
             ],
             [
              0.4444444444444444,
              "#bd3786"
             ],
             [
              0.5555555555555556,
              "#d8576b"
             ],
             [
              0.6666666666666666,
              "#ed7953"
             ],
             [
              0.7777777777777778,
              "#fb9f3a"
             ],
             [
              0.8888888888888888,
              "#fdca26"
             ],
             [
              1,
              "#f0f921"
             ]
            ],
            "type": "heatmapgl"
           }
          ],
          "histogram": [
           {
            "marker": {
             "pattern": {
              "fillmode": "overlay",
              "size": 10,
              "solidity": 0.2
             }
            },
            "type": "histogram"
           }
          ],
          "histogram2d": [
           {
            "colorbar": {
             "outlinewidth": 0,
             "ticks": ""
            },
            "colorscale": [
             [
              0,
              "#0d0887"
             ],
             [
              0.1111111111111111,
              "#46039f"
             ],
             [
              0.2222222222222222,
              "#7201a8"
             ],
             [
              0.3333333333333333,
              "#9c179e"
             ],
             [
              0.4444444444444444,
              "#bd3786"
             ],
             [
              0.5555555555555556,
              "#d8576b"
             ],
             [
              0.6666666666666666,
              "#ed7953"
             ],
             [
              0.7777777777777778,
              "#fb9f3a"
             ],
             [
              0.8888888888888888,
              "#fdca26"
             ],
             [
              1,
              "#f0f921"
             ]
            ],
            "type": "histogram2d"
           }
          ],
          "histogram2dcontour": [
           {
            "colorbar": {
             "outlinewidth": 0,
             "ticks": ""
            },
            "colorscale": [
             [
              0,
              "#0d0887"
             ],
             [
              0.1111111111111111,
              "#46039f"
             ],
             [
              0.2222222222222222,
              "#7201a8"
             ],
             [
              0.3333333333333333,
              "#9c179e"
             ],
             [
              0.4444444444444444,
              "#bd3786"
             ],
             [
              0.5555555555555556,
              "#d8576b"
             ],
             [
              0.6666666666666666,
              "#ed7953"
             ],
             [
              0.7777777777777778,
              "#fb9f3a"
             ],
             [
              0.8888888888888888,
              "#fdca26"
             ],
             [
              1,
              "#f0f921"
             ]
            ],
            "type": "histogram2dcontour"
           }
          ],
          "mesh3d": [
           {
            "colorbar": {
             "outlinewidth": 0,
             "ticks": ""
            },
            "type": "mesh3d"
           }
          ],
          "parcoords": [
           {
            "line": {
             "colorbar": {
              "outlinewidth": 0,
              "ticks": ""
             }
            },
            "type": "parcoords"
           }
          ],
          "pie": [
           {
            "automargin": true,
            "type": "pie"
           }
          ],
          "scatter": [
           {
            "fillpattern": {
             "fillmode": "overlay",
             "size": 10,
             "solidity": 0.2
            },
            "type": "scatter"
           }
          ],
          "scatter3d": [
           {
            "line": {
             "colorbar": {
              "outlinewidth": 0,
              "ticks": ""
             }
            },
            "marker": {
             "colorbar": {
              "outlinewidth": 0,
              "ticks": ""
             }
            },
            "type": "scatter3d"
           }
          ],
          "scattercarpet": [
           {
            "marker": {
             "colorbar": {
              "outlinewidth": 0,
              "ticks": ""
             }
            },
            "type": "scattercarpet"
           }
          ],
          "scattergeo": [
           {
            "marker": {
             "colorbar": {
              "outlinewidth": 0,
              "ticks": ""
             }
            },
            "type": "scattergeo"
           }
          ],
          "scattergl": [
           {
            "marker": {
             "colorbar": {
              "outlinewidth": 0,
              "ticks": ""
             }
            },
            "type": "scattergl"
           }
          ],
          "scattermapbox": [
           {
            "marker": {
             "colorbar": {
              "outlinewidth": 0,
              "ticks": ""
             }
            },
            "type": "scattermapbox"
           }
          ],
          "scatterpolar": [
           {
            "marker": {
             "colorbar": {
              "outlinewidth": 0,
              "ticks": ""
             }
            },
            "type": "scatterpolar"
           }
          ],
          "scatterpolargl": [
           {
            "marker": {
             "colorbar": {
              "outlinewidth": 0,
              "ticks": ""
             }
            },
            "type": "scatterpolargl"
           }
          ],
          "scatterternary": [
           {
            "marker": {
             "colorbar": {
              "outlinewidth": 0,
              "ticks": ""
             }
            },
            "type": "scatterternary"
           }
          ],
          "surface": [
           {
            "colorbar": {
             "outlinewidth": 0,
             "ticks": ""
            },
            "colorscale": [
             [
              0,
              "#0d0887"
             ],
             [
              0.1111111111111111,
              "#46039f"
             ],
             [
              0.2222222222222222,
              "#7201a8"
             ],
             [
              0.3333333333333333,
              "#9c179e"
             ],
             [
              0.4444444444444444,
              "#bd3786"
             ],
             [
              0.5555555555555556,
              "#d8576b"
             ],
             [
              0.6666666666666666,
              "#ed7953"
             ],
             [
              0.7777777777777778,
              "#fb9f3a"
             ],
             [
              0.8888888888888888,
              "#fdca26"
             ],
             [
              1,
              "#f0f921"
             ]
            ],
            "type": "surface"
           }
          ],
          "table": [
           {
            "cells": {
             "fill": {
              "color": "#EBF0F8"
             },
             "line": {
              "color": "white"
             }
            },
            "header": {
             "fill": {
              "color": "#C8D4E3"
             },
             "line": {
              "color": "white"
             }
            },
            "type": "table"
           }
          ]
         },
         "layout": {
          "annotationdefaults": {
           "arrowcolor": "#2a3f5f",
           "arrowhead": 0,
           "arrowwidth": 1
          },
          "autotypenumbers": "strict",
          "coloraxis": {
           "colorbar": {
            "outlinewidth": 0,
            "ticks": ""
           }
          },
          "colorscale": {
           "diverging": [
            [
             0,
             "#8e0152"
            ],
            [
             0.1,
             "#c51b7d"
            ],
            [
             0.2,
             "#de77ae"
            ],
            [
             0.3,
             "#f1b6da"
            ],
            [
             0.4,
             "#fde0ef"
            ],
            [
             0.5,
             "#f7f7f7"
            ],
            [
             0.6,
             "#e6f5d0"
            ],
            [
             0.7,
             "#b8e186"
            ],
            [
             0.8,
             "#7fbc41"
            ],
            [
             0.9,
             "#4d9221"
            ],
            [
             1,
             "#276419"
            ]
           ],
           "sequential": [
            [
             0,
             "#0d0887"
            ],
            [
             0.1111111111111111,
             "#46039f"
            ],
            [
             0.2222222222222222,
             "#7201a8"
            ],
            [
             0.3333333333333333,
             "#9c179e"
            ],
            [
             0.4444444444444444,
             "#bd3786"
            ],
            [
             0.5555555555555556,
             "#d8576b"
            ],
            [
             0.6666666666666666,
             "#ed7953"
            ],
            [
             0.7777777777777778,
             "#fb9f3a"
            ],
            [
             0.8888888888888888,
             "#fdca26"
            ],
            [
             1,
             "#f0f921"
            ]
           ],
           "sequentialminus": [
            [
             0,
             "#0d0887"
            ],
            [
             0.1111111111111111,
             "#46039f"
            ],
            [
             0.2222222222222222,
             "#7201a8"
            ],
            [
             0.3333333333333333,
             "#9c179e"
            ],
            [
             0.4444444444444444,
             "#bd3786"
            ],
            [
             0.5555555555555556,
             "#d8576b"
            ],
            [
             0.6666666666666666,
             "#ed7953"
            ],
            [
             0.7777777777777778,
             "#fb9f3a"
            ],
            [
             0.8888888888888888,
             "#fdca26"
            ],
            [
             1,
             "#f0f921"
            ]
           ]
          },
          "colorway": [
           "#636efa",
           "#EF553B",
           "#00cc96",
           "#ab63fa",
           "#FFA15A",
           "#19d3f3",
           "#FF6692",
           "#B6E880",
           "#FF97FF",
           "#FECB52"
          ],
          "font": {
           "color": "#2a3f5f"
          },
          "geo": {
           "bgcolor": "white",
           "lakecolor": "white",
           "landcolor": "#E5ECF6",
           "showlakes": true,
           "showland": true,
           "subunitcolor": "white"
          },
          "hoverlabel": {
           "align": "left"
          },
          "hovermode": "closest",
          "mapbox": {
           "style": "light"
          },
          "paper_bgcolor": "white",
          "plot_bgcolor": "#E5ECF6",
          "polar": {
           "angularaxis": {
            "gridcolor": "white",
            "linecolor": "white",
            "ticks": ""
           },
           "bgcolor": "#E5ECF6",
           "radialaxis": {
            "gridcolor": "white",
            "linecolor": "white",
            "ticks": ""
           }
          },
          "scene": {
           "xaxis": {
            "backgroundcolor": "#E5ECF6",
            "gridcolor": "white",
            "gridwidth": 2,
            "linecolor": "white",
            "showbackground": true,
            "ticks": "",
            "zerolinecolor": "white"
           },
           "yaxis": {
            "backgroundcolor": "#E5ECF6",
            "gridcolor": "white",
            "gridwidth": 2,
            "linecolor": "white",
            "showbackground": true,
            "ticks": "",
            "zerolinecolor": "white"
           },
           "zaxis": {
            "backgroundcolor": "#E5ECF6",
            "gridcolor": "white",
            "gridwidth": 2,
            "linecolor": "white",
            "showbackground": true,
            "ticks": "",
            "zerolinecolor": "white"
           }
          },
          "shapedefaults": {
           "line": {
            "color": "#2a3f5f"
           }
          },
          "ternary": {
           "aaxis": {
            "gridcolor": "white",
            "linecolor": "white",
            "ticks": ""
           },
           "baxis": {
            "gridcolor": "white",
            "linecolor": "white",
            "ticks": ""
           },
           "bgcolor": "#E5ECF6",
           "caxis": {
            "gridcolor": "white",
            "linecolor": "white",
            "ticks": ""
           }
          },
          "title": {
           "x": 0.05
          },
          "xaxis": {
           "automargin": true,
           "gridcolor": "white",
           "linecolor": "white",
           "ticks": "",
           "title": {
            "standoff": 15
           },
           "zerolinecolor": "white",
           "zerolinewidth": 2
          },
          "yaxis": {
           "automargin": true,
           "gridcolor": "white",
           "linecolor": "white",
           "ticks": "",
           "title": {
            "standoff": 15
           },
           "zerolinecolor": "white",
           "zerolinewidth": 2
          }
         }
        },
        "title": {
         "text": "New York Ski Resort - Random Route"
        }
       }
      }
     },
     "metadata": {},
     "output_type": "display_data"
    }
   ],
   "source": [
    "fig = visualize_random_route(top_9, route, route_details)\n",
    "fig.show()\n",
    "print(total_distance, \"miles\")"
   ]
  },
  {
   "cell_type": "code",
   "execution_count": 12,
   "metadata": {},
   "outputs": [],
   "source": [
    "fig.write_html('random_route1_full.html', full_html=True)\n",
    "fig.write_html('random_route1.html', full_html=False)"
   ]
  },
  {
   "cell_type": "markdown",
   "metadata": {},
   "source": [
    "# Optimized Route (Directed Graph Distance Minimization)"
   ]
  },
  {
   "cell_type": "code",
   "execution_count": 13,
   "metadata": {},
   "outputs": [
    {
     "name": "stdout",
     "output_type": "stream",
     "text": [
      "Network Statistics:\n",
      "--------------------------------------------------\n",
      "Starting Resort: Beartown Ski Area (Vertical Rise: 150 ft)\n",
      "Number of Resorts (Nodes): 9\n",
      "Number of Possible Routes (Edges): 72\n"
     ]
    },
    {
     "data": {
      "image/png": "[encoded data removed]",
      "text/plain": [
       "<Figure size 1500x1500 with 1 Axes>"
      ]
     },
     "metadata": {},
     "output_type": "display_data"
    }
   ],
   "source": [
    "def visualize_ski_network_from_start(df):\n",
    "    # Create directed graph\n",
    "    G = nx.DiGraph()\n",
    "    \n",
    "    # Find starting point (lowest vertical rise)\n",
    "    start_idx = df['vertical_rise_num'].idxmin()\n",
    "    \n",
    "    # Add nodes (ski resorts)\n",
    "    for idx, resort in df.iterrows():\n",
    "        G.add_node(idx, \n",
    "                  name=resort['name'],\n",
    "                  vertical_rise=resort['vertical_rise'])\n",
    "    \n",
    "    # Add edges from all points to all other points\n",
    "    for i in df.index:\n",
    "        for j in df.index:\n",
    "            if i != j:  # Do not connect to self\n",
    "                start = df.loc[i]\n",
    "                end = df.loc[j]\n",
    "                route_data = osrm_route(\n",
    "                    (start['latitude'], start['longitude']),\n",
    "                    (end['latitude'], end['longitude'])\n",
    "                )\n",
    "                G.add_edge(i, j, weight=route_data['distance']) # obtain distance from osrm api and create weight\n",
    "    \n",
    "    # Create visualization\n",
    "    plt.figure(figsize=(15, 15))\n",
    "    \n",
    "    # Set layout\n",
    "    pos = nx.spring_layout(G, k=2, iterations=50)\n",
    "    \n",
    "    # Draw nodes\n",
    "    node_colors = ['red' if node == start_idx else 'skyblue' for node in G.nodes()]\n",
    "    nx.draw_networkx_nodes(G, pos,\n",
    "                          node_color=node_colors,\n",
    "                          node_size=2500,\n",
    "                          alpha=0.7)\n",
    "    \n",
    "    # Draw edges\n",
    "    nx.draw_networkx_edges(G, pos,\n",
    "                          edge_color='gray',\n",
    "                          width=0.5,\n",
    "                          alpha=0.6,\n",
    "                          arrows=True,\n",
    "                          arrowsize=10)\n",
    "    \n",
    "    # Add node labels\n",
    "    labels = {node: f\"{G.nodes[node]['name']}\\n({G.nodes[node]['vertical_rise']})\" \n",
    "             for node in G.nodes()}\n",
    "    nx.draw_networkx_labels(G, pos, labels, font_size=8)\n",
    "    \n",
    "    # Add edge labels (distances)\n",
    "    edge_labels = nx.get_edge_attributes(G, 'weight')\n",
    "    edge_labels = {(u,v): f'{w:.1f}mi' for (u,v,w) in G.edges(data='weight')}\n",
    "    nx.draw_networkx_edge_labels(G, pos, edge_labels, font_size=6)\n",
    "    \n",
    "    plt.title(\"New York Ski Resort Network\\nDirected Graph from Lowest Vertical Rise\", \n",
    "              pad=20, fontsize=14)\n",
    "    plt.axis('off')\n",
    "    \n",
    "    # Print network statistics\n",
    "    print(\"Network Statistics:\")\n",
    "    print(\"-\" * 50)\n",
    "    print(f\"Starting Resort: {df.loc[start_idx]['name']} (Vertical Rise: {df.loc[start_idx]['vertical_rise']})\")\n",
    "    print(f\"Number of Resorts (Nodes): {G.number_of_nodes()}\")\n",
    "    print(f\"Number of Possible Routes (Edges): {G.number_of_edges()}\")\n",
    "    \n",
    "    return G, plt.gcf()\n",
    "\n",
    "G, fig = visualize_ski_network_from_start(top_9)\n",
    "plt.show()"
   ]
  },
  {
   "cell_type": "markdown",
   "metadata": {},
   "source": [
    "The algorithm below builds a route with a start at the lowest `vertical_rise`, this allows uniformity between the random and optimized comparisons. Utilizing the graph information from the DiGraph created earlier, we can determine the appropriate route which minimizes the distance traveled.\n",
    "\n",
    "While making sure that the next node is within the unvisited set, the next node is decided based on a comparison of all the available distances from a particular node. In this case we want to select the minimal distance. In the least distance route, this is determined through a dictionary search of unvisited nodes and their respective distances or weights.\n",
    "\n",
    "Once the minmum distance between two nodes in the univsited set is determined the route list is appended, this continues for as long as there is a an unvisited node. Once all the nodes have been visited and the minimal distance total is calculated. We insure that the loop is left open/ceased."
   ]
  },
  {
   "cell_type": "code",
   "execution_count": 14,
   "metadata": {},
   "outputs": [],
   "source": [
    "def least_distance_route(G, df):\n",
    "    # Get starting point (lowest vertical rise)\n",
    "    start_idx = df['vertical_rise_num'].idxmin()\n",
    "    \n",
    "    # Initialize variables\n",
    "    unvisited = set(G.nodes()) - {start_idx}  # Use the actual node indices from the directed graph\n",
    "    current = start_idx\n",
    "    route = [current]\n",
    "    total_distance = 0\n",
    "    \n",
    "    # Core Nearest Neighbor loop\n",
    "    while unvisited:\n",
    "        # Find distances to unvisited neighbors\n",
    "        next_distances = {node: G[current][node]['weight'] \n",
    "                        for node in unvisited}\n",
    "        \n",
    "        # Select closest unvisited neighbor\n",
    "        next_node = min(next_distances, key=next_distances.get)\n",
    "        distance = next_distances[next_node]\n",
    "        \n",
    "        # Update route\n",
    "        route.append(next_node)\n",
    "        total_distance += distance\n",
    "        current = next_node\n",
    "        unvisited.remove(current)\n",
    "    \n",
    "    return route, total_distance"
   ]
  },
  {
   "cell_type": "markdown",
   "metadata": {},
   "source": [
    "To reiterate the strategy of utilizing the previous graph network. It is designed to capture all distance information determined from the OSRM measurements between all points. Making sure to define the starting point (lowest vertical rise) we determine the next point by getting the minimal distance option, and so on. Once a point is selected as the `next_node` it is selected as the current node and the procedure is repeated until there are no more nodes to travel to; given that we can only visit each node once."
   ]
  },
  {
   "cell_type": "code",
   "execution_count": 15,
   "metadata": {},
   "outputs": [],
   "source": [
    "def visualize_ld_route(df, route):\n",
    "    all_route_points = []\n",
    "    \n",
    "    # Get route geometries from osrm API\n",
    "    for i in range(len(route)-1):\n",
    "        start = df.loc[route[i]]\n",
    "        end = df.loc[route[i+1]]\n",
    "        \n",
    "        route_data = osrm_route(\n",
    "            (start['latitude'], start['longitude']),\n",
    "            (end['latitude'], end['longitude'])\n",
    "        )\n",
    "        decoded_points = polyline.decode(route_data['geometry'])\n",
    "        all_route_points.append(decoded_points)\n",
    "    \n",
    "    # Create figure\n",
    "    fig = go.Figure()\n",
    "    \n",
    "    # Add route lines\n",
    "    for points in all_route_points:\n",
    "        lat, lon = zip(*points)\n",
    "        fig.add_trace(go.Scattermapbox(\n",
    "            lon=lon,\n",
    "            lat=lat,\n",
    "            mode='lines',\n",
    "            line=dict(width=2, color='blue'),\n",
    "            hoverinfo='skip'\n",
    "        ))\n",
    "    \n",
    "    # Add resort markers\n",
    "    resort_lat = []\n",
    "    resort_lon = []\n",
    "    resort_names = []\n",
    "    for i, idx in enumerate(route):\n",
    "        location = df.loc[idx]    # Changed from iloc to loc\n",
    "        resort_lat.append(location['latitude'])\n",
    "        resort_lon.append(location['longitude'])\n",
    "        resort_names.append(f\"Stop {i+1}: {location['name']}\")\n",
    "    \n",
    "    fig.add_trace(go.Scattermapbox(\n",
    "        lon=resort_lon,\n",
    "        lat=resort_lat,\n",
    "        mode='markers',\n",
    "        marker=dict(size=12, color=['red' if i == 0 else 'lightblue' for i in range(len(route))]),\n",
    "        text=resort_names,\n",
    "        name='Ski Resorts'\n",
    "    ))\n",
    "    \n",
    "    fig.update_layout(\n",
    "        title='New York Ski Resort - Optimized Route',\n",
    "        mapbox=dict(\n",
    "            style=\"carto-positron\",\n",
    "            center=dict(lat=np.mean(resort_lat), lon=np.mean(resort_lon)),\n",
    "            zoom=5\n",
    "        ),\n",
    "        showlegend=False,\n",
    "        margin=dict(l=0, r=0, t=30, b=0)\n",
    "    )\n",
    "    \n",
    "    return fig"
   ]
  },
  {
   "cell_type": "code",
   "execution_count": 16,
   "metadata": {},
   "outputs": [
    {
     "name": "stdout",
     "output_type": "stream",
     "text": [
      "CPU times: user 549 μs, sys: 0 ns, total: 549 μs\n",
      "Wall time: 560 μs\n"
     ]
    }
   ],
   "source": [
    "%%time\n",
    "route, total_distance = least_distance_route(G, top_9)"
   ]
  },
  {
   "cell_type": "code",
   "execution_count": 17,
   "metadata": {},
   "outputs": [
    {
     "data": {
      "application/vnd.plotly.v1+json": {
       "config": {
        "plotlyServerURL": "https://plot.ly"
       },
       "data": [
        {
         "hoverinfo": "skip",
         "lat": [
          44.76412,
          44.75697,
          44.75745,
          44.75152,
          44.75309,
          44.71939,
          44.69513,
          44.69624,
          44.69094,
          44.67616,
          44.65514,
          44.64179,
          44.62709,
          44.58134,
          44.56103,
          44.52777,
          44.49387,
          44.49279,
          44.47716,
          44.46716,
          44.46472,
          44.45527,
          44.45886,
          44.44346,
          44.44149,
          44.43631,
          44.41357,
          44.4067,
          44.4049,
          44.38759,
          44.3753,
          44.39299,
          44.38854,
          44.40045,
          44.40246,
          44.39656,
          44.37582,
          44.36975,
          44.37037,
          44.36721
         ],
         "line": {
          "color": "blue",
          "width": 2
         },
         "lon": [
          -73.5835,
          -73.5801,
          -73.57213,
          -73.57091,
          -73.55139,
          -73.54025,
          -73.5172,
          -73.49731,
          -73.49197,
          -73.49411,
          -73.48325,
          -73.48638,
          -73.48222,
          -73.50276,
          -73.50439,
          -73.49713,
          -73.49973,
          -73.53402,
          -73.56818,
          -73.5738,
          -73.59669,
          -73.61345,
          -73.63014,
          -73.66253,
          -73.67557,
          -73.68297,
          -73.68115,
          -73.69099,
          -73.70326,
          -73.71123,
          -73.72768,
          -73.77397,
          -73.81542,
          -73.8436,
          -73.87574,
          -73.90078,
          -73.90098,
          -73.91299,
          -73.89774,
          -73.90362
         ],
         "mode": "lines",
         "type": "scattermapbox"
        },
        {
         "hoverinfo": "skip",
         "lat": [
          44.36721,
          44.37037,
          44.36975,
          44.37582,
          44.39656,
          44.40246,
          44.40045,
          44.38854,
          44.39299,
          44.3753,
          44.3398,
          44.30342,
          44.25645,
          44.24355,
          44.18606,
          44.15035,
          44.10022,
          44.07695,
          44.06464,
          44.0425,
          44.00717,
          43.96025,
          43.91956,
          43.86547,
          43.74385,
          43.7293,
          43.77131,
          43.74973,
          43.69796,
          43.73516,
          43.73937,
          43.70286,
          43.69531,
          43.68087
         ],
         "line": {
          "color": "blue",
          "width": 2
         },
         "lon": [
          -73.90362,
          -73.89774,
          -73.91299,
          -73.90098,
          -73.90078,
          -73.87574,
          -73.8436,
          -73.81542,
          -73.77397,
          -73.72768,
          -73.77301,
          -73.79045,
          -73.79222,
          -73.77909,
          -73.78658,
          -73.7678,
          -73.68483,
          -73.66364,
          -73.68283,
          -73.68404,
          -73.71575,
          -73.7288,
          -73.75772,
          -73.756,
          -73.82364,
          -73.82044,
          -73.93355,
          -73.96285,
          -73.98531,
          -74.02241,
          -74.04813,
          -74.07453,
          -74.06057,
          -74.05725
         ],
         "mode": "lines",
         "type": "scattermapbox"
        },
        {
         "hoverinfo": "skip",
         "lat": [
          43.68087,
          43.70286,
          43.72295,
          43.73691,
          43.63299,
          43.53353,
          43.433,
          43.2682,
          43.10713,
          43.07373,
          43.00271,
          42.92756,
          42.78572,
          42.73243,
          42.70097,
          42.6745,
          42.6301,
          42.54563,
          42.2191,
          42.17479,
          42.20778,
          42.1964
         ],
         "line": {
          "color": "blue",
          "width": 2
         },
         "lon": [
          -74.05725,
          -74.07453,
          -74.06375,
          -74.02637,
          -73.9405,
          -73.79558,
          -73.72191,
          -73.67467,
          -73.75237,
          -73.75062,
          -73.80319,
          -73.80316,
          -73.75805,
          -73.78956,
          -73.84886,
          -73.84329,
          -73.77942,
          -73.78163,
          -73.87333,
          -74.02013,
          -74.20763,
          -74.22526
         ],
         "mode": "lines",
         "type": "scattermapbox"
        },
        {
         "hoverinfo": "skip",
         "lat": [
          42.1964,
          42.19944,
          42.20255,
          42.20395,
          42.20778,
          42.20955,
          42.21511,
          42.21904,
          42.22112,
          42.22389,
          42.22659,
          42.23003,
          42.23459,
          42.24329,
          42.24854,
          42.25237,
          42.26473,
          42.27086,
          42.27454,
          42.27756,
          42.28395,
          42.28997,
          42.30176,
          42.30435,
          42.30358,
          42.30457,
          42.30304,
          42.30059,
          42.29925,
          42.29675,
          42.29795,
          42.29608,
          42.29679,
          42.29549,
          42.29461
         ],
         "line": {
          "color": "blue",
          "width": 2
         },
         "lon": [
          -74.22526,
          -74.21401,
          -74.21205,
          -74.2084,
          -74.20763,
          -74.2133,
          -74.22144,
          -74.23308,
          -74.234,
          -74.23285,
          -74.23449,
          -74.24169,
          -74.24487,
          -74.244,
          -74.24911,
          -74.24988,
          -74.24027,
          -74.23768,
          -74.23329,
          -74.22721,
          -74.2245,
          -74.21642,
          -74.22909,
          -74.23023,
          -74.23553,
          -74.2437,
          -74.25684,
          -74.25731,
          -74.26123,
          -74.26029,
          -74.26195,
          -74.26194,
          -74.26254,
          -74.26474,
          -74.26406
         ],
         "mode": "lines",
         "type": "scattermapbox"
        },
        {
         "hoverinfo": "skip",
         "lat": [
          42.29461,
          42.30304,
          42.30423,
          42.29531,
          42.28638,
          42.28126,
          42.26794,
          42.25198,
          42.24084,
          42.23689,
          42.24285,
          42.24319,
          42.23765,
          42.23967,
          42.24541,
          42.24451,
          42.23348,
          42.21574,
          42.20886,
          42.20528,
          42.18923,
          42.18106,
          42.16282,
          42.15883,
          42.15425,
          42.14205,
          42.13827,
          42.13126,
          42.12185,
          42.11935,
          42.11585,
          42.11515,
          42.10417,
          42.10202,
          42.1066,
          42.12128,
          42.12697,
          42.12621
         ],
         "line": {
          "color": "blue",
          "width": 2
         },
         "lon": [
          -74.26406,
          -74.25684,
          -74.28523,
          -74.30532,
          -74.30478,
          -74.2993,
          -74.3038,
          -74.30319,
          -74.31069,
          -74.31825,
          -74.32568,
          -74.33525,
          -74.34817,
          -74.36692,
          -74.379,
          -74.38258,
          -74.39184,
          -74.38396,
          -74.38852,
          -74.39534,
          -74.41109,
          -74.4157,
          -74.40846,
          -74.40865,
          -74.41374,
          -74.4069,
          -74.40878,
          -74.4064,
          -74.39932,
          -74.39357,
          -74.40853,
          -74.42556,
          -74.43377,
          -74.44063,
          -74.44952,
          -74.46075,
          -74.47056,
          -74.47416
         ],
         "mode": "lines",
         "type": "scattermapbox"
        },
        {
         "hoverinfo": "skip",
         "lat": [
          42.12621,
          42.14928,
          42.15887,
          42.14731,
          42.12191,
          42.13027,
          42.16684,
          42.19546,
          42.18282,
          42.20046,
          42.19741,
          42.21698,
          42.21158,
          42.20091,
          42.21121,
          42.17116,
          42.15318,
          42.17058,
          42.20011,
          42.21947,
          42.20768,
          42.21473,
          42.20362,
          42.23772,
          42.24894,
          42.28519,
          42.29494,
          42.28984,
          42.31994,
          42.31352,
          42.3232,
          42.31847,
          42.34944,
          42.33808,
          42.34156,
          42.32897,
          42.32913,
          42.35749,
          42.42683,
          42.48872,
          42.49372,
          42.51041,
          42.50518
         ],
         "line": {
          "color": "blue",
          "width": 2
         },
         "lon": [
          -74.47416,
          -74.49782,
          -74.55967,
          -74.64711,
          -74.68088,
          -74.69508,
          -74.70544,
          -74.7449,
          -74.79862,
          -74.81972,
          -74.8412,
          -74.8839,
          -74.94196,
          -74.96283,
          -74.97916,
          -75.02706,
          -75.09586,
          -75.13894,
          -75.16136,
          -75.19185,
          -75.21742,
          -75.24559,
          -75.28129,
          -75.33666,
          -75.39715,
          -75.39668,
          -75.40659,
          -75.47342,
          -75.56457,
          -75.59842,
          -75.68372,
          -75.73683,
          -75.80871,
          -75.89082,
          -75.92577,
          -75.94764,
          -75.96574,
          -75.99266,
          -76.01895,
          -76.06971,
          -76.11732,
          -76.15917,
          -76.15255
         ],
         "mode": "lines",
         "type": "scattermapbox"
        },
        {
         "hoverinfo": "skip",
         "lat": [
          42.50518,
          42.51057,
          42.48835,
          42.48623,
          42.4375,
          42.43965,
          42.33199,
          42.29177,
          42.29136,
          42.2734,
          42.24447,
          42.19068,
          42.18069,
          42.15449,
          42.16172,
          42.11858,
          42.16261,
          42.15314,
          42.1757,
          42.18851,
          42.27268,
          42.29121,
          42.31354,
          42.31657,
          42.33654,
          42.3735,
          42.38979,
          42.38812,
          42.36354,
          42.36786,
          42.38156,
          42.36739,
          42.37987,
          42.35257,
          42.31613,
          42.32015,
          42.3057,
          42.29373,
          42.30086,
          42.22912,
          42.20414,
          42.2139,
          42.22652,
          42.22496,
          42.2121,
          42.18345,
          42.17653,
          42.22345,
          42.22925,
          42.2469,
          42.27535,
          42.32099,
          42.30932,
          42.26348,
          42.23949,
          42.24083,
          42.26294
         ],
         "line": {
          "color": "blue",
          "width": 2
         },
         "lon": [
          -76.15255,
          -76.19473,
          -76.2453,
          -76.34912,
          -76.48179,
          -76.49564,
          -76.63407,
          -76.69947,
          -76.72796,
          -76.74863,
          -76.75322,
          -76.78706,
          -76.80316,
          -76.80673,
          -76.85197,
          -77.00674,
          -77.05972,
          -77.08645,
          -77.1083,
          -77.15786,
          -77.2231,
          -77.22524,
          -77.25508,
          -77.28518,
          -77.33414,
          -77.35546,
          -77.38484,
          -77.40808,
          -77.46487,
          -77.51663,
          -77.53739,
          -77.59758,
          -77.66379,
          -77.7174,
          -77.7529,
          -77.83308,
          -77.87491,
          -77.97751,
          -78.02228,
          -78.09351,
          -78.15728,
          -78.21967,
          -78.24919,
          -78.27746,
          -78.32106,
          -78.34951,
          -78.38217,
          -78.37853,
          -78.39336,
          -78.3984,
          -78.44725,
          -78.46157,
          -78.50677,
          -78.5466,
          -78.58668,
          -78.62307,
          -78.66361
         ],
         "mode": "lines",
         "type": "scattermapbox"
        },
        {
         "hoverinfo": "skip",
         "lat": [
          42.26294,
          42.27507,
          42.2763,
          42.27302,
          42.25515,
          42.25106,
          42.23921,
          42.24898,
          42.22536,
          42.22268,
          42.20924,
          42.19314,
          42.18509,
          42.16975,
          42.17254,
          42.15898,
          42.16281,
          42.16214,
          42.14515,
          42.13553,
          42.13776,
          42.12696,
          42.12133,
          42.12924,
          42.13968,
          42.15385,
          42.1517,
          42.15748,
          42.15347,
          42.15672,
          42.14671,
          42.14487,
          42.13141,
          42.11894,
          42.11075,
          42.09157,
          42.06878,
          42.05794,
          42.05048,
          42.05261,
          42.06049
         ],
         "line": {
          "color": "blue",
          "width": 2
         },
         "lon": [
          -78.66361,
          -78.67279,
          -78.70548,
          -78.71627,
          -78.72989,
          -78.76135,
          -78.76475,
          -78.80755,
          -78.83573,
          -78.8484,
          -78.86729,
          -78.91336,
          -78.91697,
          -78.93789,
          -78.94759,
          -78.9936,
          -79.00602,
          -79.02805,
          -79.08268,
          -79.13167,
          -79.17459,
          -79.19732,
          -79.24214,
          -79.32071,
          -79.35057,
          -79.37423,
          -79.41208,
          -79.47071,
          -79.50918,
          -79.57916,
          -79.60784,
          -79.7104,
          -79.74181,
          -79.73736,
          -79.72258,
          -79.71286,
          -79.7165,
          -79.73266,
          -79.73523,
          -79.74181,
          -79.74406
         ],
         "mode": "lines",
         "type": "scattermapbox"
        },
        {
         "lat": [
          44.7641115,
          44.3657845,
          43.672954,
          42.1778662,
          42.29392565,
          42.12689335,
          42.50232045,
          42.2631454,
          42.06046265
         ],
         "lon": [
          -73.5840546,
          -73.9029843,
          -74.0488526,
          -74.2304216,
          -74.2613118092174,
          -74.47407468091113,
          -76.14804555790452,
          -78.6636114,
          -79.7440664815112
         ],
         "marker": {
          "color": [
           "red",
           "lightblue",
           "lightblue",
           "lightblue",
           "lightblue",
           "lightblue",
           "lightblue",
           "lightblue",
           "lightblue"
          ],
          "size": 12
         },
         "mode": "markers",
         "name": "Ski Resorts",
         "text": [
          "Stop 1: Beartown Ski Area",
          "Stop 2: Whiteface Mountain",
          "Stop 3: Gore Mountain",
          "Stop 4: Hunter Mountain",
          "Stop 5: Windham Mountain",
          "Stop 6: Belleayre Mountain",
          "Stop 7: Greek Peak",
          "Stop 8: Holiday Valley",
          "Stop 9: Peek'n Peak Resort"
         ],
         "type": "scattermapbox"
        }
       ],
       "layout": {
        "mapbox": {
         "center": {
          "lat": 42.914162633333326,
          "lon": -75.45082478106048
         },
         "style": "carto-positron",
         "zoom": 5
        },
        "margin": {
         "b": 0,
         "l": 0,
         "r": 0,
         "t": 30
        },
        "showlegend": false,
        "template": {
         "data": {
          "bar": [
           {
            "error_x": {
             "color": "#2a3f5f"
            },
            "error_y": {
             "color": "#2a3f5f"
            },
            "marker": {
             "line": {
              "color": "#E5ECF6",
              "width": 0.5
             },
             "pattern": {
              "fillmode": "overlay",
              "size": 10,
              "solidity": 0.2
             }
            },
            "type": "bar"
           }
          ],
          "barpolar": [
           {
            "marker": {
             "line": {
              "color": "#E5ECF6",
              "width": 0.5
             },
             "pattern": {
              "fillmode": "overlay",
              "size": 10,
              "solidity": 0.2
             }
            },
            "type": "barpolar"
           }
          ],
          "carpet": [
           {
            "aaxis": {
             "endlinecolor": "#2a3f5f",
             "gridcolor": "white",
             "linecolor": "white",
             "minorgridcolor": "white",
             "startlinecolor": "#2a3f5f"
            },
            "baxis": {
             "endlinecolor": "#2a3f5f",
             "gridcolor": "white",
             "linecolor": "white",
             "minorgridcolor": "white",
             "startlinecolor": "#2a3f5f"
            },
            "type": "carpet"
           }
          ],
          "choropleth": [
           {
            "colorbar": {
             "outlinewidth": 0,
             "ticks": ""
            },
            "type": "choropleth"
           }
          ],
          "contour": [
           {
            "colorbar": {
             "outlinewidth": 0,
             "ticks": ""
            },
            "colorscale": [
             [
              0,
              "#0d0887"
             ],
             [
              0.1111111111111111,
              "#46039f"
             ],
             [
              0.2222222222222222,
              "#7201a8"
             ],
             [
              0.3333333333333333,
              "#9c179e"
             ],
             [
              0.4444444444444444,
              "#bd3786"
             ],
             [
              0.5555555555555556,
              "#d8576b"
             ],
             [
              0.6666666666666666,
              "#ed7953"
             ],
             [
              0.7777777777777778,
              "#fb9f3a"
             ],
             [
              0.8888888888888888,
              "#fdca26"
             ],
             [
              1,
              "#f0f921"
             ]
            ],
            "type": "contour"
           }
          ],
          "contourcarpet": [
           {
            "colorbar": {
             "outlinewidth": 0,
             "ticks": ""
            },
            "type": "contourcarpet"
           }
          ],
          "heatmap": [
           {
            "colorbar": {
             "outlinewidth": 0,
             "ticks": ""
            },
            "colorscale": [
             [
              0,
              "#0d0887"
             ],
             [
              0.1111111111111111,
              "#46039f"
             ],
             [
              0.2222222222222222,
              "#7201a8"
             ],
             [
              0.3333333333333333,
              "#9c179e"
             ],
             [
              0.4444444444444444,
              "#bd3786"
             ],
             [
              0.5555555555555556,
              "#d8576b"
             ],
             [
              0.6666666666666666,
              "#ed7953"
             ],
             [
              0.7777777777777778,
              "#fb9f3a"
             ],
             [
              0.8888888888888888,
              "#fdca26"
             ],
             [
              1,
              "#f0f921"
             ]
            ],
            "type": "heatmap"
           }
          ],
          "heatmapgl": [
           {
            "colorbar": {
             "outlinewidth": 0,
             "ticks": ""
            },
            "colorscale": [
             [
              0,
              "#0d0887"
             ],
             [
              0.1111111111111111,
              "#46039f"
             ],
             [
              0.2222222222222222,
              "#7201a8"
             ],
             [
              0.3333333333333333,
              "#9c179e"
             ],
             [
              0.4444444444444444,
              "#bd3786"
             ],
             [
              0.5555555555555556,
              "#d8576b"
             ],
             [
              0.6666666666666666,
              "#ed7953"
             ],
             [
              0.7777777777777778,
              "#fb9f3a"
             ],
             [
              0.8888888888888888,
              "#fdca26"
             ],
             [
              1,
              "#f0f921"
             ]
            ],
            "type": "heatmapgl"
           }
          ],
          "histogram": [
           {
            "marker": {
             "pattern": {
              "fillmode": "overlay",
              "size": 10,
              "solidity": 0.2
             }
            },
            "type": "histogram"
           }
          ],
          "histogram2d": [
           {
            "colorbar": {
             "outlinewidth": 0,
             "ticks": ""
            },
            "colorscale": [
             [
              0,
              "#0d0887"
             ],
             [
              0.1111111111111111,
              "#46039f"
             ],
             [
              0.2222222222222222,
              "#7201a8"
             ],
             [
              0.3333333333333333,
              "#9c179e"
             ],
             [
              0.4444444444444444,
              "#bd3786"
             ],
             [
              0.5555555555555556,
              "#d8576b"
             ],
             [
              0.6666666666666666,
              "#ed7953"
             ],
             [
              0.7777777777777778,
              "#fb9f3a"
             ],
             [
              0.8888888888888888,
              "#fdca26"
             ],
             [
              1,
              "#f0f921"
             ]
            ],
            "type": "histogram2d"
           }
          ],
          "histogram2dcontour": [
           {
            "colorbar": {
             "outlinewidth": 0,
             "ticks": ""
            },
            "colorscale": [
             [
              0,
              "#0d0887"
             ],
             [
              0.1111111111111111,
              "#46039f"
             ],
             [
              0.2222222222222222,
              "#7201a8"
             ],
             [
              0.3333333333333333,
              "#9c179e"
             ],
             [
              0.4444444444444444,
              "#bd3786"
             ],
             [
              0.5555555555555556,
              "#d8576b"
             ],
             [
              0.6666666666666666,
              "#ed7953"
             ],
             [
              0.7777777777777778,
              "#fb9f3a"
             ],
             [
              0.8888888888888888,
              "#fdca26"
             ],
             [
              1,
              "#f0f921"
             ]
            ],
            "type": "histogram2dcontour"
           }
          ],
          "mesh3d": [
           {
            "colorbar": {
             "outlinewidth": 0,
             "ticks": ""
            },
            "type": "mesh3d"
           }
          ],
          "parcoords": [
           {
            "line": {
             "colorbar": {
              "outlinewidth": 0,
              "ticks": ""
             }
            },
            "type": "parcoords"
           }
          ],
          "pie": [
           {
            "automargin": true,
            "type": "pie"
           }
          ],
          "scatter": [
           {
            "fillpattern": {
             "fillmode": "overlay",
             "size": 10,
             "solidity": 0.2
            },
            "type": "scatter"
           }
          ],
          "scatter3d": [
           {
            "line": {
             "colorbar": {
              "outlinewidth": 0,
              "ticks": ""
             }
            },
            "marker": {
             "colorbar": {
              "outlinewidth": 0,
              "ticks": ""
             }
            },
            "type": "scatter3d"
           }
          ],
          "scattercarpet": [
           {
            "marker": {
             "colorbar": {
              "outlinewidth": 0,
              "ticks": ""
             }
            },
            "type": "scattercarpet"
           }
          ],
          "scattergeo": [
           {
            "marker": {
             "colorbar": {
              "outlinewidth": 0,
              "ticks": ""
             }
            },
            "type": "scattergeo"
           }
          ],
          "scattergl": [
           {
            "marker": {
             "colorbar": {
              "outlinewidth": 0,
              "ticks": ""
             }
            },
            "type": "scattergl"
           }
          ],
          "scattermapbox": [
           {
            "marker": {
             "colorbar": {
              "outlinewidth": 0,
              "ticks": ""
             }
            },
            "type": "scattermapbox"
           }
          ],
          "scatterpolar": [
           {
            "marker": {
             "colorbar": {
              "outlinewidth": 0,
              "ticks": ""
             }
            },
            "type": "scatterpolar"
           }
          ],
          "scatterpolargl": [
           {
            "marker": {
             "colorbar": {
              "outlinewidth": 0,
              "ticks": ""
             }
            },
            "type": "scatterpolargl"
           }
          ],
          "scatterternary": [
           {
            "marker": {
             "colorbar": {
              "outlinewidth": 0,
              "ticks": ""
             }
            },
            "type": "scatterternary"
           }
          ],
          "surface": [
           {
            "colorbar": {
             "outlinewidth": 0,
             "ticks": ""
            },
            "colorscale": [
             [
              0,
              "#0d0887"
             ],
             [
              0.1111111111111111,
              "#46039f"
             ],
             [
              0.2222222222222222,
              "#7201a8"
             ],
             [
              0.3333333333333333,
              "#9c179e"
             ],
             [
              0.4444444444444444,
              "#bd3786"
             ],
             [
              0.5555555555555556,
              "#d8576b"
             ],
             [
              0.6666666666666666,
              "#ed7953"
             ],
             [
              0.7777777777777778,
              "#fb9f3a"
             ],
             [
              0.8888888888888888,
              "#fdca26"
             ],
             [
              1,
              "#f0f921"
             ]
            ],
            "type": "surface"
           }
          ],
          "table": [
           {
            "cells": {
             "fill": {
              "color": "#EBF0F8"
             },
             "line": {
              "color": "white"
             }
            },
            "header": {
             "fill": {
              "color": "#C8D4E3"
             },
             "line": {
              "color": "white"
             }
            },
            "type": "table"
           }
          ]
         },
         "layout": {
          "annotationdefaults": {
           "arrowcolor": "#2a3f5f",
           "arrowhead": 0,
           "arrowwidth": 1
          },
          "autotypenumbers": "strict",
          "coloraxis": {
           "colorbar": {
            "outlinewidth": 0,
            "ticks": ""
           }
          },
          "colorscale": {
           "diverging": [
            [
             0,
             "#8e0152"
            ],
            [
             0.1,
             "#c51b7d"
            ],
            [
             0.2,
             "#de77ae"
            ],
            [
             0.3,
             "#f1b6da"
            ],
            [
             0.4,
             "#fde0ef"
            ],
            [
             0.5,
             "#f7f7f7"
            ],
            [
             0.6,
             "#e6f5d0"
            ],
            [
             0.7,
             "#b8e186"
            ],
            [
             0.8,
             "#7fbc41"
            ],
            [
             0.9,
             "#4d9221"
            ],
            [
             1,
             "#276419"
            ]
           ],
           "sequential": [
            [
             0,
             "#0d0887"
            ],
            [
             0.1111111111111111,
             "#46039f"
            ],
            [
             0.2222222222222222,
             "#7201a8"
            ],
            [
             0.3333333333333333,
             "#9c179e"
            ],
            [
             0.4444444444444444,
             "#bd3786"
            ],
            [
             0.5555555555555556,
             "#d8576b"
            ],
            [
             0.6666666666666666,
             "#ed7953"
            ],
            [
             0.7777777777777778,
             "#fb9f3a"
            ],
            [
             0.8888888888888888,
             "#fdca26"
            ],
            [
             1,
             "#f0f921"
            ]
           ],
           "sequentialminus": [
            [
             0,
             "#0d0887"
            ],
            [
             0.1111111111111111,
             "#46039f"
            ],
            [
             0.2222222222222222,
             "#7201a8"
            ],
            [
             0.3333333333333333,
             "#9c179e"
            ],
            [
             0.4444444444444444,
             "#bd3786"
            ],
            [
             0.5555555555555556,
             "#d8576b"
            ],
            [
             0.6666666666666666,
             "#ed7953"
            ],
            [
             0.7777777777777778,
             "#fb9f3a"
            ],
            [
             0.8888888888888888,
             "#fdca26"
            ],
            [
             1,
             "#f0f921"
            ]
           ]
          },
          "colorway": [
           "#636efa",
           "#EF553B",
           "#00cc96",
           "#ab63fa",
           "#FFA15A",
           "#19d3f3",
           "#FF6692",
           "#B6E880",
           "#FF97FF",
           "#FECB52"
          ],
          "font": {
           "color": "#2a3f5f"
          },
          "geo": {
           "bgcolor": "white",
           "lakecolor": "white",
           "landcolor": "#E5ECF6",
           "showlakes": true,
           "showland": true,
           "subunitcolor": "white"
          },
          "hoverlabel": {
           "align": "left"
          },
          "hovermode": "closest",
          "mapbox": {
           "style": "light"
          },
          "paper_bgcolor": "white",
          "plot_bgcolor": "#E5ECF6",
          "polar": {
           "angularaxis": {
            "gridcolor": "white",
            "linecolor": "white",
            "ticks": ""
           },
           "bgcolor": "#E5ECF6",
           "radialaxis": {
            "gridcolor": "white",
            "linecolor": "white",
            "ticks": ""
           }
          },
          "scene": {
           "xaxis": {
            "backgroundcolor": "#E5ECF6",
            "gridcolor": "white",
            "gridwidth": 2,
            "linecolor": "white",
            "showbackground": true,
            "ticks": "",
            "zerolinecolor": "white"
           },
           "yaxis": {
            "backgroundcolor": "#E5ECF6",
            "gridcolor": "white",
            "gridwidth": 2,
            "linecolor": "white",
            "showbackground": true,
            "ticks": "",
            "zerolinecolor": "white"
           },
           "zaxis": {
            "backgroundcolor": "#E5ECF6",
            "gridcolor": "white",
            "gridwidth": 2,
            "linecolor": "white",
            "showbackground": true,
            "ticks": "",
            "zerolinecolor": "white"
           }
          },
          "shapedefaults": {
           "line": {
            "color": "#2a3f5f"
           }
          },
          "ternary": {
           "aaxis": {
            "gridcolor": "white",
            "linecolor": "white",
            "ticks": ""
           },
           "baxis": {
            "gridcolor": "white",
            "linecolor": "white",
            "ticks": ""
           },
           "bgcolor": "#E5ECF6",
           "caxis": {
            "gridcolor": "white",
            "linecolor": "white",
            "ticks": ""
           }
          },
          "title": {
           "x": 0.05
          },
          "xaxis": {
           "automargin": true,
           "gridcolor": "white",
           "linecolor": "white",
           "ticks": "",
           "title": {
            "standoff": 15
           },
           "zerolinecolor": "white",
           "zerolinewidth": 2
          },
          "yaxis": {
           "automargin": true,
           "gridcolor": "white",
           "linecolor": "white",
           "ticks": "",
           "title": {
            "standoff": 15
           },
           "zerolinecolor": "white",
           "zerolinewidth": 2
          }
         }
        },
        "title": {
         "text": "New York Ski Resort - Optimized Route"
        }
       }
      }
     },
     "metadata": {},
     "output_type": "display_data"
    },
    {
     "name": "stdout",
     "output_type": "stream",
     "text": [
      "688.4506713453 miles\n"
     ]
    }
   ],
   "source": [
    "fig = visualize_ld_route(top_9, route)\n",
    "fig.show()\n",
    "\n",
    "print(total_distance, \"miles\")"
   ]
  },
  {
   "cell_type": "code",
   "execution_count": 18,
   "metadata": {},
   "outputs": [],
   "source": [
    "fig.write_html('optimized_route1_full.html', full_html=True)\n",
    "fig.write_html('optimized_route1.html', full_html=False)"
   ]
  },
  {
   "cell_type": "markdown",
   "metadata": {},
   "source": [
    "# Compute time comparison"
   ]
  },
  {
   "cell_type": "markdown",
   "metadata": {},
   "source": [
    "The computation times between random and optimized routing techniques is due to the fact that the random_route handles the plotting via the OSRM API calls needed to gather the geometries of the routes between points. While the optimized route is simply solving a Digraph problem, where it selects the minimal edge weight."
   ]
  },
  {
   "cell_type": "code",
   "execution_count": 19,
   "metadata": {},
   "outputs": [
    {
     "data": {
      "application/vnd.plotly.v1+json": {
       "config": {
        "plotlyServerURL": "https://plot.ly"
       },
       "data": [
        {
         "marker": {
          "color": [
           "#121314",
           "#28B463"
          ]
         },
         "text": [
          "4.48s",
          "0.000757s"
         ],
         "textposition": "auto",
         "type": "bar",
         "x": [
          "Random Route",
          "Optimized Route"
         ],
         "y": [
          4.48,
          0.000757
         ]
        }
       ],
       "layout": {
        "showlegend": false,
        "template": {
         "data": {
          "bar": [
           {
            "error_x": {
             "color": "#2a3f5f"
            },
            "error_y": {
             "color": "#2a3f5f"
            },
            "marker": {
             "line": {
              "color": "white",
              "width": 0.5
             },
             "pattern": {
              "fillmode": "overlay",
              "size": 10,
              "solidity": 0.2
             }
            },
            "type": "bar"
           }
          ],
          "barpolar": [
           {
            "marker": {
             "line": {
              "color": "white",
              "width": 0.5
             },
             "pattern": {
              "fillmode": "overlay",
              "size": 10,
              "solidity": 0.2
             }
            },
            "type": "barpolar"
           }
          ],
          "carpet": [
           {
            "aaxis": {
             "endlinecolor": "#2a3f5f",
             "gridcolor": "#C8D4E3",
             "linecolor": "#C8D4E3",
             "minorgridcolor": "#C8D4E3",
             "startlinecolor": "#2a3f5f"
            },
            "baxis": {
             "endlinecolor": "#2a3f5f",
             "gridcolor": "#C8D4E3",
             "linecolor": "#C8D4E3",
             "minorgridcolor": "#C8D4E3",
             "startlinecolor": "#2a3f5f"
            },
            "type": "carpet"
           }
          ],
          "choropleth": [
           {
            "colorbar": {
             "outlinewidth": 0,
             "ticks": ""
            },
            "type": "choropleth"
           }
          ],
          "contour": [
           {
            "colorbar": {
             "outlinewidth": 0,
             "ticks": ""
            },
            "colorscale": [
             [
              0,
              "#0d0887"
             ],
             [
              0.1111111111111111,
              "#46039f"
             ],
             [
              0.2222222222222222,
              "#7201a8"
             ],
             [
              0.3333333333333333,
              "#9c179e"
             ],
             [
              0.4444444444444444,
              "#bd3786"
             ],
             [
              0.5555555555555556,
              "#d8576b"
             ],
             [
              0.6666666666666666,
              "#ed7953"
             ],
             [
              0.7777777777777778,
              "#fb9f3a"
             ],
             [
              0.8888888888888888,
              "#fdca26"
             ],
             [
              1,
              "#f0f921"
             ]
            ],
            "type": "contour"
           }
          ],
          "contourcarpet": [
           {
            "colorbar": {
             "outlinewidth": 0,
             "ticks": ""
            },
            "type": "contourcarpet"
           }
          ],
          "heatmap": [
           {
            "colorbar": {
             "outlinewidth": 0,
             "ticks": ""
            },
            "colorscale": [
             [
              0,
              "#0d0887"
             ],
             [
              0.1111111111111111,
              "#46039f"
             ],
             [
              0.2222222222222222,
              "#7201a8"
             ],
             [
              0.3333333333333333,
              "#9c179e"
             ],
             [
              0.4444444444444444,
              "#bd3786"
             ],
             [
              0.5555555555555556,
              "#d8576b"
             ],
             [
              0.6666666666666666,
              "#ed7953"
             ],
             [
              0.7777777777777778,
              "#fb9f3a"
             ],
             [
              0.8888888888888888,
              "#fdca26"
             ],
             [
              1,
              "#f0f921"
             ]
            ],
            "type": "heatmap"
           }
          ],
          "heatmapgl": [
           {
            "colorbar": {
             "outlinewidth": 0,
             "ticks": ""
            },
            "colorscale": [
             [
              0,
              "#0d0887"
             ],
             [
              0.1111111111111111,
              "#46039f"
             ],
             [
              0.2222222222222222,
              "#7201a8"
             ],
             [
              0.3333333333333333,
              "#9c179e"
             ],
             [
              0.4444444444444444,
              "#bd3786"
             ],
             [
              0.5555555555555556,
              "#d8576b"
             ],
             [
              0.6666666666666666,
              "#ed7953"
             ],
             [
              0.7777777777777778,
              "#fb9f3a"
             ],
             [
              0.8888888888888888,
              "#fdca26"
             ],
             [
              1,
              "#f0f921"
             ]
            ],
            "type": "heatmapgl"
           }
          ],
          "histogram": [
           {
            "marker": {
             "pattern": {
              "fillmode": "overlay",
              "size": 10,
              "solidity": 0.2
             }
            },
            "type": "histogram"
           }
          ],
          "histogram2d": [
           {
            "colorbar": {
             "outlinewidth": 0,
             "ticks": ""
            },
            "colorscale": [
             [
              0,
              "#0d0887"
             ],
             [
              0.1111111111111111,
              "#46039f"
             ],
             [
              0.2222222222222222,
              "#7201a8"
             ],
             [
              0.3333333333333333,
              "#9c179e"
             ],
             [
              0.4444444444444444,
              "#bd3786"
             ],
             [
              0.5555555555555556,
              "#d8576b"
             ],
             [
              0.6666666666666666,
              "#ed7953"
             ],
             [
              0.7777777777777778,
              "#fb9f3a"
             ],
             [
              0.8888888888888888,
              "#fdca26"
             ],
             [
              1,
              "#f0f921"
             ]
            ],
            "type": "histogram2d"
           }
          ],
          "histogram2dcontour": [
           {
            "colorbar": {
             "outlinewidth": 0,
             "ticks": ""
            },
            "colorscale": [
             [
              0,
              "#0d0887"
             ],
             [
              0.1111111111111111,
              "#46039f"
             ],
             [
              0.2222222222222222,
              "#7201a8"
             ],
             [
              0.3333333333333333,
              "#9c179e"
             ],
             [
              0.4444444444444444,
              "#bd3786"
             ],
             [
              0.5555555555555556,
              "#d8576b"
             ],
             [
              0.6666666666666666,
              "#ed7953"
             ],
             [
              0.7777777777777778,
              "#fb9f3a"
             ],
             [
              0.8888888888888888,
              "#fdca26"
             ],
             [
              1,
              "#f0f921"
             ]
            ],
            "type": "histogram2dcontour"
           }
          ],
          "mesh3d": [
           {
            "colorbar": {
             "outlinewidth": 0,
             "ticks": ""
            },
            "type": "mesh3d"
           }
          ],
          "parcoords": [
           {
            "line": {
             "colorbar": {
              "outlinewidth": 0,
              "ticks": ""
             }
            },
            "type": "parcoords"
           }
          ],
          "pie": [
           {
            "automargin": true,
            "type": "pie"
           }
          ],
          "scatter": [
           {
            "fillpattern": {
             "fillmode": "overlay",
             "size": 10,
             "solidity": 0.2
            },
            "type": "scatter"
           }
          ],
          "scatter3d": [
           {
            "line": {
             "colorbar": {
              "outlinewidth": 0,
              "ticks": ""
             }
            },
            "marker": {
             "colorbar": {
              "outlinewidth": 0,
              "ticks": ""
             }
            },
            "type": "scatter3d"
           }
          ],
          "scattercarpet": [
           {
            "marker": {
             "colorbar": {
              "outlinewidth": 0,
              "ticks": ""
             }
            },
            "type": "scattercarpet"
           }
          ],
          "scattergeo": [
           {
            "marker": {
             "colorbar": {
              "outlinewidth": 0,
              "ticks": ""
             }
            },
            "type": "scattergeo"
           }
          ],
          "scattergl": [
           {
            "marker": {
             "colorbar": {
              "outlinewidth": 0,
              "ticks": ""
             }
            },
            "type": "scattergl"
           }
          ],
          "scattermapbox": [
           {
            "marker": {
             "colorbar": {
              "outlinewidth": 0,
              "ticks": ""
             }
            },
            "type": "scattermapbox"
           }
          ],
          "scatterpolar": [
           {
            "marker": {
             "colorbar": {
              "outlinewidth": 0,
              "ticks": ""
             }
            },
            "type": "scatterpolar"
           }
          ],
          "scatterpolargl": [
           {
            "marker": {
             "colorbar": {
              "outlinewidth": 0,
              "ticks": ""
             }
            },
            "type": "scatterpolargl"
           }
          ],
          "scatterternary": [
           {
            "marker": {
             "colorbar": {
              "outlinewidth": 0,
              "ticks": ""
             }
            },
            "type": "scatterternary"
           }
          ],
          "surface": [
           {
            "colorbar": {
             "outlinewidth": 0,
             "ticks": ""
            },
            "colorscale": [
             [
              0,
              "#0d0887"
             ],
             [
              0.1111111111111111,
              "#46039f"
             ],
             [
              0.2222222222222222,
              "#7201a8"
             ],
             [
              0.3333333333333333,
              "#9c179e"
             ],
             [
              0.4444444444444444,
              "#bd3786"
             ],
             [
              0.5555555555555556,
              "#d8576b"
             ],
             [
              0.6666666666666666,
              "#ed7953"
             ],
             [
              0.7777777777777778,
              "#fb9f3a"
             ],
             [
              0.8888888888888888,
              "#fdca26"
             ],
             [
              1,
              "#f0f921"
             ]
            ],
            "type": "surface"
           }
          ],
          "table": [
           {
            "cells": {
             "fill": {
              "color": "#EBF0F8"
             },
             "line": {
              "color": "white"
             }
            },
            "header": {
             "fill": {
              "color": "#C8D4E3"
             },
             "line": {
              "color": "white"
             }
            },
            "type": "table"
           }
          ]
         },
         "layout": {
          "annotationdefaults": {
           "arrowcolor": "#2a3f5f",
           "arrowhead": 0,
           "arrowwidth": 1
          },
          "autotypenumbers": "strict",
          "coloraxis": {
           "colorbar": {
            "outlinewidth": 0,
            "ticks": ""
           }
          },
          "colorscale": {
           "diverging": [
            [
             0,
             "#8e0152"
            ],
            [
             0.1,
             "#c51b7d"
            ],
            [
             0.2,
             "#de77ae"
            ],
            [
             0.3,
             "#f1b6da"
            ],
            [
             0.4,
             "#fde0ef"
            ],
            [
             0.5,
             "#f7f7f7"
            ],
            [
             0.6,
             "#e6f5d0"
            ],
            [
             0.7,
             "#b8e186"
            ],
            [
             0.8,
             "#7fbc41"
            ],
            [
             0.9,
             "#4d9221"
            ],
            [
             1,
             "#276419"
            ]
           ],
           "sequential": [
            [
             0,
             "#0d0887"
            ],
            [
             0.1111111111111111,
             "#46039f"
            ],
            [
             0.2222222222222222,
             "#7201a8"
            ],
            [
             0.3333333333333333,
             "#9c179e"
            ],
            [
             0.4444444444444444,
             "#bd3786"
            ],
            [
             0.5555555555555556,
             "#d8576b"
            ],
            [
             0.6666666666666666,
             "#ed7953"
            ],
            [
             0.7777777777777778,
             "#fb9f3a"
            ],
            [
             0.8888888888888888,
             "#fdca26"
            ],
            [
             1,
             "#f0f921"
            ]
           ],
           "sequentialminus": [
            [
             0,
             "#0d0887"
            ],
            [
             0.1111111111111111,
             "#46039f"
            ],
            [
             0.2222222222222222,
             "#7201a8"
            ],
            [
             0.3333333333333333,
             "#9c179e"
            ],
            [
             0.4444444444444444,
             "#bd3786"
            ],
            [
             0.5555555555555556,
             "#d8576b"
            ],
            [
             0.6666666666666666,
             "#ed7953"
            ],
            [
             0.7777777777777778,
             "#fb9f3a"
            ],
            [
             0.8888888888888888,
             "#fdca26"
            ],
            [
             1,
             "#f0f921"
            ]
           ]
          },
          "colorway": [
           "#636efa",
           "#EF553B",
           "#00cc96",
           "#ab63fa",
           "#FFA15A",
           "#19d3f3",
           "#FF6692",
           "#B6E880",
           "#FF97FF",
           "#FECB52"
          ],
          "font": {
           "color": "#2a3f5f"
          },
          "geo": {
           "bgcolor": "white",
           "lakecolor": "white",
           "landcolor": "white",
           "showlakes": true,
           "showland": true,
           "subunitcolor": "#C8D4E3"
          },
          "hoverlabel": {
           "align": "left"
          },
          "hovermode": "closest",
          "mapbox": {
           "style": "light"
          },
          "paper_bgcolor": "white",
          "plot_bgcolor": "white",
          "polar": {
           "angularaxis": {
            "gridcolor": "#EBF0F8",
            "linecolor": "#EBF0F8",
            "ticks": ""
           },
           "bgcolor": "white",
           "radialaxis": {
            "gridcolor": "#EBF0F8",
            "linecolor": "#EBF0F8",
            "ticks": ""
           }
          },
          "scene": {
           "xaxis": {
            "backgroundcolor": "white",
            "gridcolor": "#DFE8F3",
            "gridwidth": 2,
            "linecolor": "#EBF0F8",
            "showbackground": true,
            "ticks": "",
            "zerolinecolor": "#EBF0F8"
           },
           "yaxis": {
            "backgroundcolor": "white",
            "gridcolor": "#DFE8F3",
            "gridwidth": 2,
            "linecolor": "#EBF0F8",
            "showbackground": true,
            "ticks": "",
            "zerolinecolor": "#EBF0F8"
           },
           "zaxis": {
            "backgroundcolor": "white",
            "gridcolor": "#DFE8F3",
            "gridwidth": 2,
            "linecolor": "#EBF0F8",
            "showbackground": true,
            "ticks": "",
            "zerolinecolor": "#EBF0F8"
           }
          },
          "shapedefaults": {
           "line": {
            "color": "#2a3f5f"
           }
          },
          "ternary": {
           "aaxis": {
            "gridcolor": "#DFE8F3",
            "linecolor": "#A2B1C6",
            "ticks": ""
           },
           "baxis": {
            "gridcolor": "#DFE8F3",
            "linecolor": "#A2B1C6",
            "ticks": ""
           },
           "bgcolor": "white",
           "caxis": {
            "gridcolor": "#DFE8F3",
            "linecolor": "#A2B1C6",
            "ticks": ""
           }
          },
          "title": {
           "x": 0.05
          },
          "xaxis": {
           "automargin": true,
           "gridcolor": "#EBF0F8",
           "linecolor": "#EBF0F8",
           "ticks": "",
           "title": {
            "standoff": 15
           },
           "zerolinecolor": "#EBF0F8",
           "zerolinewidth": 2
          },
          "yaxis": {
           "automargin": true,
           "gridcolor": "#EBF0F8",
           "linecolor": "#EBF0F8",
           "ticks": "",
           "title": {
            "standoff": 15
           },
           "zerolinecolor": "#EBF0F8",
           "zerolinewidth": 2
          }
         }
        },
        "title": {
         "text": "Route Computation Time Comparison"
        },
        "yaxis": {
         "title": {
          "text": "Time (seconds) log"
         },
         "type": "log"
        }
       }
      }
     },
     "metadata": {},
     "output_type": "display_data"
    }
   ],
   "source": [
    "fig = go.Figure(data=[\n",
    "    go.Bar(\n",
    "        x=['Random Route', 'Optimized Route'],\n",
    "        y=[4.48, 0.000757],\n",
    "        marker_color=['#121314', '#28B463'],\n",
    "        text=[f'{4.48:.2f}s', f'{0.000757:.6f}s'],\n",
    "        textposition='auto',\n",
    "    )\n",
    "])\n",
    "\n",
    "# Update layout\n",
    "fig.update_layout(\n",
    "    title='Route Computation Time Comparison',\n",
    "    yaxis_title='Time (seconds) log',\n",
    "    template='plotly_white',\n",
    "    showlegend=False,\n",
    "    yaxis_type='log'  # Log scaling needed for visualization\n",
    ")\n",
    "\n",
    "# Show figure\n",
    "fig.show()"
   ]
  },
  {
   "cell_type": "code",
   "execution_count": 20,
   "metadata": {},
   "outputs": [],
   "source": [
    "fig.write_html('computation_time_comparison.html')"
   ]
  }
 ],
 "metadata": {
  "kernelspec": {
   "display_name": "NY_SKI_RESORT",
   "language": "python",
   "name": "python3"
  },
  "language_info": {
   "codemirror_mode": {
    "name": "ipython",
    "version": 3
   },
   "file_extension": ".py",
   "mimetype": "text/x-python",
   "name": "python",
   "nbconvert_exporter": "python",
   "pygments_lexer": "ipython3",
   "version": "3.13.1"
  }
 },
 "nbformat": 4,
 "nbformat_minor": 2
}
